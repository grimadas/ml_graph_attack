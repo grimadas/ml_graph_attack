{
 "cells": [
  {
   "cell_type": "code",
   "execution_count": 1,
   "metadata": {},
   "outputs": [
    {
     "name": "stdout",
     "output_type": "stream",
     "text": [
      "Populating the interactive namespace from numpy and matplotlib\n"
     ]
    }
   ],
   "source": [
    "%pylab inline"
   ]
  },
  {
   "cell_type": "code",
   "execution_count": 2,
   "metadata": {
    "collapsed": true
   },
   "outputs": [],
   "source": [
    "import networkx as nx\n",
    "from networkx.drawing.nx_agraph import graphviz_layout\n",
    "import random\n",
    "import sklearn as sk\n",
    "from time import time\n",
    "import pickle"
   ]
  },
  {
   "cell_type": "code",
   "execution_count": 3,
   "metadata": {
    "collapsed": true
   },
   "outputs": [],
   "source": [
    "from sklearn.ensemble import RandomForestClassifier"
   ]
  },
  {
   "cell_type": "code",
   "execution_count": 4,
   "metadata": {
    "collapsed": true
   },
   "outputs": [],
   "source": [
    "from utils import calc_cc, calc_dist, calc_emd, number_of_fake_edges, read_mtx_graph"
   ]
  },
  {
   "cell_type": "code",
   "execution_count": 5,
   "metadata": {
    "collapsed": true
   },
   "outputs": [],
   "source": [
    "from rand_pert import rand_pertub, link_mirage, smart_link_anon, smart_pertub, calc_features"
   ]
  },
  {
   "cell_type": "code",
   "execution_count": 6,
   "metadata": {},
   "outputs": [
    {
     "name": "stdout",
     "output_type": "stream",
     "text": [
      "CPU times: user 700 ms, sys: 36 ms, total: 736 ms\n",
      "Wall time: 717 ms\n"
     ]
    }
   ],
   "source": [
    "%%time\n",
    "from_file = False\n",
    "#filename = \"data/p2p-Gnutella08/p2p-Gnutella08.mtx\"\n",
    "filename = \"data/ca-AstroPh/ca-AstroPh.mtx\"\n",
    "\n",
    "if from_file:\n",
    "    g = read_mtx_graph(filename)\n",
    "else:\n",
    "    #g = nx.erdos_renyi_graph(n=1000, p=0.1)\n",
    "    g = nx.powerlaw_cluster_graph(n=4000, m=30, p=0.1)\n",
    "\n"
   ]
  },
  {
   "cell_type": "code",
   "execution_count": 7,
   "metadata": {},
   "outputs": [
    {
     "name": "stdout",
     "output_type": "stream",
     "text": [
      "118825\n",
      "4000\n"
     ]
    }
   ],
   "source": [
    "print(g.number_of_edges())\n",
    "print(g.number_of_nodes())\n"
   ]
  },
  {
   "cell_type": "code",
   "execution_count": 8,
   "metadata": {},
   "outputs": [
    {
     "name": "stdout",
     "output_type": "stream",
     "text": [
      "118825\n",
      "4000\n"
     ]
    }
   ],
   "source": [
    "print(g.number_of_edges())\n",
    "print(g.number_of_nodes())\n"
   ]
  },
  {
   "cell_type": "code",
   "execution_count": null,
   "metadata": {},
   "outputs": [],
   "source": []
  },
  {
   "cell_type": "markdown",
   "metadata": {},
   "source": [
    "### Split the graph"
   ]
  },
  {
   "cell_type": "code",
   "execution_count": 9,
   "metadata": {
    "collapsed": true
   },
   "outputs": [],
   "source": [
    "from attack import *"
   ]
  },
  {
   "cell_type": "code",
   "execution_count": 10,
   "metadata": {
    "collapsed": true
   },
   "outputs": [],
   "source": [
    "alpha = 0.25"
   ]
  },
  {
   "cell_type": "code",
   "execution_count": 11,
   "metadata": {},
   "outputs": [
    {
     "name": "stdout",
     "output_type": "stream",
     "text": [
      "CPU times: user 756 ms, sys: 20 ms, total: 776 ms\n",
      "Wall time: 757 ms\n"
     ]
    }
   ],
   "source": [
    "%%time\n",
    "G1, G2 = edge_split(g, alpha)"
   ]
  },
  {
   "cell_type": "code",
   "execution_count": 14,
   "metadata": {},
   "outputs": [
    {
     "data": {
      "text/plain": [
       "3997"
      ]
     },
     "execution_count": 14,
     "metadata": {},
     "output_type": "execute_result"
    }
   ],
   "source": [
    "G1.number_of_nodes()"
   ]
  },
  {
   "cell_type": "code",
   "execution_count": null,
   "metadata": {},
   "outputs": [],
   "source": []
  },
  {
   "cell_type": "code",
   "execution_count": 12,
   "metadata": {
    "collapsed": true
   },
   "outputs": [],
   "source": [
    "M = 10\n",
    "t = 3"
   ]
  },
  {
   "cell_type": "code",
   "execution_count": 13,
   "metadata": {},
   "outputs": [
    {
     "name": "stdout",
     "output_type": "stream",
     "text": [
      "(35, ' ', 3998, ' not in feature list')\n",
      "3997\n"
     ]
    },
    {
     "ename": "NameError",
     "evalue": "global name 'exit' is not defined",
     "output_type": "error",
     "traceback": [
      "\u001b[0;31m---------------------------------------------------------------------------\u001b[0m",
      "\u001b[0;31mNameError\u001b[0m                                 Traceback (most recent call last)",
      "\u001b[0;32m<ipython-input-13-cf7df5bf1d20>\u001b[0m in \u001b[0;36m<module>\u001b[0;34m()\u001b[0m\n\u001b[0;32m----> 1\u001b[0;31m \u001b[0mget_ipython\u001b[0m\u001b[0;34m(\u001b[0m\u001b[0;34m)\u001b[0m\u001b[0;34m.\u001b[0m\u001b[0mrun_cell_magic\u001b[0m\u001b[0;34m(\u001b[0m\u001b[0;34mu'time'\u001b[0m\u001b[0;34m,\u001b[0m \u001b[0;34mu''\u001b[0m\u001b[0;34m,\u001b[0m \u001b[0;34mu'f = calc_features(G1)\\nG_aux = smart_link_anon(G1, M, t, 0.5, f)'\u001b[0m\u001b[0;34m)\u001b[0m\u001b[0;34m\u001b[0m\u001b[0m\n\u001b[0m",
      "\u001b[0;32m/home/hdalpha/.local/lib/python2.7/site-packages/IPython/core/interactiveshell.pyc\u001b[0m in \u001b[0;36mrun_cell_magic\u001b[0;34m(self, magic_name, line, cell)\u001b[0m\n\u001b[1;32m   2113\u001b[0m             \u001b[0mmagic_arg_s\u001b[0m \u001b[0;34m=\u001b[0m \u001b[0mself\u001b[0m\u001b[0;34m.\u001b[0m\u001b[0mvar_expand\u001b[0m\u001b[0;34m(\u001b[0m\u001b[0mline\u001b[0m\u001b[0;34m,\u001b[0m \u001b[0mstack_depth\u001b[0m\u001b[0;34m)\u001b[0m\u001b[0;34m\u001b[0m\u001b[0m\n\u001b[1;32m   2114\u001b[0m             \u001b[0;32mwith\u001b[0m \u001b[0mself\u001b[0m\u001b[0;34m.\u001b[0m\u001b[0mbuiltin_trap\u001b[0m\u001b[0;34m:\u001b[0m\u001b[0;34m\u001b[0m\u001b[0m\n\u001b[0;32m-> 2115\u001b[0;31m                 \u001b[0mresult\u001b[0m \u001b[0;34m=\u001b[0m \u001b[0mfn\u001b[0m\u001b[0;34m(\u001b[0m\u001b[0mmagic_arg_s\u001b[0m\u001b[0;34m,\u001b[0m \u001b[0mcell\u001b[0m\u001b[0;34m)\u001b[0m\u001b[0;34m\u001b[0m\u001b[0m\n\u001b[0m\u001b[1;32m   2116\u001b[0m             \u001b[0;32mreturn\u001b[0m \u001b[0mresult\u001b[0m\u001b[0;34m\u001b[0m\u001b[0m\n\u001b[1;32m   2117\u001b[0m \u001b[0;34m\u001b[0m\u001b[0m\n",
      "\u001b[0;32m<decorator-gen-59>\u001b[0m in \u001b[0;36mtime\u001b[0;34m(self, line, cell, local_ns)\u001b[0m\n",
      "\u001b[0;32m/home/hdalpha/.local/lib/python2.7/site-packages/IPython/core/magic.pyc\u001b[0m in \u001b[0;36m<lambda>\u001b[0;34m(f, *a, **k)\u001b[0m\n\u001b[1;32m    186\u001b[0m     \u001b[0;31m# but it's overkill for just that one bit of state.\u001b[0m\u001b[0;34m\u001b[0m\u001b[0;34m\u001b[0m\u001b[0m\n\u001b[1;32m    187\u001b[0m     \u001b[0;32mdef\u001b[0m \u001b[0mmagic_deco\u001b[0m\u001b[0;34m(\u001b[0m\u001b[0marg\u001b[0m\u001b[0;34m)\u001b[0m\u001b[0;34m:\u001b[0m\u001b[0;34m\u001b[0m\u001b[0m\n\u001b[0;32m--> 188\u001b[0;31m         \u001b[0mcall\u001b[0m \u001b[0;34m=\u001b[0m \u001b[0;32mlambda\u001b[0m \u001b[0mf\u001b[0m\u001b[0;34m,\u001b[0m \u001b[0;34m*\u001b[0m\u001b[0ma\u001b[0m\u001b[0;34m,\u001b[0m \u001b[0;34m**\u001b[0m\u001b[0mk\u001b[0m\u001b[0;34m:\u001b[0m \u001b[0mf\u001b[0m\u001b[0;34m(\u001b[0m\u001b[0;34m*\u001b[0m\u001b[0ma\u001b[0m\u001b[0;34m,\u001b[0m \u001b[0;34m**\u001b[0m\u001b[0mk\u001b[0m\u001b[0;34m)\u001b[0m\u001b[0;34m\u001b[0m\u001b[0m\n\u001b[0m\u001b[1;32m    189\u001b[0m \u001b[0;34m\u001b[0m\u001b[0m\n\u001b[1;32m    190\u001b[0m         \u001b[0;32mif\u001b[0m \u001b[0mcallable\u001b[0m\u001b[0;34m(\u001b[0m\u001b[0marg\u001b[0m\u001b[0;34m)\u001b[0m\u001b[0;34m:\u001b[0m\u001b[0;34m\u001b[0m\u001b[0m\n",
      "\u001b[0;32m/home/hdalpha/.local/lib/python2.7/site-packages/IPython/core/magics/execution.pyc\u001b[0m in \u001b[0;36mtime\u001b[0;34m(self, line, cell, local_ns)\u001b[0m\n\u001b[1;32m   1183\u001b[0m         \u001b[0;32melse\u001b[0m\u001b[0;34m:\u001b[0m\u001b[0;34m\u001b[0m\u001b[0m\n\u001b[1;32m   1184\u001b[0m             \u001b[0mst\u001b[0m \u001b[0;34m=\u001b[0m \u001b[0mclock2\u001b[0m\u001b[0;34m(\u001b[0m\u001b[0;34m)\u001b[0m\u001b[0;34m\u001b[0m\u001b[0m\n\u001b[0;32m-> 1185\u001b[0;31m             \u001b[0;32mexec\u001b[0m\u001b[0;34m(\u001b[0m\u001b[0mcode\u001b[0m\u001b[0;34m,\u001b[0m \u001b[0mglob\u001b[0m\u001b[0;34m,\u001b[0m \u001b[0mlocal_ns\u001b[0m\u001b[0;34m)\u001b[0m\u001b[0;34m\u001b[0m\u001b[0m\n\u001b[0m\u001b[1;32m   1186\u001b[0m             \u001b[0mend\u001b[0m \u001b[0;34m=\u001b[0m \u001b[0mclock2\u001b[0m\u001b[0;34m(\u001b[0m\u001b[0;34m)\u001b[0m\u001b[0;34m\u001b[0m\u001b[0m\n\u001b[1;32m   1187\u001b[0m             \u001b[0mout\u001b[0m \u001b[0;34m=\u001b[0m \u001b[0mNone\u001b[0m\u001b[0;34m\u001b[0m\u001b[0m\n",
      "\u001b[0;32m<timed exec>\u001b[0m in \u001b[0;36m<module>\u001b[0;34m()\u001b[0m\n",
      "\u001b[0;32m/home/hdalpha/ml_graph_attack/rand_pert.py\u001b[0m in \u001b[0;36msmart_link_anon\u001b[0;34m(G, M, t, p_val, f, w)\u001b[0m\n\u001b[1;32m    204\u001b[0m         \u001b[0mG_\u001b[0m \u001b[0;34m=\u001b[0m \u001b[0mnx\u001b[0m\u001b[0;34m.\u001b[0m\u001b[0msubgraph\u001b[0m\u001b[0;34m(\u001b[0m\u001b[0mG\u001b[0m\u001b[0;34m,\u001b[0m \u001b[0mlist_nodes\u001b[0m\u001b[0;34m)\u001b[0m\u001b[0;34m\u001b[0m\u001b[0m\n\u001b[1;32m    205\u001b[0m         \u001b[0mterm_edges\u001b[0m \u001b[0;34m=\u001b[0m \u001b[0mterm_edges\u001b[0m \u001b[0;34m-\u001b[0m \u001b[0mset\u001b[0m\u001b[0;34m(\u001b[0m\u001b[0mG_\u001b[0m\u001b[0;34m.\u001b[0m\u001b[0medges\u001b[0m\u001b[0;34m(\u001b[0m\u001b[0;34m)\u001b[0m\u001b[0;34m)\u001b[0m\u001b[0;34m\u001b[0m\u001b[0m\n\u001b[0;32m--> 206\u001b[0;31m         \u001b[0mG_anon_part\u001b[0m \u001b[0;34m=\u001b[0m \u001b[0msmart_pertub\u001b[0m\u001b[0;34m(\u001b[0m\u001b[0mG_\u001b[0m\u001b[0;34m,\u001b[0m \u001b[0mM\u001b[0m\u001b[0;34m,\u001b[0m \u001b[0mt\u001b[0m\u001b[0;34m,\u001b[0m \u001b[0mp_val\u001b[0m\u001b[0;34m,\u001b[0m \u001b[0mf\u001b[0m\u001b[0;34m,\u001b[0m \u001b[0mcache\u001b[0m\u001b[0;34m,\u001b[0m \u001b[0mw\u001b[0m\u001b[0;34m)\u001b[0m\u001b[0;34m\u001b[0m\u001b[0m\n\u001b[0m\u001b[1;32m    207\u001b[0m         \u001b[0mG_san\u001b[0m \u001b[0;34m=\u001b[0m \u001b[0mnx\u001b[0m\u001b[0;34m.\u001b[0m\u001b[0mcompose\u001b[0m\u001b[0;34m(\u001b[0m\u001b[0mG_san\u001b[0m\u001b[0;34m,\u001b[0m \u001b[0mG_anon_part\u001b[0m\u001b[0;34m)\u001b[0m\u001b[0;34m\u001b[0m\u001b[0m\n\u001b[1;32m    208\u001b[0m     \u001b[0;31m# Get marginal nodes\u001b[0m\u001b[0;34m\u001b[0m\u001b[0;34m\u001b[0m\u001b[0m\n",
      "\u001b[0;32m/home/hdalpha/ml_graph_attack/rand_pert.py\u001b[0m in \u001b[0;36msmart_pertub\u001b[0;34m(G, M, t, p_val, f, cache, w)\u001b[0m\n\u001b[1;32m    114\u001b[0m                     ((k, diff(f, v, k, w))\n\u001b[1;32m    115\u001b[0m                      for k in sh_paths.keys()),\n\u001b[0;32m--> 116\u001b[0;31m                     \u001b[0mreverse\u001b[0m\u001b[0;34m=\u001b[0m\u001b[0mFalse\u001b[0m\u001b[0;34m,\u001b[0m \u001b[0mkey\u001b[0m\u001b[0;34m=\u001b[0m\u001b[0;32mlambda\u001b[0m \u001b[0mx\u001b[0m\u001b[0;34m:\u001b[0m \u001b[0mx\u001b[0m\u001b[0;34m[\u001b[0m\u001b[0;36m1\u001b[0m\u001b[0;34m]\u001b[0m\u001b[0;34m\u001b[0m\u001b[0m\n\u001b[0m\u001b[1;32m    117\u001b[0m                 )[:N])\n\u001b[1;32m    118\u001b[0m                 \u001b[0;32massert\u001b[0m\u001b[0;34m(\u001b[0m\u001b[0mlen\u001b[0m\u001b[0;34m(\u001b[0m\u001b[0mz\u001b[0m\u001b[0;34m)\u001b[0m\u001b[0;34m>\u001b[0m\u001b[0;36m1\u001b[0m\u001b[0;34m)\u001b[0m\u001b[0;34m\u001b[0m\u001b[0m\n",
      "\u001b[0;32m/home/hdalpha/ml_graph_attack/rand_pert.py\u001b[0m in \u001b[0;36m<genexpr>\u001b[0;34m((k,))\u001b[0m\n\u001b[1;32m    113\u001b[0m                 z = choice(sorted(\n\u001b[1;32m    114\u001b[0m                     ((k, diff(f, v, k, w))\n\u001b[0;32m--> 115\u001b[0;31m                      for k in sh_paths.keys()),\n\u001b[0m\u001b[1;32m    116\u001b[0m                     \u001b[0mreverse\u001b[0m\u001b[0;34m=\u001b[0m\u001b[0mFalse\u001b[0m\u001b[0;34m,\u001b[0m \u001b[0mkey\u001b[0m\u001b[0;34m=\u001b[0m\u001b[0;32mlambda\u001b[0m \u001b[0mx\u001b[0m\u001b[0;34m:\u001b[0m \u001b[0mx\u001b[0m\u001b[0;34m[\u001b[0m\u001b[0;36m1\u001b[0m\u001b[0;34m]\u001b[0m\u001b[0;34m\u001b[0m\u001b[0m\n\u001b[1;32m    117\u001b[0m                 )[:N])\n",
      "\u001b[0;32m/home/hdalpha/ml_graph_attack/rand_pert.py\u001b[0m in \u001b[0;36mdiff\u001b[0;34m(f, u, v, w)\u001b[0m\n\u001b[1;32m     61\u001b[0m         \u001b[0;32mprint\u001b[0m\u001b[0;34m(\u001b[0m\u001b[0mu\u001b[0m\u001b[0;34m,\u001b[0m \u001b[0;34m\" \"\u001b[0m\u001b[0;34m,\u001b[0m\u001b[0mv\u001b[0m\u001b[0;34m,\u001b[0m \u001b[0;34m\" not in feature list\"\u001b[0m\u001b[0;34m)\u001b[0m\u001b[0;34m\u001b[0m\u001b[0m\n\u001b[1;32m     62\u001b[0m         \u001b[0;32mprint\u001b[0m\u001b[0;34m(\u001b[0m\u001b[0mlen\u001b[0m\u001b[0;34m(\u001b[0m\u001b[0mf\u001b[0m\u001b[0;34m)\u001b[0m\u001b[0;34m)\u001b[0m\u001b[0;34m\u001b[0m\u001b[0m\n\u001b[0;32m---> 63\u001b[0;31m         \u001b[0mexit\u001b[0m\u001b[0;34m(\u001b[0m\u001b[0;34m-\u001b[0m\u001b[0;36m1\u001b[0m\u001b[0;34m)\u001b[0m\u001b[0;34m\u001b[0m\u001b[0m\n\u001b[0m\u001b[1;32m     64\u001b[0m     \u001b[0;32mif\u001b[0m \u001b[0mw\u001b[0m \u001b[0;32mis\u001b[0m \u001b[0mNone\u001b[0m\u001b[0;34m:\u001b[0m\u001b[0;34m\u001b[0m\u001b[0m\n\u001b[1;32m     65\u001b[0m         \u001b[0mw\u001b[0m \u001b[0;34m=\u001b[0m \u001b[0;34m[\u001b[0m\u001b[0;36m1.0\u001b[0m \u001b[0;32mfor\u001b[0m \u001b[0mk\u001b[0m \u001b[0;32min\u001b[0m \u001b[0mrange\u001b[0m\u001b[0;34m(\u001b[0m\u001b[0mlen\u001b[0m\u001b[0;34m(\u001b[0m\u001b[0mf1\u001b[0m\u001b[0;34m)\u001b[0m\u001b[0;34m)\u001b[0m\u001b[0;34m]\u001b[0m\u001b[0;34m\u001b[0m\u001b[0m\n",
      "\u001b[0;31mNameError\u001b[0m: global name 'exit' is not defined"
     ]
    }
   ],
   "source": [
    "%%time\n",
    "f = calc_features(G1)\n",
    "G_aux = smart_link_anon(G1, M, t, 0.5, f)"
   ]
  },
  {
   "cell_type": "code",
   "execution_count": 68,
   "metadata": {},
   "outputs": [
    {
     "name": "stdout",
     "output_type": "stream",
     "text": [
      "CPU times: user 2.09 s, sys: 32 ms, total: 2.12 s\n",
      "Wall time: 2.09 s\n"
     ]
    }
   ],
   "source": [
    "%%time\n",
    "f = calc_features(G2)\n",
    "G_san = smart_link_anon(G2, M, t, 0.5, f)"
   ]
  },
  {
   "cell_type": "code",
   "execution_count": 40,
   "metadata": {},
   "outputs": [
    {
     "name": "stdout",
     "output_type": "stream",
     "text": [
      "('Originial edges ', 15439, ' Now edges ', 9563)\n",
      "% of fake edges\n",
      "0.26811669978\n",
      "% of distortion\n",
      "1.16607293218\n",
      " EMD of deg distibution\n",
      "11.7543336875\n",
      " CC diff\n",
      "0.0284202205689\n",
      "('Originial edges ', 21325, ' Now edges ', 13236)\n",
      "% of fake edges\n",
      "0.317618615896\n",
      "% of distortion\n",
      "1.19713950762\n",
      " EMD of deg distibution\n",
      "16.1790759731\n",
      " CC diff\n",
      "0.0166645595135\n"
     ]
    }
   ],
   "source": [
    "print(\"Originial edges \", G1.number_of_edges(), \" Now edges \", G_aux.number_of_edges())\n",
    "print(\"% of fake edges\")\n",
    "print(number_of_fake_edges(G1, G_aux))\n",
    "print(\"% of distortion\")\n",
    "print(calc_dist(G1, G_aux))\n",
    "print(\" EMD of deg distibution\")\n",
    "print(calc_emd(G1, G_aux))\n",
    "print(\" CC diff\")\n",
    "print(calc_cc(G1, G_aux))\n",
    "\n",
    "print(\"Originial edges \", G2.number_of_edges(), \" Now edges \", G_san.number_of_edges())\n",
    "print(\"% of fake edges\")\n",
    "print(number_of_fake_edges(G2, G_san))\n",
    "print(\"% of distortion\")\n",
    "print(calc_dist(G2, G_san))\n",
    "print(\" EMD of deg distibution\")\n",
    "print(calc_emd(G2, G_san))\n",
    "print(\" CC diff\")\n",
    "print(calc_cc(G2, G_san))\n"
   ]
  },
  {
   "cell_type": "code",
   "execution_count": null,
   "metadata": {
    "collapsed": true
   },
   "outputs": [],
   "source": []
  },
  {
   "cell_type": "code",
   "execution_count": null,
   "metadata": {
    "collapsed": true
   },
   "outputs": [],
   "source": []
  },
  {
   "cell_type": "code",
   "execution_count": 24,
   "metadata": {},
   "outputs": [
    {
     "name": "stdout",
     "output_type": "stream",
     "text": [
      "CPU times: user 5.06 s, sys: 24 ms, total: 5.08 s\n",
      "Wall time: 5.04 s\n"
     ]
    }
   ],
   "source": [
    "%%time\n",
    "G_aux = smart_pertub(G1, M, t, 0.44, f, cache)"
   ]
  },
  {
   "cell_type": "code",
   "execution_count": 25,
   "metadata": {},
   "outputs": [
    {
     "name": "stdout",
     "output_type": "stream",
     "text": [
      "CPU times: user 7.24 s, sys: 16 ms, total: 7.26 s\n",
      "Wall time: 7.22 s\n"
     ]
    }
   ],
   "source": [
    "%%time\n",
    "cache = {}\n",
    "f = calc_features(G2)\n",
    "G_san = smart_pertub(G2, M, t, 0.44, f, cache)"
   ]
  },
  {
   "cell_type": "code",
   "execution_count": 32,
   "metadata": {},
   "outputs": [
    {
     "name": "stdout",
     "output_type": "stream",
     "text": [
      "('Originial edges ', 15423, ' Now edges ', 13569)\n",
      "% of fake edges\n",
      "0.886211216744\n",
      "% of distortion\n",
      "1.77967969915\n",
      " EMD of deg distibution\n",
      "6.17572323844\n",
      " CC diff\n",
      "0.0598829019247\n",
      "('Originial edges ', 21246, ' Now edges ', 18790)\n",
      "% of fake edges\n",
      "0.923629590208\n",
      "% of distortion\n",
      "1.81685964417\n",
      " EMD of deg distibution\n",
      "5.76138723634\n",
      " CC diff\n",
      "0.0124871524119\n"
     ]
    }
   ],
   "source": [
    "print(\"Originial edges \", G1.number_of_edges(), \" Now edges \", G_aux.number_of_edges())\n",
    "print(\"% of fake edges\")\n",
    "print(number_of_fake_edges(G1, G_aux))\n",
    "print(\"% of distortion\")\n",
    "print(calc_dist(G1, G_aux))\n",
    "print(\" EMD of deg distibution\")\n",
    "print(calc_emd(G1, G_aux))\n",
    "print(\" CC diff\")\n",
    "print(calc_cc(G1, G_aux))\n",
    "\n",
    "print(\"Originial edges \", G2.number_of_edges(), \" Now edges \", G_san.number_of_edges())\n",
    "print(\"% of fake edges\")\n",
    "print(number_of_fake_edges(G2, G_san))\n",
    "print(\"% of distortion\")\n",
    "print(calc_dist(G2, G_san))\n",
    "print(\" EMD of deg distibution\")\n",
    "print(calc_emd(G2, G_san))\n",
    "print(\" CC diff\")\n",
    "print(calc_cc(G2, G_san))\n"
   ]
  },
  {
   "cell_type": "code",
   "execution_count": 17,
   "metadata": {},
   "outputs": [
    {
     "name": "stdout",
     "output_type": "stream",
     "text": [
      "('Originial edges ', 15423, ' Now edges ', 13542)\n",
      "% of fake edges\n",
      "0.883399793236\n",
      "% of distortion\n",
      "1.77565972898\n",
      " EMD of deg distibution\n",
      "6.21981148362\n",
      " CC diff\n",
      "0.0691003615957\n"
     ]
    }
   ],
   "source": [
    "print(\"Originial edges \", G1.number_of_edges(), \" Now edges \", G_aux.number_of_edges())\n",
    "print(\"% of fake edges\")\n",
    "print(number_of_fake_edges(G1, G_aux))\n",
    "print(\"% of distortion\")\n",
    "print(calc_dist(G1, G_aux))\n",
    "print(\" EMD of deg distibution\")\n",
    "print(calc_emd(G1, G_aux))\n",
    "print(\" CC diff\")\n",
    "print(calc_cc(G1, G_aux))"
   ]
  },
  {
   "cell_type": "code",
   "execution_count": 13,
   "metadata": {},
   "outputs": [
    {
     "name": "stdout",
     "output_type": "stream",
     "text": [
      "('Originial edges ', 15423, ' Now edges ', 15479)\n",
      "% of fake edges\n",
      "0.88351960721\n",
      "% of distortion\n",
      "1.8867276146\n",
      " EMD of deg distibution\n",
      "6.95954603081\n",
      " CC diff\n",
      "0.0791357967126\n"
     ]
    }
   ],
   "source": [
    "print(\"Originial edges \", G1.number_of_edges(), \" Now edges \", G_aux.number_of_edges())\n",
    "print(\"% of fake edges\")\n",
    "print(number_of_fake_edges(G1, G_aux))\n",
    "print(\"% of distortion\")\n",
    "print(calc_dist(G1, G_aux))\n",
    "print(\" EMD of deg distibution\")\n",
    "print(calc_emd(G1, G_aux))\n",
    "print(\" CC diff\")\n",
    "print(calc_cc(G1, G_aux))\n",
    "\n"
   ]
  },
  {
   "cell_type": "code",
   "execution_count": 15,
   "metadata": {},
   "outputs": [
    {
     "ename": "IndentationError",
     "evalue": "unexpected indent (<ipython-input-15-8f8816763029>, line 2)",
     "output_type": "error",
     "traceback": [
      "\u001b[0;36m  File \u001b[0;32m\"<ipython-input-15-8f8816763029>\"\u001b[0;36m, line \u001b[0;32m2\u001b[0m\n\u001b[0;31m    print(number_of_fake_edges(G1, G_aux))\u001b[0m\n\u001b[0m    ^\u001b[0m\n\u001b[0;31mIndentationError\u001b[0m\u001b[0;31m:\u001b[0m unexpected indent\n"
     ]
    }
   ],
   "source": [
    "print(\"% of fake edges\")\n",
    "print(number_of_fake_edges(G1, G_aux))"
   ]
  },
  {
   "cell_type": "code",
   "execution_count": null,
   "metadata": {
    "collapsed": true
   },
   "outputs": [],
   "source": []
  },
  {
   "cell_type": "code",
   "execution_count": 15,
   "metadata": {},
   "outputs": [
    {
     "name": "stdout",
     "output_type": "stream",
     "text": [
      "('Originial edges ', 15542, ' Now edges ', 7813)\n",
      "% of fake edges\n",
      "0.77102265455\n",
      "0.826867937258\n",
      "% of distortion\n",
      "1.38759490413\n",
      "1.45568620161\n",
      " EMD of deg distibution\n",
      "15.4687015091\n",
      "19.3193143654\n",
      " CC diff\n",
      "0.13959148788\n",
      "0.119753038368\n",
      "('Originial edges ', 15542, ' Now edges ', 8211)\n",
      "% of fake edges\n",
      "0.617951528437\n",
      "0.708407116958\n",
      "% of distortion\n",
      "1.32647020975\n",
      "1.39043546963\n",
      " EMD of deg distibution\n",
      "14.67012637\n",
      "19.3217988816\n",
      " CC diff\n",
      "0.192982988129\n",
      "0.117423120829\n",
      "('Originial edges ', 15542, ' Now edges ', 8295)\n",
      "% of fake edges\n",
      "0.759252561784\n",
      "0.817481807412\n",
      "% of distortion\n",
      "1.40522455282\n",
      "1.44899381884\n",
      " EMD of deg distibution\n",
      "14.5141210241\n",
      "19.3989155578\n",
      " CC diff\n",
      "0.152820847901\n",
      "0.11809752932\n",
      "('Originial edges ', 15542, ' Now edges ', 8288)\n",
      "% of fake edges\n",
      "0.706563706564\n",
      "0.793053790767\n",
      "% of distortion\n",
      "1.37678548449\n",
      "1.43509782962\n",
      " EMD of deg distibution\n",
      "14.5136839596\n",
      "19.4276780451\n",
      " CC diff\n",
      "0.189678810776\n",
      "0.120286206538\n",
      "('Originial edges ', 15542, ' Now edges ', 8195)\n",
      "% of fake edges\n",
      "0.754728492984\n",
      "0.813117244872\n",
      "% of distortion\n",
      "1.39795393128\n",
      "1.44769252219\n",
      " EMD of deg distibution\n",
      "14.720202334\n",
      "19.3409924836\n",
      " CC diff\n",
      "0.171704378245\n",
      "0.11743745564\n",
      "('Originial edges ', 15542, ' Now edges ', 8231)\n",
      "% of fake edges\n",
      "0.738427894545\n",
      "0.810123373331\n",
      "% of distortion\n",
      "1.39106936044\n",
      "1.4455546777\n",
      " EMD of deg distibution\n",
      "14.641236985\n",
      "19.3672389131\n",
      " CC diff\n",
      "0.187799709868\n",
      "0.123041670289\n",
      "('Originial edges ', 15542, ' Now edges ', 8262)\n",
      "% of fake edges\n",
      "0.747276688453\n",
      "0.814571211738\n",
      "% of distortion\n",
      "1.39724617166\n",
      "1.44894734396\n",
      " EMD of deg distibution\n",
      "14.5712896127\n",
      "19.3183807511\n",
      " CC diff\n",
      "0.17255968764\n",
      "0.115071635399\n",
      "('Originial edges ', 15542, ' Now edges ', 8235)\n",
      "% of fake edges\n",
      "0.735154826958\n",
      "0.810858885313\n",
      "% of distortion\n",
      "1.38952515764\n",
      "1.44490402937\n",
      " EMD of deg distibution\n",
      "14.6265038467\n",
      "19.4232960694\n",
      " CC diff\n",
      "0.187633598389\n",
      "0.119973831168\n",
      "CPU times: user 33.3 s, sys: 632 ms, total: 33.9 s\n",
      "Wall time: 32.8 s\n"
     ]
    }
   ],
   "source": [
    "%%time\n",
    "for t in range(2,10):\n",
    "    G_aux = link_mirage(G1, M, t, 0.99)\n",
    "    G_san = link_mirage(G2, M, t, 0.99)\n",
    "\n",
    "    print(\"Originial edges \", G1.number_of_edges(), \" Now edges \", G_aux.number_of_edges())\n",
    "\n",
    "    print(\"% of fake edges\")\n",
    "    print(number_of_fake_edges(G1, G_aux))\n",
    "    print(number_of_fake_edges(G2, G_san))\n",
    "\n",
    "    print(\"% of distortion\")\n",
    "    print(calc_dist(G1, G_aux))\n",
    "    print(calc_dist(G2, G_san))\n",
    "    \n",
    "    print(\" EMD of deg distibution\")\n",
    "    print(calc_emd(G1, G_aux))\n",
    "    print(calc_emd(G2, G_san))\n",
    "    \n",
    "    print(\" CC diff\")\n",
    "    print(calc_cc(G1, G_aux))\n",
    "    print(calc_cc(G1, G_san))\n",
    "\n"
   ]
  },
  {
   "cell_type": "code",
   "execution_count": 19,
   "metadata": {},
   "outputs": [
    {
     "name": "stdout",
     "output_type": "stream",
     "text": [
      "Dataset is generating ... \n",
      "Start adding positive examples\n",
      "Finished : 0\n",
      "Finished : 0\n",
      "Finished : 0\n",
      "Finished : 0\n",
      "Finished : 0\n",
      "Finished : 0\n",
      "Finished : 0\n",
      "Finished : 0\n",
      "Finished : 0\n",
      "Finished : 0\n",
      "Start adding false examples\n",
      "Finished : 0\n",
      "Finished : 0\n",
      "Finished : 0\n",
      "Finished : 0\n",
      "Finished : 0\n",
      "Finished : 0\n",
      "Finished : 0\n",
      "Finished : 0\n",
      "Finished : 0\n",
      "Finished : 0\n",
      "Finished : 0\n",
      "Aux finished 21.0361759663 sec\n",
      "Start adding positive examples\n",
      "Finished : 0\n",
      "Finished : 0\n",
      "Finished : 0\n",
      "Finished : 0\n",
      "Finished : 0\n",
      "Finished : 0\n",
      "Finished : 0\n",
      "Finished : 0\n",
      "Finished : 0\n",
      "Finished : 0\n",
      "Start adding false examples\n",
      "Finished : 0\n",
      "Finished : 0\n",
      "Finished : 0\n",
      "Finished : 0\n",
      "Finished : 0\n",
      "Finished : 0\n",
      "Finished : 0\n",
      "Finished : 0\n",
      "Finished : 0\n",
      "Finished : 0\n",
      "Finished : 0\n",
      "San finished 34.5330729485 sec\n"
     ]
    }
   ],
   "source": [
    "X_naive, Y_naive = gen_trainset(G1, G2, alpha, \"data/train_naive.dump\")"
   ]
  },
  {
   "cell_type": "code",
   "execution_count": 41,
   "metadata": {},
   "outputs": [
    {
     "name": "stdout",
     "output_type": "stream",
     "text": [
      "Dataset is generating ... \n",
      "Start adding positive examples\n",
      "Finished : 0.0997821350763\n",
      "Finished : 0.199564270153\n",
      "Finished : 0.299346405229\n",
      "Finished : 0.399128540305\n",
      "Finished : 0.498910675381\n",
      "Finished : 0.598692810458\n",
      "Finished : 0.698474945534\n",
      "Finished : 0.79825708061\n",
      "Finished : 0.898039215686\n",
      "Finished : 0.997821350763\n",
      "Start adding false examples\n",
      "Finished : 0.0\n",
      "Finished : 0.0994152046784\n",
      "Finished : 0.198830409357\n",
      "Finished : 0.298245614035\n",
      "Finished : 0.397660818713\n",
      "Finished : 0.497076023392\n",
      "Finished : 0.59649122807\n",
      "Finished : 0.695906432749\n",
      "Finished : 0.795321637427\n",
      "Finished : 0.894736842105\n",
      "Finished : 0.994152046784\n",
      "Aux finished 5.66770291328 sec\n",
      "Start adding positive examples\n",
      "Finished : 0.0999687597626\n",
      "Finished : 0.199937519525\n",
      "Finished : 0.299906279288\n",
      "Finished : 0.39987503905\n",
      "Finished : 0.499843798813\n",
      "Finished : 0.599812558575\n",
      "Finished : 0.699781318338\n",
      "Finished : 0.799750078101\n",
      "Finished : 0.899718837863\n",
      "Finished : 0.999687597626\n",
      "Start adding false examples\n",
      "Finished : 0.0\n",
      "Finished : 0.0996818663839\n",
      "Finished : 0.199363732768\n",
      "Finished : 0.299045599152\n",
      "Finished : 0.398727465536\n",
      "Finished : 0.498409331919\n",
      "Finished : 0.598091198303\n",
      "Finished : 0.697773064687\n",
      "Finished : 0.797454931071\n",
      "Finished : 0.897136797455\n",
      "Finished : 0.996818663839\n",
      "San finished 9.32091903687 sec\n"
     ]
    }
   ],
   "source": [
    "X, Y = gen_trainset(G_aux, G_san, alpha, \"data/train.dump\")"
   ]
  },
  {
   "cell_type": "code",
   "execution_count": 42,
   "metadata": {},
   "outputs": [
    {
     "name": "stdout",
     "output_type": "stream",
     "text": [
      "CPU times: user 3.72 s, sys: 72 ms, total: 3.8 s\n",
      "Wall time: 1.87 s\n"
     ]
    }
   ],
   "source": [
    "%%time\n",
    "forest = RandomForestClassifier(n_estimators = 400, n_jobs=8)\n",
    "forest.fit(X, Y)"
   ]
  },
  {
   "cell_type": "code",
   "execution_count": 43,
   "metadata": {},
   "outputs": [
    {
     "name": "stdout",
     "output_type": "stream",
     "text": [
      "Dataset is generating ... \n",
      "Start adding positive examples\n",
      "Finished : 0.0997495826377\n",
      "Finished : 0.199499165275\n",
      "Finished : 0.299248747913\n",
      "Finished : 0.398998330551\n",
      "Finished : 0.498747913189\n",
      "Finished : 0.598497495826\n",
      "Finished : 0.698247078464\n",
      "Finished : 0.797996661102\n",
      "Finished : 0.89774624374\n",
      "Finished : 0.997495826377\n",
      "Start adding false examples\n",
      "Finished : 0.0\n",
      "Finished : 0.0997495826377\n",
      "Finished : 0.199499165275\n",
      "Finished : 0.299248747913\n",
      "Finished : 0.398998330551\n",
      "Finished : 0.498747913189\n",
      "Finished : 0.598497495826\n",
      "Finished : 0.698247078464\n",
      "Finished : 0.797996661102\n",
      "Finished : 0.89774624374\n",
      "Finished : 0.997495826377\n",
      "Test set generated in  34.0687160492 sec\n"
     ]
    }
   ],
   "source": [
    "X_t, Y_t = gen_testset(G_aux, G_san, \"data/test_test.dump\")"
   ]
  },
  {
   "cell_type": "code",
   "execution_count": 21,
   "metadata": {},
   "outputs": [
    {
     "name": "stdout",
     "output_type": "stream",
     "text": [
      "Dataset is generating ... \n",
      "Start adding positive examples\n",
      "Finished : 0\n",
      "Finished : 0\n",
      "Finished : 0\n",
      "Finished : 0\n",
      "Finished : 0\n",
      "Finished : 0\n",
      "Finished : 0\n",
      "Finished : 0\n",
      "Finished : 0\n",
      "Finished : 0\n",
      "Start adding false examples\n",
      "Finished : 0\n",
      "Finished : 0\n",
      "Finished : 0\n",
      "Finished : 0\n",
      "Finished : 0\n",
      "Finished : 0\n",
      "Finished : 0\n",
      "Finished : 0\n",
      "Finished : 0\n",
      "Finished : 0\n",
      "Finished : 0\n",
      "Test set generated in  299.437201023 sec\n"
     ]
    }
   ],
   "source": [
    "X_t_naive, Y_t_naive = gen_testset(G1, G2, \"data/test_test_naive.dump\")"
   ]
  },
  {
   "cell_type": "code",
   "execution_count": 24,
   "metadata": {},
   "outputs": [
    {
     "name": "stdout",
     "output_type": "stream",
     "text": [
      "Anonymization\n",
      "0.52027027027\n",
      "Naive:\n",
      "0.866073730343\n",
      "CPU times: user 9.91 s, sys: 212 ms, total: 10.1 s\n",
      "Wall time: 4.79 s\n"
     ]
    }
   ],
   "source": [
    "%%time\n",
    "\n",
    "forest = RandomForestClassifier(n_estimators = 400, n_jobs=8)\n",
    "print(\"Naive:\")\n",
    "forest.fit(X_naive, Y_naive)\n",
    "print(forest.score(X_t_naive, Y_t_naive))"
   ]
  },
  {
   "cell_type": "code",
   "execution_count": null,
   "metadata": {
    "collapsed": true
   },
   "outputs": [],
   "source": []
  },
  {
   "cell_type": "code",
   "execution_count": 31,
   "metadata": {
    "collapsed": true
   },
   "outputs": [],
   "source": [
    "from sklearn.metrics import roc_curve, auc\n",
    "y_score = forest.predict_proba(X_t_naive)\n",
    "y_true = Y_t_naive\n",
    "fpr, tpr, thresholds = roc_curve(y_true, y_score[:, 1])\n",
    "roc_auc = auc(fpr, tpr)"
   ]
  },
  {
   "cell_type": "code",
   "execution_count": 32,
   "metadata": {},
   "outputs": [
    {
     "data": {
      "image/png": "[encoded data removed]",
      "text/plain": [
       "<matplotlib.figure.Figure at 0x7f51b2f01d90>"
      ]
     },
     "metadata": {},
     "output_type": "display_data"
    }
   ],
   "source": [
    "plt.title('Receiver Operating Characteristic')\n",
    "plt.plot(fpr, tpr, 'b',\n",
    "label='GS, AUC = %0.2f'% roc_auc)\n",
    "plt.legend(loc='lower right')\n",
    "plt.plot([0,1],[0,1],'r--')\n",
    "plt.xlim([-0.1,1.2])\n",
    "plt.ylim([-0.1,1.2])\n",
    "plt.ylabel('True Positive Rate')\n",
    "plt.xlabel('False Positive Rate')\n",
    "plt.show()"
   ]
  },
  {
   "cell_type": "code",
   "execution_count": 33,
   "metadata": {},
   "outputs": [
    {
     "name": "stdout",
     "output_type": "stream",
     "text": [
      "Anonymization\n",
      "0.510135135135\n"
     ]
    }
   ],
   "source": [
    "%%time\n",
    "forest = RandomForestClassifier(n_estimators = 400, n_jobs=8)\n",
    "forest.fit(X, Y)\n",
    "print(\"Anonymization\")\n",
    "print(forest.score(X_t, Y_t))"
   ]
  },
  {
   "cell_type": "code",
   "execution_count": 29,
   "metadata": {},
   "outputs": [
    {
     "name": "stdout",
     "output_type": "stream",
     "text": [
      "Anonymization\n",
      "0.626257545272\n",
      "CPU times: user 5.7 s, sys: 120 ms, total: 5.82 s\n",
      "Wall time: 2.38 s\n"
     ]
    }
   ],
   "source": [
    "%%time\n",
    "forest = RandomForestClassifier(n_estimators = 400, n_jobs=8)\n",
    "forest.fit(X, Y)\n",
    "print(\"Anonymization\")\n",
    "print(forest.score(X_t, Y_t))"
   ]
  },
  {
   "cell_type": "code",
   "execution_count": 34,
   "metadata": {},
   "outputs": [
    {
     "name": "stdout",
     "output_type": "stream",
     "text": [
      "Anonymization\n",
      "0.651633349586\n",
      "CPU times: user 6.73 s, sys: 136 ms, total: 6.86 s\n",
      "Wall time: 2.83 s\n"
     ]
    }
   ],
   "source": [
    "%%time\n",
    "forest = RandomForestClassifier(n_estimators = 400, n_jobs=8)\n",
    "forest.fit(X, Y)\n",
    "print(\"Anonymization\")\n",
    "print(forest.score(X_t, Y_t))"
   ]
  },
  {
   "cell_type": "code",
   "execution_count": 48,
   "metadata": {},
   "outputs": [
    {
     "name": "stdout",
     "output_type": "stream",
     "text": [
      "Anonymization\n",
      "0.528589315526\n",
      "CPU times: user 4.14 s, sys: 112 ms, total: 4.25 s\n",
      "Wall time: 2.05 s\n"
     ]
    }
   ],
   "source": [
    "%%time\n",
    "# Smart link 0.5\n",
    "forest = RandomForestClassifier(n_estimators = 400, n_jobs=8)\n",
    "forest.fit(X, Y)\n",
    "print(\"Anonymization\")\n",
    "print(forest.score(X_t, Y_t))"
   ]
  },
  {
   "cell_type": "code",
   "execution_count": null,
   "metadata": {
    "collapsed": true
   },
   "outputs": [],
   "source": []
  },
  {
   "cell_type": "code",
   "execution_count": null,
   "metadata": {
    "collapsed": true
   },
   "outputs": [],
   "source": []
  },
  {
   "cell_type": "code",
   "execution_count": 49,
   "metadata": {
    "collapsed": true
   },
   "outputs": [],
   "source": [
    "from sklearn.metrics import roc_curve, auc\n",
    "y_score = forest.predict_proba(X_t)\n",
    "y_true = Y_t\n",
    "fpr, tpr, thresholds = roc_curve(y_true, y_score[:, 1])\n",
    "roc_auc = auc(fpr, tpr)"
   ]
  },
  {
   "cell_type": "code",
   "execution_count": 35,
   "metadata": {},
   "outputs": [
    {
     "data": {
      "image/png": "[encoded data removed]",
      "text/plain": [
       "<matplotlib.figure.Figure at 0x7f51b2d9b850>"
      ]
     },
     "metadata": {},
     "output_type": "display_data"
    }
   ],
   "source": [
    "plt.title('Receiver Operating Characteristic')\n",
    "plt.plot(fpr, tpr, 'b',\n",
    "label='GS, AUC = %0.2f'% roc_auc)\n",
    "plt.legend(loc='lower right')\n",
    "plt.plot([0,1],[0,1],'r--')\n",
    "plt.xlim([-0.1,1.2])\n",
    "plt.ylim([-0.1,1.2])\n",
    "plt.ylabel('True Positive Rate')\n",
    "plt.xlabel('False Positive Rate')\n",
    "plt.show()"
   ]
  },
  {
   "cell_type": "code",
   "execution_count": 31,
   "metadata": {},
   "outputs": [
    {
     "data": {
      "image/png": "[encoded data removed]",
      "text/plain": [
       "<matplotlib.figure.Figure at 0x7f69617fe710>"
      ]
     },
     "metadata": {},
     "output_type": "display_data"
    }
   ],
   "source": [
    "# Smart pertubation\n",
    "plt.title('Receiver Operating Characteristic')\n",
    "plt.plot(fpr, tpr, 'b',\n",
    "label='GS, AUC = %0.2f'% roc_auc)\n",
    "plt.legend(loc='lower right')\n",
    "plt.plot([0,1],[0,1],'r--')\n",
    "plt.xlim([-0.1,1.2])\n",
    "plt.ylim([-0.1,1.2])\n",
    "plt.ylabel('True Positive Rate')\n",
    "plt.xlabel('False Positive Rate')\n",
    "plt.show()"
   ]
  },
  {
   "cell_type": "code",
   "execution_count": 36,
   "metadata": {},
   "outputs": [
    {
     "data": {
      "image/png": "[encoded data removed]",
      "text/plain": [
       "<matplotlib.figure.Figure at 0x7f5d2ee2b8d0>"
      ]
     },
     "metadata": {},
     "output_type": "display_data"
    }
   ],
   "source": [
    "# Smart link 0.8\n",
    "plt.title('Receiver Operating Characteristic')\n",
    "plt.plot(fpr, tpr, 'b',\n",
    "label='GS, AUC = %0.2f'% roc_auc)\n",
    "plt.legend(loc='lower right')\n",
    "plt.plot([0,1],[0,1],'r--')\n",
    "plt.xlim([-0.1,1.2])\n",
    "plt.ylim([-0.1,1.2])\n",
    "plt.ylabel('True Positive Rate')\n",
    "plt.xlabel('False Positive Rate')\n",
    "plt.show()"
   ]
  },
  {
   "cell_type": "code",
   "execution_count": 50,
   "metadata": {},
   "outputs": [
    {
     "data": {
      "image/png": "[encoded data removed]",
      "text/plain": [
       "<matplotlib.figure.Figure at 0x7f5d2ee967d0>"
      ]
     },
     "metadata": {},
     "output_type": "display_data"
    }
   ],
   "source": [
    "# Smart link 0.5\n",
    "plt.title('Receiver Operating Characteristic')\n",
    "plt.plot(fpr, tpr, 'b',\n",
    "label='GS, AUC = %0.2f'% roc_auc)\n",
    "plt.legend(loc='lower right')\n",
    "plt.plot([0,1],[0,1],'r--')\n",
    "plt.xlim([-0.1,1.2])\n",
    "plt.ylim([-0.1,1.2])\n",
    "plt.ylabel('True Positive Rate')\n",
    "plt.xlabel('False Positive Rate')\n",
    "plt.show()"
   ]
  },
  {
   "cell_type": "code",
   "execution_count": null,
   "metadata": {
    "collapsed": true
   },
   "outputs": [],
   "source": []
  }
 ],
 "metadata": {
  "kernelspec": {
   "display_name": "Python 2",
   "language": "python",
   "name": "python2"
  },
  "language_info": {
   "codemirror_mode": {
    "name": "ipython",
    "version": 2
   },
   "file_extension": ".py",
   "mimetype": "text/x-python",
   "name": "python",
   "nbconvert_exporter": "python",
   "pygments_lexer": "ipython2",
   "version": "2.7.12"
  }
 },
 "nbformat": 4,
 "nbformat_minor": 1
}
