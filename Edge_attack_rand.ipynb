{
 "cells": [
  {
   "cell_type": "code",
   "execution_count": 1,
   "metadata": {},
   "outputs": [
    {
     "name": "stdout",
     "output_type": "stream",
     "text": [
      "Populating the interactive namespace from numpy and matplotlib\n"
     ]
    }
   ],
   "source": [
    "%pylab inline"
   ]
  },
  {
   "cell_type": "code",
   "execution_count": 2,
   "metadata": {},
   "outputs": [],
   "source": [
    "import networkx as nx\n",
    "from networkx.drawing.nx_agraph import graphviz_layout\n",
    "import random\n",
    "import sklearn as sk\n",
    "from time import time\n",
    "import pickle"
   ]
  },
  {
   "cell_type": "code",
   "execution_count": 3,
   "metadata": {
    "collapsed": true
   },
   "outputs": [],
   "source": [
    "from sklearn.ensemble import RandomForestClassifier"
   ]
  },
  {
   "cell_type": "code",
   "execution_count": 11,
   "metadata": {
    "collapsed": true
   },
   "outputs": [],
   "source": [
    "from rand_pert import rand_pertub\n",
    "from rand_pert import link_mirage\n",
    "from utils import calc_cc, calc_dist, calc_emd, number_of_fake_edges"
   ]
  },
  {
   "cell_type": "code",
   "execution_count": 6,
   "metadata": {},
   "outputs": [],
   "source": [
    "# Generate a random graph\n",
    "g = nx.erdos_renyi_graph(n=1000, p=0.1)"
   ]
  },
  {
   "cell_type": "code",
   "execution_count": null,
   "metadata": {
    "collapsed": true
   },
   "outputs": [],
   "source": [
    "# Read graph "
   ]
  },
  {
   "cell_type": "code",
   "execution_count": 3,
   "metadata": {
    "collapsed": true
   },
   "outputs": [],
   "source": [
    "face_orig = open(\"data/facebook-links.txt\") \n",
    "f_arr = np.array(face_orig.readlines())\n",
    "G = nx.Graph()\n",
    "\n",
    "edgelist = []\n",
    "for line in f_arr: \n",
    "    i, j, time = line.split('\\t')\n",
    "    edgelist.append((int(i), int(j)))\n",
    "\n",
    "G.add_edges_from(edgelist)"
   ]
  },
  {
   "cell_type": "code",
   "execution_count": null,
   "metadata": {
    "collapsed": true
   },
   "outputs": [],
   "source": []
  },
  {
   "cell_type": "markdown",
   "metadata": {},
   "source": [
    "### Split the graph"
   ]
  },
  {
   "cell_type": "code",
   "execution_count": 7,
   "metadata": {
    "collapsed": true
   },
   "outputs": [],
   "source": [
    "from attack import *"
   ]
  },
  {
   "cell_type": "code",
   "execution_count": 8,
   "metadata": {
    "collapsed": true
   },
   "outputs": [],
   "source": [
    "alpha = 0.25"
   ]
  },
  {
   "cell_type": "code",
   "execution_count": 9,
   "metadata": {},
   "outputs": [
    {
     "name": "stdout",
     "output_type": "stream",
     "text": [
      "CPU times: user 336 ms, sys: 20 ms, total: 356 ms\n",
      "Wall time: 338 ms\n"
     ]
    }
   ],
   "source": [
    "%%time\n",
    "G1, G2 = edge_split(g, alpha)"
   ]
  },
  {
   "cell_type": "code",
   "execution_count": 10,
   "metadata": {},
   "outputs": [],
   "source": [
    "M = 10\n",
    "t = 4"
   ]
  },
  {
   "cell_type": "code",
   "execution_count": 12,
   "metadata": {},
   "outputs": [
    {
     "name": "stdout",
     "output_type": "stream",
     "text": [
      "('Originial edges ', 15516, ' Now edges ', 4571)\n",
      "% of fake edges\n",
      "0.702909647779\n",
      "0.69587628866\n",
      "% of distortion\n",
      "1.20707656613\n",
      "1.1825855797\n",
      " EMD of deg distibution\n",
      "21.89\n",
      "31.632\n",
      " CC diff\n",
      "0.0899366499543\n",
      "0.0506263887223\n",
      "('Originial edges ', 15516, ' Now edges ', 4529)\n",
      "% of fake edges\n",
      "0.541620666814\n",
      "0.569280343716\n",
      "% of distortion\n",
      "1.15809486981\n",
      "1.14830706091\n",
      " EMD of deg distibution\n",
      "21.974\n",
      "31.712\n",
      " CC diff\n",
      "0.0902046279979\n",
      "0.0511223230089\n",
      "('Originial edges ', 15516, ' Now edges ', 4582)\n",
      "% of fake edges\n",
      "0.703404626801\n",
      "0.679633867277\n",
      "% of distortion\n",
      "1.20772106213\n",
      "1.18006715791\n",
      " EMD of deg distibution\n",
      "21.868\n",
      "31.522\n",
      " CC diff\n",
      "0.0944729361546\n",
      "0.0513947432141\n",
      "('Originial edges ', 15516, ' Now edges ', 4627)\n",
      "% of fake edges\n",
      "0.643397449751\n",
      "0.654513584575\n",
      "% of distortion\n",
      "1.19186646043\n",
      "1.17414420297\n",
      " EMD of deg distibution\n",
      "21.7783071358\n",
      "31.474\n",
      " CC diff\n",
      "0.0936722206255\n",
      "0.0499078782516\n",
      "('Originial edges ', 15516, ' Now edges ', 4667)\n",
      "% of fake edges\n",
      "0.677523034069\n",
      "0.691417378917\n",
      "% of distortion\n",
      "1.2037896365\n",
      "1.18109318161\n",
      " EMD of deg distibution\n",
      "21.698\n",
      "31.652\n",
      " CC diff\n",
      "0.0944654704841\n",
      "0.0503876948086\n",
      "('Originial edges ', 15516, ' Now edges ', 4506)\n",
      "% of fake edges\n",
      "0.672214824678\n",
      "0.682995594714\n",
      "% of distortion\n",
      "1.19521783965\n",
      "1.18076671952\n",
      " EMD of deg distibution\n",
      "22.02\n",
      "31.534\n",
      " CC diff\n",
      "0.0902814795216\n",
      "0.047521763763\n",
      "('Originial edges ', 15516, ' Now edges ', 4595)\n",
      "% of fake edges\n",
      "0.681828073993\n",
      "0.692280007198\n",
      "% of distortion\n",
      "1.20192059809\n",
      "1.17941423375\n",
      " EMD of deg distibution\n",
      "21.842\n",
      "31.77\n",
      " CC diff\n",
      "0.0806269688517\n",
      "0.0522635081405\n",
      "('Originial edges ', 15516, ' Now edges ', 4508)\n",
      "% of fake edges\n",
      "0.673025732032\n",
      "0.674402125775\n",
      "% of distortion\n",
      "1.19554008765\n",
      "1.17754873613\n",
      " EMD of deg distibution\n",
      "22.016\n",
      "31.594\n",
      " CC diff\n",
      "0.0899023995084\n",
      "0.0483007521007\n",
      "CPU times: user 26.7 s, sys: 696 ms, total: 27.4 s\n",
      "Wall time: 26.1 s\n"
     ]
    }
   ],
   "source": [
    "%%time\n",
    "for t in range(2,10):\n",
    "    G_aux = link_mirage(G1, M, t)\n",
    "    G_san = link_mirage(G2, M, t)\n",
    "\n",
    "    print(\"Originial edges \", G1.number_of_edges(), \" Now edges \", G_aux.number_of_edges())\n",
    "\n",
    "    print(\"% of fake edges\")\n",
    "    print(number_of_fake_edges(G1, G_aux))\n",
    "    print(number_of_fake_edges(G2, G_san))\n",
    "\n",
    "    print(\"% of distortion\")\n",
    "    print(calc_dist(G1, G_aux))\n",
    "    print(calc_dist(G2, G_san))\n",
    "    \n",
    "    print(\" EMD of deg distibution\")\n",
    "    print(calc_emd(G1, G_aux))\n",
    "    print(calc_emd(G2, G_san))\n",
    "    \n",
    "    print(\" CC diff\")\n",
    "    print(calc_cc(G1, G_aux))\n",
    "    print(calc_cc(G1, G_san))\n",
    "\n"
   ]
  },
  {
   "cell_type": "code",
   "execution_count": 19,
   "metadata": {},
   "outputs": [
    {
     "name": "stdout",
     "output_type": "stream",
     "text": [
      "Dataset is generating ... \n",
      "Start adding positive examples\n",
      "Finished : 0\n",
      "Finished : 0\n",
      "Finished : 0\n",
      "Finished : 0\n",
      "Finished : 0\n",
      "Finished : 0\n",
      "Finished : 0\n",
      "Finished : 0\n",
      "Finished : 0\n",
      "Finished : 0\n",
      "Start adding false examples\n",
      "Finished : 0\n",
      "Finished : 0\n",
      "Finished : 0\n",
      "Finished : 0\n",
      "Finished : 0\n",
      "Finished : 0\n",
      "Finished : 0\n",
      "Finished : 0\n",
      "Finished : 0\n",
      "Finished : 0\n",
      "Finished : 0\n",
      "Aux finished 21.0361759663 sec\n",
      "Start adding positive examples\n",
      "Finished : 0\n",
      "Finished : 0\n",
      "Finished : 0\n",
      "Finished : 0\n",
      "Finished : 0\n",
      "Finished : 0\n",
      "Finished : 0\n",
      "Finished : 0\n",
      "Finished : 0\n",
      "Finished : 0\n",
      "Start adding false examples\n",
      "Finished : 0\n",
      "Finished : 0\n",
      "Finished : 0\n",
      "Finished : 0\n",
      "Finished : 0\n",
      "Finished : 0\n",
      "Finished : 0\n",
      "Finished : 0\n",
      "Finished : 0\n",
      "Finished : 0\n",
      "Finished : 0\n",
      "San finished 34.5330729485 sec\n"
     ]
    }
   ],
   "source": [
    "X_naive, Y_naive = gen_trainset(G1, G2, alpha, \"data/train_naive.dump\")"
   ]
  },
  {
   "cell_type": "code",
   "execution_count": 13,
   "metadata": {},
   "outputs": [
    {
     "name": "stdout",
     "output_type": "stream",
     "text": [
      "Dataset is generating ... \n",
      "Start adding positive examples\n",
      "Finished : 0\n",
      "Finished : 0\n",
      "Finished : 0\n",
      "Finished : 0\n",
      "Finished : 0\n",
      "Finished : 0\n",
      "Finished : 0\n",
      "Finished : 0\n",
      "Finished : 0\n",
      "Finished : 0\n",
      "Start adding false examples\n",
      "Finished : 0\n",
      "Finished : 0\n",
      "Finished : 0\n",
      "Finished : 0\n",
      "Finished : 0\n",
      "Finished : 0\n",
      "Finished : 0\n",
      "Finished : 0\n",
      "Finished : 0\n",
      "Finished : 0\n",
      "Finished : 0\n",
      "Aux finished 0.99242401123 sec\n",
      "Start adding positive examples\n",
      "Finished : 0\n",
      "Finished : 0\n",
      "Finished : 0\n",
      "Finished : 0\n",
      "Finished : 0\n",
      "Finished : 0\n",
      "Finished : 0\n",
      "Finished : 0\n",
      "Finished : 0\n",
      "Finished : 0\n",
      "Start adding false examples\n",
      "Finished : 0\n",
      "Finished : 0\n",
      "Finished : 0\n",
      "Finished : 0\n",
      "Finished : 0\n",
      "Finished : 0\n",
      "Finished : 0\n",
      "Finished : 0\n",
      "Finished : 0\n",
      "Finished : 0\n",
      "Finished : 0\n",
      "San finished 1.15689778328 sec\n"
     ]
    }
   ],
   "source": [
    "X, Y = gen_trainset(G_aux, G_san, alpha, \"data/train.dump\")"
   ]
  },
  {
   "cell_type": "code",
   "execution_count": 14,
   "metadata": {},
   "outputs": [
    {
     "name": "stdout",
     "output_type": "stream",
     "text": [
      "CPU times: user 2.17 s, sys: 68 ms, total: 2.24 s\n",
      "Wall time: 1.42 s\n"
     ]
    }
   ],
   "source": [
    "%%time\n",
    "forest = RandomForestClassifier(n_estimators = 400, n_jobs=8)\n",
    "forest.fit(X, Y)"
   ]
  },
  {
   "cell_type": "code",
   "execution_count": 15,
   "metadata": {},
   "outputs": [
    {
     "name": "stdout",
     "output_type": "stream",
     "text": [
      "Dataset is generating ... \n",
      "Start adding positive examples\n",
      "Finished : 0\n",
      "Finished : 0\n",
      "Finished : 0\n",
      "Finished : 0\n",
      "Finished : 0\n",
      "Finished : 0\n",
      "Finished : 0\n",
      "Finished : 0\n",
      "Finished : 0\n",
      "Finished : 0\n",
      "Start adding false examples\n",
      "Finished : 0\n",
      "Finished : 0\n",
      "Finished : 0\n",
      "Finished : 0\n",
      "Finished : 0\n",
      "Finished : 0\n",
      "Finished : 0\n",
      "Finished : 0\n",
      "Finished : 0\n",
      "Finished : 0\n",
      "Finished : 0\n",
      "Test set generated in  0.502485990524 sec\n"
     ]
    }
   ],
   "source": [
    "X_t, Y_t = gen_testset(G_aux, G_san, \"data/test_test.dump\")"
   ]
  },
  {
   "cell_type": "code",
   "execution_count": 21,
   "metadata": {},
   "outputs": [
    {
     "name": "stdout",
     "output_type": "stream",
     "text": [
      "Dataset is generating ... \n",
      "Start adding positive examples\n",
      "Finished : 0\n",
      "Finished : 0\n",
      "Finished : 0\n",
      "Finished : 0\n",
      "Finished : 0\n",
      "Finished : 0\n",
      "Finished : 0\n",
      "Finished : 0\n",
      "Finished : 0\n",
      "Finished : 0\n",
      "Start adding false examples\n",
      "Finished : 0\n",
      "Finished : 0\n",
      "Finished : 0\n",
      "Finished : 0\n",
      "Finished : 0\n",
      "Finished : 0\n",
      "Finished : 0\n",
      "Finished : 0\n",
      "Finished : 0\n",
      "Finished : 0\n",
      "Finished : 0\n",
      "Test set generated in  299.437201023 sec\n"
     ]
    }
   ],
   "source": [
    "X_t_naive, Y_t_naive = gen_testset(G1, G2, \"data/test_test_naive.dump\")"
   ]
  },
  {
   "cell_type": "code",
   "execution_count": 24,
   "metadata": {},
   "outputs": [
    {
     "name": "stdout",
     "output_type": "stream",
     "text": [
      "Anonymization\n",
      "0.52027027027\n",
      "Naive:\n",
      "0.866073730343\n",
      "CPU times: user 9.91 s, sys: 212 ms, total: 10.1 s\n",
      "Wall time: 4.79 s\n"
     ]
    }
   ],
   "source": [
    "%%time\n",
    "\n",
    "forest = RandomForestClassifier(n_estimators = 400, n_jobs=8)\n",
    "print(\"Naive:\")\n",
    "forest.fit(X_naive, Y_naive)\n",
    "print(forest.score(X_t_naive, Y_t_naive))"
   ]
  },
  {
   "cell_type": "code",
   "execution_count": null,
   "metadata": {},
   "outputs": [],
   "source": []
  },
  {
   "cell_type": "code",
   "execution_count": 31,
   "metadata": {},
   "outputs": [],
   "source": [
    "from sklearn.metrics import roc_curve, auc\n",
    "y_score = forest.predict_proba(X_t_naive)\n",
    "y_true = Y_t_naive\n",
    "fpr, tpr, thresholds = roc_curve(y_true, y_score[:, 1])\n",
    "roc_auc = auc(fpr, tpr)"
   ]
  },
  {
   "cell_type": "code",
   "execution_count": 32,
   "metadata": {},
   "outputs": [
    {
     "data": {
      "image/png": "[encoded data removed]",
      "text/plain": [
       "<matplotlib.figure.Figure at 0x7f51b2f01d90>"
      ]
     },
     "metadata": {},
     "output_type": "display_data"
    }
   ],
   "source": [
    "plt.title('Receiver Operating Characteristic')\n",
    "plt.plot(fpr, tpr, 'b',\n",
    "label='GS, AUC = %0.2f'% roc_auc)\n",
    "plt.legend(loc='lower right')\n",
    "plt.plot([0,1],[0,1],'r--')\n",
    "plt.xlim([-0.1,1.2])\n",
    "plt.ylim([-0.1,1.2])\n",
    "plt.ylabel('True Positive Rate')\n",
    "plt.xlabel('False Positive Rate')\n",
    "plt.show()"
   ]
  },
  {
   "cell_type": "code",
   "execution_count": 33,
   "metadata": {},
   "outputs": [
    {
     "name": "stdout",
     "output_type": "stream",
     "text": [
      "Anonymization\n",
      "0.510135135135\n"
     ]
    }
   ],
   "source": [
    "%%time\n",
    "forest = RandomForestClassifier(n_estimators = 400, n_jobs=8)\n",
    "forest.fit(X, Y)\n",
    "print(\"Anonymization\")\n",
    "print(forest.score(X_t, Y_t))"
   ]
  },
  {
   "cell_type": "code",
   "execution_count": null,
   "metadata": {
    "collapsed": true
   },
   "outputs": [],
   "source": []
  },
  {
   "cell_type": "code",
   "execution_count": 34,
   "metadata": {},
   "outputs": [],
   "source": [
    "from sklearn.metrics import roc_curve, auc\n",
    "y_score = forest.predict_proba(X_t)\n",
    "y_true = Y_t\n",
    "fpr, tpr, thresholds = roc_curve(y_true, y_score[:, 1])\n",
    "roc_auc = auc(fpr, tpr)"
   ]
  },
  {
   "cell_type": "code",
   "execution_count": 35,
   "metadata": {},
   "outputs": [
    {
     "data": {
      "image/png": "[encoded data removed]",
      "text/plain": [
       "<matplotlib.figure.Figure at 0x7f51b2d9b850>"
      ]
     },
     "metadata": {},
     "output_type": "display_data"
    }
   ],
   "source": [
    "plt.title('Receiver Operating Characteristic')\n",
    "plt.plot(fpr, tpr, 'b',\n",
    "label='GS, AUC = %0.2f'% roc_auc)\n",
    "plt.legend(loc='lower right')\n",
    "plt.plot([0,1],[0,1],'r--')\n",
    "plt.xlim([-0.1,1.2])\n",
    "plt.ylim([-0.1,1.2])\n",
    "plt.ylabel('True Positive Rate')\n",
    "plt.xlabel('False Positive Rate')\n",
    "plt.show()"
   ]
  },
  {
   "cell_type": "code",
   "execution_count": null,
   "metadata": {
    "collapsed": true
   },
   "outputs": [],
   "source": []
  },
  {
   "cell_type": "code",
   "execution_count": null,
   "metadata": {
    "collapsed": true
   },
   "outputs": [],
   "source": []
  }
 ],
 "metadata": {
  "kernelspec": {
   "display_name": "Python 2",
   "language": "python",
   "name": "python2"
  },
  "language_info": {
   "codemirror_mode": {
    "name": "ipython",
    "version": 2
   },
   "file_extension": ".py",
   "mimetype": "text/x-python",
   "name": "python",
   "nbconvert_exporter": "python",
   "pygments_lexer": "ipython2",
   "version": "2.7.12"
  }
 },
 "nbformat": 4,
 "nbformat_minor": 1
}
