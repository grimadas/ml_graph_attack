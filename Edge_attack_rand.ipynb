{
 "cells": [
  {
   "cell_type": "code",
   "execution_count": 1,
   "metadata": {
    "collapsed": false
   },
   "outputs": [
    {
     "name": "stdout",
     "output_type": "stream",
     "text": [
      "Populating the interactive namespace from numpy and matplotlib\n"
     ]
    }
   ],
   "source": [
    "%pylab inline"
   ]
  },
  {
   "cell_type": "code",
   "execution_count": 2,
   "metadata": {
    "collapsed": false
   },
   "outputs": [],
   "source": [
    "import networkx as nx\n",
    "from networkx.drawing.nx_agraph import graphviz_layout\n",
    "import random\n",
    "import sklearn as sk\n",
    "from time import time\n",
    "import pickle\n",
    "from Lopacity import *"
   ]
  },
  {
   "cell_type": "code",
   "execution_count": 3,
   "metadata": {
    "collapsed": true
   },
   "outputs": [],
   "source": [
    "from sklearn.ensemble import RandomForestClassifier"
   ]
  },
  {
   "cell_type": "code",
   "execution_count": 4,
   "metadata": {
    "collapsed": true
   },
   "outputs": [],
   "source": [
    "from rand_pert import rand_pertub\n",
    "from rand_pert import link_mirage"
   ]
  },
  {
   "cell_type": "code",
   "execution_count": 5,
   "metadata": {
    "collapsed": false
   },
   "outputs": [],
   "source": [
    "g = nx.erdos_renyi_graph(n=200, p=0.15)\n",
    "\n",
    "# Init graph \n",
    "degs = g.degree(g)\n",
    "deg_count, opacity = init(g, degs)\n",
    "# Prepare inverted opacity matrix:\n",
    "inv_opacity = {}"
   ]
  },
  {
   "cell_type": "code",
   "execution_count": null,
   "metadata": {
    "collapsed": true
   },
   "outputs": [],
   "source": []
  },
  {
   "cell_type": "code",
   "execution_count": null,
   "metadata": {
    "collapsed": true
   },
   "outputs": [],
   "source": []
  },
  {
   "cell_type": "code",
   "execution_count": 3,
   "metadata": {
    "collapsed": true
   },
   "outputs": [],
   "source": [
    "face_orig = open(\"data/facebook-links.txt\") \n",
    "f_arr = np.array(face_orig.readlines())\n",
    "G = nx.Graph()\n",
    "\n",
    "edgelist = []\n",
    "for line in f_arr: \n",
    "    i, j, time = line.split('\\t')\n",
    "    edgelist.append((int(i), int(j)))\n",
    "\n",
    "G.add_edges_from(edgelist)"
   ]
  },
  {
   "cell_type": "code",
   "execution_count": null,
   "metadata": {
    "collapsed": true
   },
   "outputs": [],
   "source": []
  },
  {
   "cell_type": "markdown",
   "metadata": {},
   "source": [
    "### Split the graph"
   ]
  },
  {
   "cell_type": "code",
   "execution_count": 6,
   "metadata": {
    "collapsed": true
   },
   "outputs": [],
   "source": [
    "from attack import *"
   ]
  },
  {
   "cell_type": "code",
   "execution_count": 7,
   "metadata": {
    "collapsed": true
   },
   "outputs": [],
   "source": [
    "alpha = 0.25"
   ]
  },
  {
   "cell_type": "code",
   "execution_count": 8,
   "metadata": {
    "collapsed": false
   },
   "outputs": [],
   "source": [
    "G1, G2 = edge_split(g, alpha)"
   ]
  },
  {
   "cell_type": "code",
   "execution_count": 27,
   "metadata": {
    "collapsed": false
   },
   "outputs": [],
   "source": [
    "M = 50\n",
    "t = 3"
   ]
  },
  {
   "cell_type": "code",
   "execution_count": 28,
   "metadata": {
    "collapsed": false
   },
   "outputs": [
    {
     "name": "stdout",
     "output_type": "stream",
     "text": [
      "CPU times: user 184 ms, sys: 36 ms, total: 220 ms\n",
      "Wall time: 195 ms\n"
     ]
    }
   ],
   "source": [
    "%%time\n",
    "G_aux = link_mirage(G1, M, t)\n",
    "G_san = link_mirage(G2, M, t)"
   ]
  },
  {
   "cell_type": "code",
   "execution_count": 29,
   "metadata": {
    "collapsed": false
   },
   "outputs": [
    {
     "name": "stdout",
     "output_type": "stream",
     "text": [
      "CPU times: user 100 ms, sys: 16 ms, total: 116 ms\n",
      "Wall time: 97.1 ms\n"
     ]
    }
   ],
   "source": [
    "%%time\n",
    "G_aux_1 = rand_pertub(G1, M, t)\n",
    "G_san_1 = rand_pertub(G2, M, t)"
   ]
  },
  {
   "cell_type": "code",
   "execution_count": 30,
   "metadata": {
    "collapsed": false
   },
   "outputs": [],
   "source": [
    "def fake_edges(G_orig, G_san):\n",
    "    E1 = set(G_orig.edges())\n",
    "    E2 = set(G_san.edges())\n",
    "    return 1.-float(len(E1&E2))/len(E2)\n",
    "\n",
    "def distortion(G_orig, G_san):\n",
    "    E1 = set(G_orig.edges())\n",
    "    E2 = set(G_san.edges())\n",
    "    return float(len(E1|E2-E1&E2))/len(E1)"
   ]
  },
  {
   "cell_type": "code",
   "execution_count": null,
   "metadata": {
    "collapsed": true
   },
   "outputs": [],
   "source": []
  },
  {
   "cell_type": "code",
   "execution_count": 31,
   "metadata": {
    "collapsed": false
   },
   "outputs": [
    {
     "data": {
      "text/plain": [
       "957"
      ]
     },
     "execution_count": 31,
     "metadata": {},
     "output_type": "execute_result"
    }
   ],
   "source": [
    "G1.number_of_edges()"
   ]
  },
  {
   "cell_type": "code",
   "execution_count": 32,
   "metadata": {
    "collapsed": false
   },
   "outputs": [
    {
     "data": {
      "text/plain": [
       "504"
      ]
     },
     "execution_count": 32,
     "metadata": {},
     "output_type": "execute_result"
    }
   ],
   "source": [
    "G_aux.number_of_edges()"
   ]
  },
  {
   "cell_type": "code",
   "execution_count": 33,
   "metadata": {
    "collapsed": false
   },
   "outputs": [
    {
     "name": "stdout",
     "output_type": "stream",
     "text": [
      "% of fake edges\n",
      "0.349206349206\n",
      "0.435153583618\n",
      "% of distortion\n",
      "1.18390804598\n",
      "1.19347496206\n"
     ]
    }
   ],
   "source": [
    "print(\"% of fake edges\")\n",
    "print(fake_edges(G1, G_aux))\n",
    "print(fake_edges(G2, G_san))\n",
    "\n",
    "print(\"% of distortion\")\n",
    "print(distortion(G1, G_aux))\n",
    "print(distortion(G2, G_san))\n"
   ]
  },
  {
   "cell_type": "code",
   "execution_count": 34,
   "metadata": {
    "collapsed": false
   },
   "outputs": [
    {
     "name": "stdout",
     "output_type": "stream",
     "text": [
      "% of fake edges\n",
      "0.759493670886\n",
      "0.798363095238\n",
      "% of distortion\n",
      "1.75235109718\n",
      "1.81411229135\n"
     ]
    }
   ],
   "source": [
    "print(\"% of fake edges\")\n",
    "print(fake_edges(G1, G_aux_1))\n",
    "print(fake_edges(G2, G_san_1))\n",
    "\n",
    "print(\"% of distortion\")\n",
    "print(distortion(G1, G_aux_1))\n",
    "print(distortion(G2, G_san_1))\n"
   ]
  },
  {
   "cell_type": "code",
   "execution_count": 26,
   "metadata": {
    "collapsed": false
   },
   "outputs": [
    {
     "data": {
      "text/plain": [
       "0.4667931688804554"
      ]
     },
     "execution_count": 26,
     "metadata": {},
     "output_type": "execute_result"
    }
   ],
   "source": [
    "fake_edges(G1, G_aux)"
   ]
  },
  {
   "cell_type": "code",
   "execution_count": 89,
   "metadata": {
    "collapsed": false
   },
   "outputs": [
    {
     "data": {
      "text/plain": [
       "1.7595212187159956"
      ]
     },
     "execution_count": 89,
     "metadata": {},
     "output_type": "execute_result"
    }
   ],
   "source": [
    "distortion(G1, G_aux)"
   ]
  },
  {
   "cell_type": "code",
   "execution_count": 86,
   "metadata": {
    "collapsed": false
   },
   "outputs": [
    {
     "data": {
      "text/plain": [
       "1.7729083665338645"
      ]
     },
     "execution_count": 86,
     "metadata": {},
     "output_type": "execute_result"
    }
   ],
   "source": [
    "distortion(G2, G_san)"
   ]
  },
  {
   "cell_type": "code",
   "execution_count": 90,
   "metadata": {
    "collapsed": true
   },
   "outputs": [],
   "source": [
    "e1 = G_aux.edges()"
   ]
  },
  {
   "cell_type": "code",
   "execution_count": 94,
   "metadata": {
    "collapsed": false
   },
   "outputs": [],
   "source": [
    "s1 = set()\n",
    "for e in e1:\n",
    "    s1.add(e[0])\n",
    "    s1.add(e[1])"
   ]
  },
  {
   "cell_type": "code",
   "execution_count": 105,
   "metadata": {
    "collapsed": true
   },
   "outputs": [],
   "source": [
    "    import itertools"
   ]
  },
  {
   "cell_type": "code",
   "execution_count": 96,
   "metadata": {
    "collapsed": true
   },
   "outputs": [],
   "source": [
    "from itertools import combinations"
   ]
  },
  {
   "cell_type": "code",
   "execution_count": 109,
   "metadata": {
    "collapsed": false
   },
   "outputs": [],
   "source": [
    "c = set([(1, 3), (1,5)])"
   ]
  },
  {
   "cell_type": "code",
   "execution_count": 110,
   "metadata": {
    "collapsed": false
   },
   "outputs": [
    {
     "data": {
      "text/plain": [
       "{(1, 3), (1, 5)}"
      ]
     },
     "execution_count": 110,
     "metadata": {},
     "output_type": "execute_result"
    }
   ],
   "source": [
    "a1 = [1, 2, 3]\n",
    "b1 = [3, 4, 5]\n",
    "\n",
    "set(itertools.product(a1, b1))&c\n"
   ]
  },
  {
   "cell_type": "code",
   "execution_count": 112,
   "metadata": {
    "collapsed": false
   },
   "outputs": [
    {
     "data": {
      "text/plain": [
       "{6, 8}"
      ]
     },
     "execution_count": 112,
     "metadata": {},
     "output_type": "execute_result"
    }
   ],
   "source": [
    "set(G1.neighbors(1))&set([2, 5, 6, 8])"
   ]
  },
  {
   "cell_type": "code",
   "execution_count": 115,
   "metadata": {
    "collapsed": false
   },
   "outputs": [
    {
     "name": "stdout",
     "output_type": "stream",
     "text": [
      "True\n"
     ]
    }
   ],
   "source": [
    "if set([1,2])&set([1]):\n",
    "    print(True)"
   ]
  },
  {
   "cell_type": "code",
   "execution_count": null,
   "metadata": {
    "collapsed": true
   },
   "outputs": [],
   "source": [
    "len(set(G_aux.edges()) | set(G_san.edges()))"
   ]
  },
  {
   "cell_type": "code",
   "execution_count": null,
   "metadata": {
    "collapsed": true
   },
   "outputs": [],
   "source": []
  },
  {
   "cell_type": "code",
   "execution_count": 35,
   "metadata": {
    "collapsed": false
   },
   "outputs": [
    {
     "data": {
      "text/plain": [
       "2082"
      ]
     },
     "execution_count": 35,
     "metadata": {},
     "output_type": "execute_result"
    }
   ],
   "source": [
    "len(set(G_aux.edges()) | set(G_san.edges()))"
   ]
  },
  {
   "cell_type": "code",
   "execution_count": 36,
   "metadata": {
    "collapsed": false
   },
   "outputs": [
    {
     "data": {
      "text/plain": [
       "118"
      ]
     },
     "execution_count": 36,
     "metadata": {},
     "output_type": "execute_result"
    }
   ],
   "source": [
    "len(set(G_aux.edges()) & set(G_san.edges()))"
   ]
  },
  {
   "cell_type": "code",
   "execution_count": 26,
   "metadata": {
    "collapsed": false
   },
   "outputs": [
    {
     "data": {
      "text/plain": [
       "False"
      ]
     },
     "execution_count": 26,
     "metadata": {},
     "output_type": "execute_result"
    }
   ],
   "source": [
    "G_san.edges()"
   ]
  },
  {
   "cell_type": "code",
   "execution_count": null,
   "metadata": {
    "collapsed": true
   },
   "outputs": [],
   "source": []
  },
  {
   "cell_type": "code",
   "execution_count": 22,
   "metadata": {
    "collapsed": false
   },
   "outputs": [
    {
     "ename": "SyntaxError",
     "evalue": "unexpected EOF while parsing (<ipython-input-22-9385ca921ac7>, line 1)",
     "output_type": "error",
     "traceback": [
      "\u001b[0;36m  File \u001b[0;32m\"<ipython-input-22-9385ca921ac7>\"\u001b[0;36m, line \u001b[0;32m1\u001b[0m\n\u001b[0;31m    def calc_distortion(G_orig, G_anon):\u001b[0m\n\u001b[0m                                        ^\u001b[0m\n\u001b[0;31mSyntaxError\u001b[0m\u001b[0;31m:\u001b[0m unexpected EOF while parsing\n"
     ]
    }
   ],
   "source": [
    "def calc_distortion(G_orig, G_anon):\n",
    "    for e in G_orig.edges():\n",
    "        G"
   ]
  },
  {
   "cell_type": "code",
   "execution_count": null,
   "metadata": {
    "collapsed": true
   },
   "outputs": [],
   "source": []
  },
  {
   "cell_type": "code",
   "execution_count": null,
   "metadata": {
    "collapsed": true
   },
   "outputs": [],
   "source": []
  },
  {
   "cell_type": "code",
   "execution_count": null,
   "metadata": {
    "collapsed": true
   },
   "outputs": [],
   "source": []
  },
  {
   "cell_type": "code",
   "execution_count": 15,
   "metadata": {
    "collapsed": false
   },
   "outputs": [
    {
     "name": "stdout",
     "output_type": "stream",
     "text": [
      "Dataset is generating ... \n",
      "Start adding positive examples\n",
      "Finished : 0.09813084112149532\n",
      "Finished : 0.19626168224299065\n",
      "Finished : 0.29439252336448596\n",
      "Finished : 0.3925233644859813\n",
      "Finished : 0.49065420560747663\n",
      "Finished : 0.5887850467289719\n",
      "Finished : 0.6869158878504673\n",
      "Finished : 0.7850467289719626\n",
      "Finished : 0.883177570093458\n",
      "Finished : 0.9813084112149533\n",
      "Start adding false examples\n",
      "Finished : 0.0\n",
      "Finished : 0.09836065573770492\n",
      "Finished : 0.19672131147540983\n",
      "Finished : 0.29508196721311475\n",
      "Finished : 0.39344262295081966\n",
      "Finished : 0.4918032786885246\n",
      "Finished : 0.5901639344262295\n",
      "Finished : 0.6885245901639344\n",
      "Finished : 0.7868852459016393\n",
      "Finished : 0.8852459016393442\n",
      "Finished : 0.9836065573770492\n",
      "Aux finished 0.4867820739746094 sec\n",
      "Start adding positive examples\n",
      "Finished : 0.09966777408637874\n",
      "Finished : 0.19933554817275748\n",
      "Finished : 0.29900332225913623\n",
      "Finished : 0.39867109634551495\n",
      "Finished : 0.4983388704318937\n",
      "Finished : 0.5980066445182725\n",
      "Finished : 0.6976744186046512\n",
      "Finished : 0.7973421926910299\n",
      "Finished : 0.8970099667774086\n",
      "Finished : 0.9966777408637874\n",
      "Start adding false examples\n",
      "Finished : 0.0\n",
      "Finished : 0.09411764705882353\n",
      "Finished : 0.18823529411764706\n",
      "Finished : 0.2823529411764706\n",
      "Finished : 0.3764705882352941\n",
      "Finished : 0.47058823529411764\n",
      "Finished : 0.5647058823529412\n",
      "Finished : 0.6588235294117647\n",
      "Finished : 0.7529411764705882\n",
      "Finished : 0.8470588235294118\n",
      "Finished : 0.9411764705882353\n",
      "San finished 0.5844249725341797 sec\n"
     ]
    }
   ],
   "source": [
    "X, Y = gen_trainset(G_aux, G_san, alpha, \"data/test.dump\")"
   ]
  },
  {
   "cell_type": "code",
   "execution_count": 16,
   "metadata": {
    "collapsed": false
   },
   "outputs": [
    {
     "name": "stdout",
     "output_type": "stream",
     "text": [
      "CPU times: user 1.34 s, sys: 182 ms, total: 1.52 s\n",
      "Wall time: 1.4 s\n"
     ]
    }
   ],
   "source": [
    "%%time\n",
    "forest = RandomForestClassifier(n_estimators = 400, n_jobs=8)\n",
    "forest.fit(X, Y)"
   ]
  },
  {
   "cell_type": "code",
   "execution_count": 17,
   "metadata": {
    "collapsed": false
   },
   "outputs": [
    {
     "name": "stdout",
     "output_type": "stream",
     "text": [
      "Dataset is generating ... \n",
      "Start adding positive examples\n",
      "Finished : 0.09183673469387756\n",
      "Finished : 0.1836734693877551\n",
      "Finished : 0.2755102040816326\n",
      "Finished : 0.3673469387755102\n",
      "Finished : 0.45918367346938777\n",
      "Finished : 0.5510204081632653\n",
      "Finished : 0.6428571428571429\n",
      "Finished : 0.7346938775510204\n",
      "Finished : 0.826530612244898\n",
      "Finished : 0.9183673469387755\n",
      "Start adding false examples\n",
      "Finished : 0.0\n",
      "Finished : 0.09183673469387756\n",
      "Finished : 0.1836734693877551\n",
      "Finished : 0.2755102040816326\n",
      "Finished : 0.3673469387755102\n",
      "Finished : 0.45918367346938777\n",
      "Finished : 0.5510204081632653\n",
      "Finished : 0.6428571428571429\n",
      "Finished : 0.7346938775510204\n",
      "Finished : 0.826530612244898\n",
      "Finished : 0.9183673469387755\n",
      "Test set generated in  0.7675600051879883 sec\n"
     ]
    }
   ],
   "source": [
    "X_t, Y_t = gen_testset(G_aux, G_san, \"data/test_test.dump\")"
   ]
  },
  {
   "cell_type": "code",
   "execution_count": 18,
   "metadata": {
    "collapsed": false
   },
   "outputs": [
    {
     "data": {
      "text/plain": [
       "0.59693877551020413"
      ]
     },
     "execution_count": 18,
     "metadata": {},
     "output_type": "execute_result"
    }
   ],
   "source": [
    "forest.score(X_t, Y_t)"
   ]
  },
  {
   "cell_type": "code",
   "execution_count": null,
   "metadata": {
    "collapsed": true
   },
   "outputs": [],
   "source": []
  },
  {
   "cell_type": "code",
   "execution_count": 22,
   "metadata": {
    "collapsed": false
   },
   "outputs": [],
   "source": [
    "## Apply anonimization\n",
    "def anonimize(G):\n",
    "    return G\n",
    "G_aux = anonimize(G1)\n",
    "G_san = anonimize(G2)"
   ]
  },
  {
   "cell_type": "code",
   "execution_count": 39,
   "metadata": {
    "collapsed": false
   },
   "outputs": [],
   "source": [
    "L = 2\n",
    "theta = 0.5"
   ]
  },
  {
   "cell_type": "code",
   "execution_count": null,
   "metadata": {
    "collapsed": true
   },
   "outputs": [],
   "source": []
  },
  {
   "cell_type": "code",
   "execution_count": 40,
   "metadata": {
    "collapsed": true
   },
   "outputs": [],
   "source": [
    "def anonimize(g):\n",
    "    t1 = time()\n",
    "    result_optval2 = intersect_anonimize(g, L, theta, score='opt2', mode = 'val')\n",
    "    tot_time = time()-t1\n",
    "    print(\"Total time \"+ str(tot_time))\n",
    "\n",
    "    g1 = result_optval2['new_graph']\n",
    "    dist = (g.number_of_edges() - g1.number_of_edges())/g.number_of_edges()\n",
    "    print(\"Distortion \"+ str(dist))\n",
    "    return g1"
   ]
  },
  {
   "cell_type": "code",
   "execution_count": 42,
   "metadata": {
    "collapsed": true
   },
   "outputs": [],
   "source": [
    "def anonimize_orig(g):\n",
    "    t1 = time()\n",
    "    result_lomax = anonimize_lopacity(g=g, L=L, theta=theta, mode='max')\n",
    "    print(\"Total time \"+ str(time()-t1))\n",
    "\n",
    "    # Storing results:\n",
    "    g1 = result_lomax['new_graph']\n",
    "    dist = (g.number_of_edges() - g1.number_of_edges())/g.number_of_edges()\n",
    "    print(\"Distortion \"+ str(dist))\n",
    "    return g1"
   ]
  },
  {
   "cell_type": "code",
   "execution_count": null,
   "metadata": {
    "collapsed": false
   },
   "outputs": [],
   "source": []
  },
  {
   "cell_type": "code",
   "execution_count": 72,
   "metadata": {
    "collapsed": false
   },
   "outputs": [
    {
     "name": "stdout",
     "output_type": "stream",
     "text": [
      "Edges removed: \n",
      "[(6, 144)]\n",
      "Edges removed: \n",
      "[(13, 123)]\n",
      "Edges removed: \n",
      "[(13, 87)]\n",
      "Edges removed: \n",
      "[(5, 104)]\n",
      "Edges removed: \n",
      "[(15, 198)]\n",
      "Edges removed: \n",
      "[(0, 198)]\n",
      "Edges removed: \n",
      "[(2, 135)]\n",
      "Edges removed: \n",
      "[(4, 135)]\n",
      "Edges removed: \n",
      "[(0, 156)]\n",
      "Edges removed: \n",
      "[(2, 144)]\n",
      "Edges removed: \n",
      "[(2, 155)]\n",
      "Edges removed: \n",
      "[(2, 198)]\n",
      "Edges removed: \n",
      "[(3, 173)]\n",
      "Edges removed: \n",
      "[(24, 29)]\n",
      "Edges removed: \n",
      "[(19, 106)]\n",
      "Edges removed: \n",
      "[(12, 135)]\n",
      "Edges removed: \n",
      "[(2, 156)]\n",
      "Edges removed: \n",
      "[(3, 156)]\n",
      "Edges removed: \n",
      "[(20, 156)]\n",
      "Edges removed: \n",
      "[(19, 156)]\n",
      "Edges removed: \n",
      "[(2, 191)]\n",
      "Edges removed: \n",
      "[(5, 191)]\n",
      "Edges removed: \n",
      "[(47, 198)]\n",
      "Edges removed: \n",
      "[(15, 170)]\n",
      "Edges removed: \n",
      "[(24, 156)]\n",
      "Edges removed: \n",
      "[(8, 135)]\n",
      "Edges removed: \n",
      "[(2, 48)]\n",
      "Edges removed: \n",
      "[(24, 3)]\n",
      "Edges removed: \n",
      "[(15, 191)]\n",
      "Edges removed: \n",
      "[(5, 69)]\n",
      "Edges removed: \n",
      "[(0, 141)]\n",
      "Edges removed: \n",
      "[(18, 141)]\n",
      "Edges removed: \n",
      "[(12, 141)]\n",
      "Edges removed: \n",
      "[(9, 141)]\n",
      "Edges removed: \n",
      "[(4, 32)]\n",
      "Edges removed: \n",
      "[(7, 84)]\n",
      "Edges removed: \n",
      "[(17, 144)]\n",
      "Edges removed: \n",
      "[(7, 113)]\n",
      "Edges removed: \n",
      "[(20, 45)]\n",
      "Edges removed: \n",
      "[(0, 89)]\n",
      "Edges removed: \n",
      "[(30, 11)]\n",
      "Edges removed: \n",
      "[(21, 144)]\n",
      "Edges removed: \n",
      "[(5, 55)]\n",
      "Edges removed: \n",
      "[(7, 78)]\n",
      "Edges removed: \n",
      "[(28, 107)]\n",
      "Edges removed: \n",
      "[(5, 11)]\n",
      "Edges removed: \n",
      "[(0, 155)]\n",
      "Edges removed: \n",
      "[(9, 41)]\n",
      "Edges removed: \n",
      "[(7, 21)]\n",
      "Edges removed: \n",
      "[(5, 78)]\n",
      "Edges removed: \n",
      "[(39, 87)]\n",
      "Edges removed: \n",
      "[(25, 89)]\n",
      "Edges removed: \n",
      "[(20, 151)]\n",
      "Edges removed: \n",
      "[(28, 101)]\n",
      "Edges removed: \n",
      "[(17, 69)]\n",
      "Edges removed: \n",
      "[(1, 108)]\n",
      "Edges removed: \n",
      "[(12, 60)]\n",
      "Edges removed: \n",
      "[(21, 106)]\n",
      "Edges removed: \n",
      "[(4, 106)]\n",
      "Edges removed: \n",
      "[(3, 106)]\n",
      "Edges removed: \n",
      "[(21, 46)]\n",
      "Edges removed: \n",
      "[(4, 46)]\n",
      "Edges removed: \n",
      "[(26, 106)]\n",
      "Edges removed: \n",
      "[(28, 52)]\n",
      "Edges removed: \n",
      "[(0, 52)]\n",
      "Edges removed: \n",
      "[(7, 52)]\n",
      "Edges removed: \n",
      "[(14, 106)]\n",
      "Edges removed: \n",
      "[(0, 31)]\n",
      "Edges removed: \n",
      "[(4, 51)]\n",
      "Edges removed: \n",
      "[(20, 35)]\n",
      "Edges removed: \n",
      "[(2, 34)]\n",
      "Edges removed: \n",
      "[(1, 47)]\n",
      "Edges removed: \n",
      "[(0, 59)]\n",
      "Edges removed: \n",
      "[(25, 181)]\n",
      "Edges removed: \n",
      "[(1, 9)]\n",
      "Edges removed: \n",
      "[(20, 28)]\n",
      "Edges removed: \n",
      "[(17, 2)]\n",
      "Edges removed: \n",
      "[(28, 181)]\n",
      "Edges removed: \n",
      "[(32, 57)]\n",
      "Edges removed: \n",
      "[(12, 124)]\n",
      "Edges removed: \n",
      "[(55, 106)]\n",
      "Edges removed: \n",
      "[(16, 27)]\n",
      "Edges removed: \n",
      "[(3, 40)]\n",
      "Edges removed: \n",
      "[(3, 12)]\n",
      "Edges removed: \n",
      "[(16, 42)]\n",
      "Edges removed: \n",
      "[(10, 97)]\n",
      "Edges removed: \n",
      "[(13, 47)]\n",
      "Edges removed: \n",
      "[(13, 39)]\n",
      "Edges removed: \n",
      "[(18, 168)]\n",
      "Edges removed: \n",
      "[(4, 27)]\n",
      "Edges removed: \n",
      "[(28, 168)]\n",
      "Edges removed: \n",
      "[(1, 59)]\n",
      "Edges removed: \n",
      "[(6, 76)]\n",
      "Edges removed: \n",
      "[(12, 14)]\n",
      "Edges removed: \n",
      "[(1, 94)]\n",
      "Edges removed: \n",
      "[(12, 94)]\n",
      "Edges removed: \n",
      "[(4, 108)]\n",
      "Edges removed: \n",
      "[(0, 41)]\n",
      "Edges removed: \n",
      "[(19, 108)]\n",
      "Edges removed: \n",
      "[(28, 21)]\n",
      "Edges removed: \n",
      "[(15, 21)]\n",
      "Edges removed: \n",
      "[(15, 80)]\n",
      "Edges removed: \n",
      "[(7, 104)]\n",
      "Edges removed: \n",
      "[(25, 94)]\n",
      "Edges removed: \n",
      "[(26, 38)]\n",
      "Edges removed: \n",
      "[(15, 94)]\n",
      "Edges removed: \n",
      "[(9, 25)]\n",
      "Edges removed: \n",
      "[(21, 108)]\n",
      "Edges removed: \n",
      "[(6, 104)]\n",
      "Edges removed: \n",
      "[(31, 108)]\n",
      "Edges removed: \n",
      "[(29, 38)]\n",
      "Edges removed: \n",
      "[(12, 18)]\n",
      "Edges removed: \n",
      "[(28, 29)]\n",
      "Edges removed: \n",
      "[(7, 8)]\n",
      "Edges removed: \n",
      "[(50, 48)]\n",
      "Edges removed: \n",
      "[(28, 64)]\n",
      "Edges removed: \n",
      "[(15, 0)]\n",
      "Edges removed: \n",
      "[(29, 80)]\n",
      "Edges removed: \n",
      "[(25, 50)]\n",
      "Edges removed: \n",
      "[(20, 104)]\n",
      "Edges removed: \n",
      "[(19, 111)]\n",
      "Edges removed: \n",
      "[(10, 41)]\n",
      "Edges removed: \n",
      "[(10, 15)]\n",
      "Edges removed: \n",
      "[(1, 32)]\n",
      "Edges removed: \n",
      "[(28, 66)]\n",
      "Edges removed: \n",
      "[(12, 115)]\n",
      "Edges removed: \n",
      "[(17, 36)]\n",
      "Edges removed: \n",
      "[(41, 51)]\n",
      "Edges removed: \n",
      "[(7, 105)]\n",
      "Edges removed: \n",
      "[(18, 51)]\n",
      "Edges removed: \n",
      "[(17, 184)]\n",
      "Edges removed: \n",
      "[(3, 18)]\n",
      "Edges removed: \n",
      "[(0, 74)]\n",
      "Edges removed: \n",
      "[(6, 74)]\n",
      "Edges removed: \n",
      "[(18, 184)]\n",
      "Edges removed: \n",
      "[(6, 19)]\n",
      "Edges removed: \n",
      "[(28, 43)]\n",
      "Edges removed: \n",
      "[(6, 88)]\n",
      "Edges removed: \n",
      "[(2, 3)]\n",
      "Edges removed: \n",
      "[(29, 152)]\n",
      "Edges removed: \n",
      "[(28, 88)]\n",
      "Edges removed: \n",
      "[(68, 43)]\n",
      "Edges removed: \n",
      "[(72, 34)]\n",
      "Edges removed: \n",
      "[(14, 147)]\n",
      "Edges removed: \n",
      "[(27, 108)]\n",
      "Edges removed: \n",
      "[(72, 107)]\n",
      "Edges removed: \n",
      "[(35, 34)]\n",
      "Edges removed: \n",
      "[(32, 33)]\n",
      "Edges removed: \n",
      "[(120, 31)]\n",
      "Edges removed: \n",
      "[(7, 34)]\n",
      "Edges removed: \n",
      "[(115, 40)]\n",
      "Edges removed: \n",
      "[(13, 95)]\n",
      "Edges removed: \n",
      "[(21, 37)]\n",
      "Edges removed: \n",
      "[(21, 195)]\n",
      "Edges removed: \n",
      "[(28, 59)]\n",
      "Edges removed: \n",
      "[(4, 47)]\n",
      "Edges removed: \n",
      "[(4, 155)]\n",
      "Edges removed: \n",
      "[(9, 123)]\n",
      "Edges removed: \n",
      "[(2, 51)]\n",
      "Edges removed: \n",
      "[(29, 62)]\n",
      "Edges removed: \n",
      "[(29, 108)]\n",
      "Edges removed: \n",
      "[(9, 15)]\n",
      "Edges removed: \n",
      "[(12, 28)]\n",
      "Edges removed: \n",
      "[(28, 37)]\n",
      "Edges removed: \n",
      "[(32, 74)]\n",
      "Edges removed: \n",
      "[(3, 37)]\n",
      "Edges removed: \n",
      "[(1, 33)]\n",
      "Edges removed: \n",
      "[(24, 59)]\n",
      "Edges removed: \n",
      "[(2, 108)]\n",
      "Edges removed: \n",
      "[(3, 181)]\n",
      "Edges removed: \n",
      "[(8, 59)]\n",
      "Edges removed: \n",
      "[(8, 95)]\n",
      "Edges removed: \n",
      "[(2, 4)]\n",
      "Edges removed: \n",
      "[(13, 166)]\n",
      "Edges removed: \n",
      "[(17, 118)]\n",
      "Edges removed: \n",
      "[(8, 172)]\n",
      "Edges removed: \n",
      "[(162, 45)]\n",
      "Edges removed: \n",
      "[(36, 74)]\n",
      "Edges removed: \n",
      "[(12, 137)]\n",
      "Edges removed: \n",
      "[(5, 109)]\n",
      "Edges removed: \n",
      "[(3, 77)]\n",
      "Edges removed: \n",
      "[(24, 57)]\n",
      "Edges removed: \n",
      "[(1, 190)]\n",
      "Edges removed: \n",
      "[(194, 62)]\n",
      "Edges removed: \n",
      "[(14, 121)]\n",
      "Edges removed: \n",
      "[(5, 86)]\n",
      "Edges removed: \n",
      "[(13, 195)]\n",
      "Edges removed: \n",
      "[(121, 24)]\n",
      "Edges removed: \n",
      "[(15, 20)]\n",
      "Edges removed: \n",
      "[(10, 81)]\n",
      "Edges removed: \n",
      "[(119, 5)]\n",
      "Edges removed: \n",
      "[(7, 73)]\n",
      "Edges removed: \n",
      "[(80, 31)]\n",
      "Edges removed: \n",
      "[(12, 100)]\n",
      "Edges removed: \n",
      "[(2, 66)]\n",
      "Edges removed: \n",
      "[(185, 31)]\n",
      "Edges removed: \n",
      "[(13, 31)]\n",
      "Edges removed: \n",
      "[(19, 66)]\n",
      "Edges removed: \n",
      "[(5, 56)]\n",
      "Edges removed: \n",
      "[(8, 144)]\n",
      "Edges removed: \n",
      "[(5, 168)]\n",
      "Edges removed: \n",
      "[(5, 33)]\n",
      "Edges removed: \n",
      "[(9, 78)]\n",
      "Edges removed: \n",
      "[(9, 12)]\n",
      "Edges removed: \n",
      "[(20, 22)]\n",
      "Edges removed: \n",
      "[(20, 6)]\n",
      "Edges removed: \n",
      "[(20, 17)]\n",
      "Edges removed: \n",
      "[(6, 62)]\n",
      "Edges removed: \n",
      "[(2, 89)]\n",
      "Edges removed: \n",
      "[(6, 43)]\n",
      "Edges removed: \n",
      "[(0, 50)]\n",
      "Edges removed: \n",
      "[(0, 80)]\n",
      "Edges removed: \n",
      "[(5, 50)]\n",
      "Edges removed: \n",
      "[(80, 25)]\n",
      "Edges removed: \n",
      "[(120, 9)]\n",
      "Edges removed: \n",
      "[(178, 43)]\n",
      "Edges removed: \n",
      "[(26, 25)]\n",
      "Edges removed: \n",
      "[(25, 117)]\n",
      "Edges removed: \n",
      "[(159, 14)]\n",
      "Edges removed: \n",
      "[(25, 56)]\n",
      "Edges removed: \n",
      "[(41, 74)]\n",
      "Edges removed: \n",
      "[(1, 134)]\n",
      "Edges removed: \n",
      "[(1, 119)]\n",
      "Edges removed: \n",
      "[(111, 8)]\n",
      "Edges removed: \n",
      "[(17, 127)]\n",
      "Edges removed: \n",
      "[(19, 57)]\n",
      "Edges removed: \n",
      "[(123, 11)]\n",
      "Edges removed: \n",
      "[(5, 53)]\n",
      "Edges removed: \n",
      "[(8, 18)]\n",
      "Edges removed: \n",
      "[(140, 42)]\n",
      "Edges removed: \n",
      "[(26, 59)]\n",
      "Edges removed: \n",
      "[(43, 17)]\n",
      "Edges removed: \n",
      "[(41, 118)]\n",
      "Edges removed: \n",
      "[(0, 18)]\n",
      "Edges removed: \n",
      "[(79, 49)]\n",
      "Edges removed: \n",
      "[(187, 27)]\n",
      "Edges removed: \n",
      "[(85, 17)]\n",
      "Edges removed: \n",
      "[(67, 29)]\n",
      "Edges removed: \n",
      "[(8, 164)]\n",
      "Edges removed: \n",
      "[(116, 3)]\n",
      "Edges removed: \n",
      "[(21, 115)]\n",
      "Edges removed: \n",
      "[(0, 154)]\n",
      "Edges removed: \n",
      "[(125, 59)]\n",
      "Edges removed: \n",
      "[(17, 26)]\n",
      "Edges removed: \n",
      "[(159, 29)]\n",
      "Edges removed: \n",
      "[(6, 124)]\n",
      "Edges removed: \n",
      "[(79, 2)]\n",
      "Edges removed: \n",
      "[(5, 37)]\n",
      "Edges removed: \n",
      "[(184, 22)]\n",
      "Edges removed: \n",
      "[(14, 92)]\n",
      "Edges removed: \n",
      "[(15, 128)]\n",
      "Edges removed: \n",
      "[(13, 177)]\n",
      "Edges removed: \n",
      "[(163, 4)]\n",
      "Edges removed: \n",
      "[(82, 29)]\n",
      "Edges removed: \n",
      "[(17, 95)]\n",
      "Edges removed: \n",
      "[(42, 17)]\n",
      "Edges removed: \n",
      "[(12, 32)]\n",
      "Edges removed: \n",
      "[(76, 32)]\n",
      "Edges removed: \n",
      "[(44, 10)]\n",
      "Edges removed: \n",
      "[(20, 152)]\n",
      "Edges removed: \n",
      "[(107, 8)]\n",
      "Edges removed: \n",
      "[(133, 9)]\n",
      "Edges removed: \n",
      "[(5, 8)]\n",
      "Edges removed: \n",
      "[(21, 93)]\n",
      "Edges removed: \n",
      "[(15, 86)]\n",
      "Edges removed: \n",
      "[(191, 50)]\n",
      "Edges removed: \n",
      "[(17, 188)]\n",
      "Edges removed: \n",
      "[(11, 108)]\n",
      "Edges removed: \n",
      "[(158, 21)]\n",
      "Edges removed: \n",
      "[(9, 100)]\n",
      "Edges removed: \n",
      "[(149, 15)]\n",
      "Edges removed: \n",
      "[(148, 2)]\n",
      "Edges removed: \n",
      "[(29, 85)]\n",
      "Edges removed: \n",
      "[(66, 29)]\n",
      "Edges removed: \n",
      "[(23, 76)]\n",
      "Edges removed: \n",
      "[(12, 24)]\n",
      "Edges removed: \n",
      "[(11, 32)]\n",
      "Edges removed: \n",
      "[(75, 25)]\n",
      "Edges removed: \n",
      "[(25, 140)]\n",
      "Edges removed: \n",
      "[(23, 24)]\n",
      "Edges removed: \n",
      "[(13, 24)]\n",
      "Edges removed: \n",
      "[(19, 91)]\n",
      "Edges removed: \n",
      "[(13, 179)]\n",
      "Edges removed: \n",
      "[(82, 32)]\n",
      "Edges removed: \n",
      "[(175, 23)]\n",
      "Edges removed: \n",
      "[(7, 19)]\n",
      "Edges removed: \n",
      "[(3, 19)]\n",
      "Edges removed: \n",
      "[(132, 23)]\n",
      "Edges removed: \n",
      "[(176, 23)]\n",
      "Edges removed: \n",
      "[(3, 51)]\n",
      "Edges removed: \n",
      "[(17, 22)]\n",
      "Edges removed: \n",
      "[(158, 17)]\n",
      "Edges removed: \n",
      "[(10, 187)]\n",
      "Edges removed: \n",
      "[(10, 74)]\n",
      "Edges removed: \n",
      "[(112, 10)]\n",
      "Edges removed: \n",
      "[(3, 123)]\n",
      "Edges removed: \n",
      "[(126, 22)]\n",
      "Edges removed: \n",
      "[(15, 28)]\n",
      "Edges removed: \n",
      "[(15, 133)]\n",
      "Edges removed: \n",
      "[(4, 73)]\n",
      "Edges removed: \n",
      "[(194, 13)]\n",
      "Edges removed: \n",
      "[(0, 47)]\n",
      "Edges removed: \n",
      "[(180, 12)]\n",
      "Edges removed: \n",
      "[(9, 185)]\n",
      "Edges removed: \n",
      "[(68, 21)]\n",
      "Edges removed: \n",
      "[(25, 24)]\n",
      "Edges removed: \n",
      "[(21, 119)]\n",
      "Edges removed: \n",
      "[(80, 21)]\n",
      "Edges removed: \n",
      "[(33, 96)]\n",
      "Edges removed: \n",
      "[(22, 177)]\n",
      "Edges removed: \n",
      "[(19, 33)]\n",
      "Edges removed: \n",
      "[(181, 47)]\n",
      "Edges removed: \n",
      "[(160, 27)]\n",
      "Edges removed: \n",
      "[(3, 110)]\n",
      "Edges removed: \n",
      "[(122, 3)]\n",
      "Edges removed: \n",
      "[(6, 50)]\n",
      "Edges removed: \n",
      "[(6, 94)]\n",
      "Edges removed: \n",
      "[(3, 29)]\n",
      "Edges removed: \n",
      "[(6, 29)]\n",
      "Edges removed: \n",
      "[(6, 120)]\n",
      "Edges removed: \n",
      "[(114, 47)]\n",
      "Edges removed: \n",
      "[(105, 47)]\n",
      "Edges removed: \n",
      "[(4, 88)]\n",
      "Edges removed: \n",
      "[(4, 119)]\n",
      "Edges removed: \n",
      "[(183, 18)]\n",
      "Edges removed: \n",
      "[(192, 18)]\n",
      "Edges removed: \n",
      "[(12, 81)]\n",
      "Edges removed: \n",
      "[(128, 27)]\n",
      "Edges removed: \n",
      "[(185, 24)]\n",
      "Edges removed: \n",
      "[(12, 68)]\n",
      "Edges removed: \n",
      "[(148, 4)]\n",
      "Edges removed: \n",
      "[(93, 4)]\n",
      "Edges removed: \n",
      "[(134, 11)]\n",
      "Edges removed: \n",
      "[(119, 11)]\n",
      "Edges removed: \n",
      "[(7, 173)]\n",
      "Edges removed: \n",
      "[(5, 112)]\n",
      "Edges removed: \n",
      "[(12, 199)]\n",
      "Edges removed: \n",
      "[(12, 75)]\n",
      "Edges removed: \n",
      "[(103, 12)]\n",
      "Edges removed: \n",
      "[(161, 6)]\n",
      "Edges removed: \n",
      "[(55, 6)]\n",
      "Edges removed: \n",
      "[(0, 148)]\n",
      "Edges removed: \n",
      "[(86, 20)]\n",
      "Edges removed: \n",
      "[(68, 47)]\n",
      "Edges removed: \n",
      "[(119, 47)]\n",
      "Edges removed: \n",
      "[(2, 68)]\n",
      "Edges removed: \n",
      "[(110, 24)]\n",
      "Edges removed: \n",
      "[(105, 24)]\n",
      "Edges removed: \n",
      "[(9, 181)]\n",
      "Edges removed: \n",
      "[(155, 11)]\n",
      "Edges removed: \n",
      "[(76, 13)]\n",
      "Edges removed: \n",
      "[(107, 13)]\n",
      "Edges removed: \n",
      "[(71, 13)]\n",
      "Edges removed: \n",
      "[(6, 130)]\n",
      "Edges removed: \n",
      "[(6, 95)]\n",
      "Edges removed: \n",
      "[(2, 162)]\n",
      "Edges removed: \n",
      "[(103, 8)]\n",
      "Edges removed: \n",
      "[(130, 20)]\n",
      "Edges removed: \n",
      "[(87, 20)]\n",
      "Edges removed: \n",
      "[(6, 83)]\n",
      "Edges removed: \n",
      "[(171, 21)]\n",
      "Edges removed: \n",
      "[(1, 35)]\n",
      "Edges removed: \n",
      "[(159, 5)]\n",
      "Edges removed: \n",
      "[(11, 173)]\n",
      "Edges removed: \n",
      "[(160, 18)]\n",
      "Edges removed: \n",
      "[(150, 9)]\n",
      "Edges removed: \n",
      "[(7, 99)]\n",
      "Edges removed: \n",
      "[(23, 19)]\n",
      "Edges removed: \n",
      "[(23, 140)]\n",
      "Edges removed: \n",
      "[(10, 19)]\n",
      "Edges removed: \n",
      "[(134, 19)]\n",
      "Edges removed: \n",
      "[(76, 12)]\n",
      "Edges removed: \n",
      "[(11, 160)]\n",
      "Edges removed: \n",
      "[(88, 23)]\n",
      "Edges removed: \n",
      "[(11, 115)]\n",
      "Edges removed: \n",
      "[(11, 188)]\n",
      "Edges removed: \n",
      "[(115, 23)]\n",
      "Edges removed: \n",
      "[(188, 23)]\n",
      "Edges removed: \n",
      "[(125, 11)]\n",
      "Edges removed: \n",
      "[(181, 11)]\n",
      "Edges removed: \n",
      "[(89, 11)]\n",
      "Edges removed: \n",
      "[(6, 171)]\n",
      "Edges removed: \n",
      "[(121, 18)]\n",
      "Edges removed: \n",
      "[(166, 18)]\n",
      "Edges removed: \n",
      "[(42, 18)]\n",
      "Edges removed: \n",
      "[(0, 181)]\n",
      "Edges removed: \n",
      "[(86, 6)]\n",
      "Edges removed: \n",
      "[(71, 6)]\n",
      "Edges removed: \n",
      "[(130, 13)]\n",
      "Edges removed: \n",
      "[(103, 13)]\n",
      "Edges removed: \n",
      "[(134, 13)]\n",
      "Edges removed: \n",
      "[(152, 31)]\n",
      "Edges removed: \n",
      "[(2, 103)]\n",
      "Edges removed: \n",
      "[(199, 31)]\n",
      "Edges removed: \n",
      "[(0, 149)]\n",
      "Edges removed: \n",
      "[(0, 116)]\n",
      "Edges removed: \n",
      "[(0, 140)]\n",
      "Edges removed: \n",
      "[(0, 93)]\n",
      "Edges removed: \n",
      "[(129, 28)]\n",
      "Edges removed: \n",
      "[(2, 152)]\n",
      "Edges removed: \n",
      "[(2, 199)]\n",
      "Edges removed: \n",
      "[(2, 94)]\n",
      "Edges removed: \n",
      "[(2, 110)]\n",
      "Edges removed: \n",
      "[(44, 6)]\n",
      "Edges removed: \n",
      "[(2, 189)]\n",
      "Edges removed: \n",
      "[(2, 42)]\n",
      "Edges removed: \n",
      "[(2, 122)]\n",
      "Finished\n",
      "Total time 621.3434615135193\n",
      "Distortion 0.43390191897654584\n"
     ]
    }
   ],
   "source": [
    "G_aux = anonimize(G1)"
   ]
  },
  {
   "cell_type": "code",
   "execution_count": 73,
   "metadata": {
    "collapsed": false
   },
   "outputs": [
    {
     "name": "stdout",
     "output_type": "stream",
     "text": [
      "Edges removed: \n",
      "[(35, 75)]\n",
      "Edges removed: \n",
      "[(51, 167)]\n",
      "Edges removed: \n",
      "[(35, 128)]\n",
      "Edges removed: \n",
      "[(21, 195)]\n",
      "Edges removed: \n",
      "[(58, 178)]\n",
      "Edges removed: \n",
      "[(15, 151)]\n",
      "Edges removed: \n",
      "[(22, 97)]\n",
      "Edges removed: \n",
      "[(2, 169)]\n",
      "Edges removed: \n",
      "[(6, 124)]\n",
      "Edges removed: \n",
      "[(47, 198)]\n",
      "Edges removed: \n",
      "[(30, 186)]\n",
      "Edges removed: \n",
      "[(41, 120)]\n",
      "Edges removed: \n",
      "[(4, 110)]\n",
      "Edges removed: \n",
      "[(12, 160)]\n",
      "Edges removed: \n",
      "[(43, 28)]\n",
      "Edges removed: \n",
      "[(6, 144)]\n",
      "Edges removed: \n",
      "[(18, 168)]\n",
      "Edges removed: \n",
      "[(19, 134)]\n",
      "Edges removed: \n",
      "[(56, 186)]\n",
      "Edges removed: \n",
      "[(11, 34)]\n",
      "Edges removed: \n",
      "[(4, 135)]\n",
      "Edges removed: \n",
      "[(27, 7)]\n",
      "Edges removed: \n",
      "[(84, 134)]\n",
      "Edges removed: \n",
      "[(15, 149)]\n",
      "Edges removed: \n",
      "[(1, 35)]\n",
      "Edges removed: \n",
      "[(46, 160)]\n",
      "Edges removed: \n",
      "[(71, 121)]\n",
      "Edges removed: \n",
      "[(33, 68)]\n",
      "Edges removed: \n",
      "[(68, 165)]\n",
      "Edges removed: \n",
      "[(0, 198)]\n",
      "Edges removed: \n",
      "[(74, 66)]\n",
      "Edges removed: \n",
      "[(41, 118)]\n",
      "Edges removed: \n",
      "[(4, 9)]\n",
      "Edges removed: \n",
      "[(5, 86)]\n",
      "Edges removed: \n",
      "[(83, 167)]\n",
      "Edges removed: \n",
      "[(67, 167)]\n",
      "Edges removed: \n",
      "[(0, 178)]\n",
      "Edges removed: \n",
      "[(3, 186)]\n",
      "Edges removed: \n",
      "[(9, 124)]\n",
      "Edges removed: \n",
      "[(17, 167)]\n",
      "Edges removed: \n",
      "[(57, 167)]\n",
      "Edges removed: \n",
      "[(3, 167)]\n",
      "Edges removed: \n",
      "[(10, 66)]\n",
      "Edges removed: \n",
      "[(47, 197)]\n",
      "Edges removed: \n",
      "[(40, 117)]\n",
      "Edges removed: \n",
      "[(33, 117)]\n",
      "Edges removed: \n",
      "[(8, 117)]\n",
      "Edges removed: \n",
      "[(8, 170)]\n",
      "Edges removed: \n",
      "[(34, 170)]\n",
      "Edges removed: \n",
      "[(20, 59)]\n",
      "Edges removed: \n",
      "[(6, 110)]\n",
      "Edges removed: \n",
      "[(6, 178)]\n",
      "Edges removed: \n",
      "[(6, 105)]\n",
      "Edges removed: \n",
      "[(76, 178)]\n",
      "Edges removed: \n",
      "[(52, 56)]\n",
      "Edges removed: \n",
      "[(40, 36)]\n",
      "Edges removed: \n",
      "[(9, 41)]\n",
      "Edges removed: \n",
      "[(19, 77)]\n",
      "Edges removed: \n",
      "[(7, 21)]\n",
      "Edges removed: \n",
      "[(5, 55)]\n",
      "Edges removed: \n",
      "[(5, 183)]\n",
      "Edges removed: \n",
      "[(28, 168)]\n",
      "Edges removed: \n",
      "[(4, 168)]\n",
      "Edges removed: \n",
      "[(15, 21)]\n",
      "Edges removed: \n",
      "[(21, 184)]\n",
      "Edges removed: \n",
      "[(21, 115)]\n",
      "Edges removed: \n",
      "[(0, 183)]\n",
      "Edges removed: \n",
      "[(93, 167)]\n",
      "Edges removed: \n",
      "[(49, 72)]\n",
      "Edges removed: \n",
      "[(92, 99)]\n",
      "Edges removed: \n",
      "[(18, 165)]\n",
      "Edges removed: \n",
      "[(17, 105)]\n",
      "Edges removed: \n",
      "[(17, 21)]\n",
      "Edges removed: \n",
      "[(20, 45)]\n",
      "Edges removed: \n",
      "[(21, 105)]\n",
      "Edges removed: \n",
      "[(15, 185)]\n",
      "Edges removed: \n",
      "[(6, 71)]\n",
      "Edges removed: \n",
      "[(71, 55)]\n",
      "Edges removed: \n",
      "[(46, 71)]\n",
      "Edges removed: \n",
      "[(19, 33)]\n",
      "Edges removed: \n",
      "[(152, 125)]\n",
      "Edges removed: \n",
      "[(13, 95)]\n",
      "Edges removed: \n",
      "[(7, 150)]\n",
      "Edges removed: \n",
      "[(7, 52)]\n",
      "Edges removed: \n",
      "[(84, 168)]\n",
      "Edges removed: \n",
      "[(7, 104)]\n",
      "Edges removed: \n",
      "[(34, 184)]\n",
      "Edges removed: \n",
      "[(34, 115)]\n",
      "Edges removed: \n",
      "[(7, 129)]\n",
      "Edges removed: \n",
      "[(18, 117)]\n",
      "Edges removed: \n",
      "[(18, 141)]\n",
      "Edges removed: \n",
      "[(1, 119)]\n",
      "Edges removed: \n",
      "[(2, 156)]\n",
      "Edges removed: \n",
      "[(33, 85)]\n",
      "Edges removed: \n",
      "[(12, 137)]\n",
      "Edges removed: \n",
      "[(22, 105)]\n",
      "Edges removed: \n",
      "[(36, 105)]\n",
      "Edges removed: \n",
      "[(49, 101)]\n",
      "Edges removed: \n",
      "[(10, 125)]\n",
      "Edges removed: \n",
      "[(29, 76)]\n",
      "Edges removed: \n",
      "[(17, 184)]\n",
      "Edges removed: \n",
      "[(5, 168)]\n",
      "Edges removed: \n",
      "[(6, 88)]\n",
      "Edges removed: \n",
      "[(15, 80)]\n",
      "Edges removed: \n",
      "[(15, 170)]\n",
      "Edges removed: \n",
      "[(19, 23)]\n",
      "Edges removed: \n",
      "[(19, 73)]\n",
      "Edges removed: \n",
      "[(26, 73)]\n",
      "Edges removed: \n",
      "[(6, 95)]\n",
      "Edges removed: \n",
      "[(29, 143)]\n",
      "Edges removed: \n",
      "[(15, 28)]\n",
      "Edges removed: \n",
      "[(50, 184)]\n",
      "Edges removed: \n",
      "[(23, 140)]\n",
      "Edges removed: \n",
      "[(52, 101)]\n",
      "Edges removed: \n",
      "[(17, 164)]\n",
      "Edges removed: \n",
      "[(17, 95)]\n",
      "Edges removed: \n",
      "[(58, 129)]\n",
      "Edges removed: \n",
      "[(75, 132)]\n",
      "Edges removed: \n",
      "[(81, 132)]\n",
      "Edges removed: \n",
      "[(56, 94)]\n",
      "Edges removed: \n",
      "[(15, 93)]\n",
      "Edges removed: \n",
      "[(25, 190)]\n",
      "Edges removed: \n",
      "[(80, 137)]\n",
      "Edges removed: \n",
      "[(44, 175)]\n",
      "Edges removed: \n",
      "[(51, 140)]\n",
      "Edges removed: \n",
      "[(19, 140)]\n",
      "Edges removed: \n",
      "[(14, 71)]\n",
      "Edges removed: \n",
      "[(13, 123)]\n",
      "Edges removed: \n",
      "[(13, 39)]\n",
      "Edges removed: \n",
      "[(39, 172)]\n",
      "Edges removed: \n",
      "[(37, 68)]\n",
      "Edges removed: \n",
      "[(10, 93)]\n",
      "Edges removed: \n",
      "[(4, 102)]\n",
      "Edges removed: \n",
      "[(4, 129)]\n",
      "Edges removed: \n",
      "[(14, 129)]\n",
      "Edges removed: \n",
      "[(34, 2)]\n",
      "Edges removed: \n",
      "[(25, 95)]\n",
      "Edges removed: \n",
      "[(64, 53)]\n",
      "Edges removed: \n",
      "[(31, 102)]\n",
      "Edges removed: \n",
      "[(32, 76)]\n",
      "Edges removed: \n",
      "[(76, 96)]\n",
      "Edges removed: \n",
      "[(79, 184)]\n",
      "Edges removed: \n",
      "[(26, 33)]\n",
      "Edges removed: \n",
      "[(80, 184)]\n",
      "Edges removed: \n",
      "[(75, 106)]\n",
      "Edges removed: \n",
      "[(79, 90)]\n",
      "Edges removed: \n",
      "[(48, 107)]\n",
      "Edges removed: \n",
      "[(25, 48)]\n",
      "Edges removed: \n",
      "[(48, 53)]\n",
      "Edges removed: \n",
      "[(48, 63)]\n",
      "Edges removed: \n",
      "[(48, 2)]\n",
      "Edges removed: \n",
      "[(48, 31)]\n",
      "Edges removed: \n",
      "[(2, 89)]\n",
      "Edges removed: \n",
      "[(0, 107)]\n",
      "Edges removed: \n",
      "[(21, 107)]\n",
      "Edges removed: \n",
      "[(0, 83)]\n",
      "Edges removed: \n",
      "[(28, 87)]\n",
      "Edges removed: \n",
      "[(37, 87)]\n",
      "Edges removed: \n",
      "[(57, 101)]\n",
      "Edges removed: \n",
      "[(3, 37)]\n",
      "Edges removed: \n",
      "[(29, 37)]\n",
      "Edges removed: \n",
      "[(22, 29)]\n",
      "Edges removed: \n",
      "[(28, 101)]\n",
      "Edges removed: \n",
      "[(14, 88)]\n",
      "Edges removed: \n",
      "[(14, 59)]\n",
      "Edges removed: \n",
      "[(59, 125)]\n",
      "Edges removed: \n",
      "[(18, 51)]\n",
      "Edges removed: \n",
      "[(0, 41)]\n",
      "Edges removed: \n",
      "[(21, 67)]\n",
      "Edges removed: \n",
      "[(5, 53)]\n",
      "Edges removed: \n",
      "[(15, 58)]\n",
      "Edges removed: \n",
      "[(24, 84)]\n",
      "Edges removed: \n",
      "[(24, 39)]\n",
      "Edges removed: \n",
      "[(15, 22)]\n",
      "Edges removed: \n",
      "[(15, 19)]\n",
      "Edges removed: \n",
      "[(29, 66)]\n",
      "Edges removed: \n",
      "[(29, 72)]\n",
      "Edges removed: \n",
      "[(20, 152)]\n",
      "Edges removed: \n",
      "[(6, 83)]\n",
      "Edges removed: \n",
      "[(6, 46)]\n",
      "Edges removed: \n",
      "[(55, 106)]\n",
      "Edges removed: \n",
      "[(6, 76)]\n",
      "Edges removed: \n",
      "[(19, 66)]\n",
      "Edges removed: \n",
      "[(21, 63)]\n",
      "Edges removed: \n",
      "[(32, 84)]\n",
      "Edges removed: \n",
      "[(37, 62)]\n",
      "Edges removed: \n",
      "[(21, 54)]\n",
      "Edges removed: \n",
      "[(5, 125)]\n",
      "Edges removed: \n",
      "[(45, 63)]\n",
      "Edges removed: \n",
      "[(5, 63)]\n",
      "Edges removed: \n",
      "[(88, 125)]\n",
      "Edges removed: \n",
      "[(45, 65)]\n",
      "Edges removed: \n",
      "[(44, 123)]\n",
      "Edges removed: \n",
      "[(69, 97)]\n",
      "Edges removed: \n",
      "[(71, 75)]\n",
      "Edges removed: \n",
      "[(13, 82)]\n",
      "Edges removed: \n",
      "[(79, 82)]\n",
      "Edges removed: \n",
      "[(3, 79)]\n",
      "Edges removed: \n",
      "[(5, 41)]\n",
      "Edges removed: \n",
      "[(2, 152)]\n",
      "Edges removed: \n",
      "[(75, 99)]\n",
      "Edges removed: \n",
      "[(60, 184)]\n",
      "Edges removed: \n",
      "[(22, 60)]\n",
      "Edges removed: \n",
      "[(79, 81)]\n",
      "Edges removed: \n",
      "[(46, 101)]\n",
      "Edges removed: \n",
      "[(19, 100)]\n",
      "Edges removed: \n",
      "[(50, 100)]\n",
      "Edges removed: \n",
      "[(6, 60)]\n",
      "Edges removed: \n",
      "[(6, 50)]\n",
      "Edges removed: \n",
      "[(12, 180)]\n",
      "Edges removed: \n",
      "[(28, 68)]\n",
      "Edges removed: \n",
      "[(5, 69)]\n",
      "Edges removed: \n",
      "[(5, 56)]\n",
      "Edges removed: \n",
      "[(5, 13)]\n",
      "Edges removed: \n",
      "[(8, 64)]\n",
      "Edges removed: \n",
      "[(12, 97)]\n",
      "Edges removed: \n",
      "[(12, 68)]\n",
      "Edges removed: \n",
      "[(51, 80)]\n",
      "Edges removed: \n",
      "[(29, 80)]\n",
      "Edges removed: \n",
      "[(37, 82)]\n",
      "Edges removed: \n",
      "[(29, 38)]\n",
      "Edges removed: \n",
      "[(1, 74)]\n",
      "Edges removed: \n",
      "[(14, 92)]\n",
      "Edges removed: \n",
      "[(6, 89)]\n",
      "Edges removed: \n",
      "[(6, 19)]\n",
      "Edges removed: \n",
      "[(55, 57)]\n",
      "Edges removed: \n",
      "[(44, 89)]\n",
      "Edges removed: \n",
      "[(10, 85)]\n",
      "Edges removed: \n",
      "[(51, 89)]\n",
      "Edges removed: \n",
      "[(22, 184)]\n",
      "Edges removed: \n",
      "[(21, 80)]\n",
      "Edges removed: \n",
      "[(21, 108)]\n",
      "Edges removed: \n",
      "[(28, 59)]\n",
      "Edges removed: \n",
      "[(62, 59)]\n",
      "Edges removed: \n",
      "[(1, 92)]\n",
      "Edges removed: \n",
      "[(24, 110)]\n",
      "Edges removed: \n",
      "[(59, 110)]\n",
      "Edges removed: \n",
      "[(12, 56)]\n",
      "Edges removed: \n",
      "[(46, 48)]\n",
      "Edges removed: \n",
      "[(67, 152)]\n",
      "Edges removed: \n",
      "[(12, 14)]\n",
      "Edges removed: \n",
      "[(7, 105)]\n",
      "Edges removed: \n",
      "[(7, 84)]\n",
      "Edges removed: \n",
      "[(36, 84)]\n",
      "Edges removed: \n",
      "[(56, 79)]\n",
      "Edges removed: \n",
      "[(56, 80)]\n",
      "Edges removed: \n",
      "[(6, 44)]\n",
      "Edges removed: \n",
      "[(50, 29)]\n",
      "Edges removed: \n",
      "[(29, 85)]\n",
      "Edges removed: \n",
      "[(10, 121)]\n",
      "Edges removed: \n",
      "[(7, 78)]\n",
      "Edges removed: \n",
      "[(55, 152)]\n",
      "Edges removed: \n",
      "[(39, 87)]\n",
      "Edges removed: \n",
      "[(19, 64)]\n",
      "Edges removed: \n",
      "[(19, 10)]\n",
      "Edges removed: \n",
      "[(17, 36)]\n",
      "Edges removed: \n",
      "[(36, 102)]\n",
      "Edges removed: \n",
      "[(13, 71)]\n",
      "Edges removed: \n",
      "[(27, 81)]\n",
      "Edges removed: \n",
      "[(50, 69)]\n",
      "Edges removed: \n",
      "[(28, 172)]\n",
      "Edges removed: \n",
      "[(25, 80)]\n",
      "Edges removed: \n",
      "[(49, 92)]\n",
      "Edges removed: \n",
      "[(17, 85)]\n",
      "Edges removed: \n",
      "[(17, 22)]\n",
      "Edges removed: \n",
      "[(17, 42)]\n",
      "Edges removed: \n",
      "[(17, 108)]\n",
      "Edges removed: \n",
      "[(17, 2)]\n",
      "Edges removed: \n",
      "[(9, 108)]\n",
      "Edges removed: \n",
      "[(9, 181)]\n",
      "Edges removed: \n",
      "[(9, 25)]\n",
      "Edges removed: \n",
      "[(29, 108)]\n",
      "Edges removed: \n",
      "[(9, 85)]\n",
      "Edges removed: \n",
      "[(5, 33)]\n",
      "Edges removed: \n",
      "[(132, 97)]\n",
      "Edges removed: \n",
      "[(7, 196)]\n",
      "Edges removed: \n",
      "[(182, 108)]\n",
      "Edges removed: \n",
      "[(181, 52)]\n",
      "Edges removed: \n",
      "[(56, 84)]\n",
      "Edges removed: \n",
      "[(54, 84)]\n",
      "Edges removed: \n",
      "[(83, 84)]\n",
      "Edges removed: \n",
      "[(81, 84)]\n",
      "Edges removed: \n",
      "[(8, 107)]\n",
      "Edges removed: \n",
      "[(19, 142)]\n",
      "Edges removed: \n",
      "[(19, 57)]\n",
      "Edges removed: \n",
      "[(13, 90)]\n",
      "Edges removed: \n",
      "[(73, 75)]\n",
      "Edges removed: \n",
      "[(1, 80)]\n",
      "Edges removed: \n",
      "[(59, 26)]\n",
      "Edges removed: \n",
      "[(42, 16)]\n",
      "Edges removed: \n",
      "[(21, 106)]\n",
      "Edges removed: \n",
      "[(21, 70)]\n",
      "Edges removed: \n",
      "[(10, 126)]\n",
      "Edges removed: \n",
      "[(10, 62)]\n",
      "Edges removed: \n",
      "[(42, 21)]\n",
      "Edges removed: \n",
      "[(25, 26)]\n",
      "Edges removed: \n",
      "[(4, 106)]\n",
      "Edges removed: \n",
      "[(50, 85)]\n",
      "Edges removed: \n",
      "[(48, 62)]\n",
      "Edges removed: \n",
      "[(39, 149)]\n",
      "Edges removed: \n",
      "[(148, 97)]\n",
      "Edges removed: \n",
      "[(59, 38)]\n",
      "Edges removed: \n",
      "[(7, 67)]\n",
      "Edges removed: \n",
      "[(13, 30)]\n",
      "Edges removed: \n",
      "[(13, 102)]\n",
      "Edges removed: \n",
      "[(6, 161)]\n",
      "Edges removed: \n",
      "[(25, 50)]\n",
      "Edges removed: \n",
      "[(1, 163)]\n",
      "Edges removed: \n",
      "[(155, 50)]\n",
      "Edges removed: \n",
      "[(21, 155)]\n",
      "Edges removed: \n",
      "[(0, 47)]\n",
      "Edges removed: \n",
      "[(19, 172)]\n",
      "Edges removed: \n",
      "[(23, 139)]\n",
      "Edges removed: \n",
      "[(15, 94)]\n",
      "Edges removed: \n",
      "[(24, 59)]\n",
      "Edges removed: \n",
      "[(19, 85)]\n",
      "Edges removed: \n",
      "[(9, 100)]\n",
      "Edges removed: \n",
      "[(2, 87)]\n",
      "Edges removed: \n",
      "[(28, 56)]\n",
      "Edges removed: \n",
      "[(40, 152)]\n",
      "Edges removed: \n",
      "[(28, 152)]\n",
      "Edges removed: \n",
      "[(28, 37)]\n",
      "Edges removed: \n",
      "[(21, 45)]\n",
      "Edges removed: \n",
      "[(37, 81)]\n",
      "Edges removed: \n",
      "[(104, 9)]\n",
      "Edges removed: \n",
      "[(2, 44)]\n",
      "Edges removed: \n",
      "[(89, 50)]\n",
      "Edges removed: \n",
      "[(27, 70)]\n",
      "Edges removed: \n",
      "[(93, 56)]\n",
      "Edges removed: \n",
      "[(185, 45)]\n",
      "Edges removed: \n",
      "[(5, 112)]\n",
      "Edges removed: \n",
      "[(23, 170)]\n",
      "Edges removed: \n",
      "[(21, 25)]\n",
      "Edges removed: \n",
      "[(1, 57)]\n",
      "Edges removed: \n",
      "[(1, 9)]\n",
      "Edges removed: \n",
      "[(0, 156)]\n",
      "Edges removed: \n",
      "[(191, 85)]\n",
      "Edges removed: \n",
      "[(41, 88)]\n",
      "Edges removed: \n",
      "[(42, 181)]\n",
      "Edges removed: \n",
      "[(92, 62)]\n",
      "Edges removed: \n",
      "[(10, 174)]\n",
      "Edges removed: \n",
      "[(3, 29)]\n",
      "Edges removed: \n",
      "[(73, 31)]\n",
      "Edges removed: \n",
      "[(41, 104)]\n",
      "Edges removed: \n",
      "[(5, 107)]\n",
      "Edges removed: \n",
      "[(21, 47)]\n",
      "Edges removed: \n",
      "[(28, 51)]\n",
      "Edges removed: \n",
      "[(28, 199)]\n",
      "Edges removed: \n",
      "[(28, 70)]\n",
      "Edges removed: \n",
      "[(20, 35)]\n",
      "Edges removed: \n",
      "[(159, 5)]\n",
      "Edges removed: \n",
      "[(129, 28)]\n",
      "Edges removed: \n",
      "[(56, 40)]\n",
      "Edges removed: \n",
      "[(172, 71)]\n",
      "Edges removed: \n",
      "[(2, 134)]\n",
      "Edges removed: \n",
      "[(4, 22)]\n",
      "Edges removed: \n",
      "[(42, 50)]\n",
      "Edges removed: \n",
      "[(4, 111)]\n",
      "Edges removed: \n",
      "[(1, 112)]\n",
      "Edges removed: \n",
      "[(10, 41)]\n",
      "Edges removed: \n",
      "[(21, 28)]\n",
      "Edges removed: \n",
      "[(19, 119)]\n",
      "Edges removed: \n",
      "[(19, 28)]\n",
      "Edges removed: \n",
      "[(181, 47)]\n",
      "Edges removed: \n",
      "[(93, 28)]\n",
      "Finished\n",
      "Total time 1512.610279083252\n",
      "Distortion 0.2812018489984592\n"
     ]
    }
   ],
   "source": [
    "G_san = anonimize(G2)"
   ]
  },
  {
   "cell_type": "code",
   "execution_count": null,
   "metadata": {
    "collapsed": true
   },
   "outputs": [],
   "source": []
  },
  {
   "cell_type": "code",
   "execution_count": null,
   "metadata": {
    "collapsed": true
   },
   "outputs": [],
   "source": []
  },
  {
   "cell_type": "code",
   "execution_count": null,
   "metadata": {
    "collapsed": true
   },
   "outputs": [],
   "source": []
  },
  {
   "cell_type": "code",
   "execution_count": null,
   "metadata": {
    "collapsed": true
   },
   "outputs": [],
   "source": []
  },
  {
   "cell_type": "code",
   "execution_count": 12,
   "metadata": {
    "collapsed": false
   },
   "outputs": [
    {
     "data": {
      "text/plain": [
       "'956 vs 1271'"
      ]
     },
     "execution_count": 12,
     "metadata": {},
     "output_type": "execute_result"
    }
   ],
   "source": [
    "str(G_aux.number_of_edges())+  ' vs '  +  str(G_san.number_of_edges())"
   ]
  },
  {
   "cell_type": "markdown",
   "metadata": {},
   "source": [
    "### Train data"
   ]
  },
  {
   "cell_type": "code",
   "execution_count": null,
   "metadata": {
    "collapsed": true
   },
   "outputs": [],
   "source": []
  },
  {
   "cell_type": "code",
   "execution_count": null,
   "metadata": {
    "collapsed": true
   },
   "outputs": [],
   "source": []
  },
  {
   "cell_type": "code",
   "execution_count": null,
   "metadata": {
    "collapsed": false
   },
   "outputs": [],
   "source": []
  },
  {
   "cell_type": "code",
   "execution_count": 28,
   "metadata": {
    "collapsed": true
   },
   "outputs": [],
   "source": []
  },
  {
   "cell_type": "code",
   "execution_count": null,
   "metadata": {
    "collapsed": false
   },
   "outputs": [],
   "source": []
  },
  {
   "cell_type": "code",
   "execution_count": null,
   "metadata": {
    "collapsed": false
   },
   "outputs": [],
   "source": []
  },
  {
   "cell_type": "code",
   "execution_count": null,
   "metadata": {
    "collapsed": false
   },
   "outputs": [],
   "source": []
  },
  {
   "cell_type": "code",
   "execution_count": 32,
   "metadata": {
    "collapsed": false
   },
   "outputs": [],
   "source": [
    "from sklearn.metrics import roc_curve, auc\n",
    "y_score = forest.predict_proba(test_set)\n",
    "y_true = test_labels\n",
    "fpr, tpr, thresholds = roc_curve(y_true, y_score[:, 1])\n",
    "roc_auc = auc(fpr, tpr)"
   ]
  },
  {
   "cell_type": "code",
   "execution_count": 21,
   "metadata": {
    "collapsed": false
   },
   "outputs": [
    {
     "data": {
      "image/png": "[encoded data removed]",
      "text/plain": [
       "<matplotlib.figure.Figure at 0x116655d30>"
      ]
     },
     "metadata": {},
     "output_type": "display_data"
    }
   ],
   "source": [
    "plt.title('Receiver Operating Characteristic')\n",
    "plt.plot(fpr, tpr, 'b',\n",
    "label='GS, AUC = %0.2f'% roc_auc)\n",
    "plt.legend(loc='lower right')\n",
    "plt.plot([0,1],[0,1],'r--')\n",
    "plt.xlim([-0.1,1.2])\n",
    "plt.ylim([-0.1,1.2])\n",
    "plt.ylabel('True Positive Rate')\n",
    "plt.xlabel('False Positive Rate')\n",
    "plt.show()"
   ]
  },
  {
   "cell_type": "code",
   "execution_count": 33,
   "metadata": {
    "collapsed": false
   },
   "outputs": [],
   "source": [
    "from sklearn.metrics import roc_curve, auc\n",
    "y_score = forest.predict_proba(test_set)\n",
    "y_true = test_labels\n",
    "fpr, tpr, thresholds = roc_curve(y_true, y_score[:, 1])\n",
    "roc_auc = auc(fpr, tpr)"
   ]
  },
  {
   "cell_type": "code",
   "execution_count": 34,
   "metadata": {
    "collapsed": false
   },
   "outputs": [
    {
     "data": {
      "image/png": "[encoded data removed]",
      "text/plain": [
       "<matplotlib.figure.Figure at 0x116960240>"
      ]
     },
     "metadata": {},
     "output_type": "display_data"
    }
   ],
   "source": [
    "plt.title('Receiver Operating Characteristic')\n",
    "plt.plot(fpr, tpr, 'b',\n",
    "label='GS, AUC = %0.2f'% roc_auc)\n",
    "plt.legend(loc='lower right')\n",
    "plt.plot([0,1],[0,1],'r--')\n",
    "plt.xlim([-0.1,1.2])\n",
    "plt.ylim([-0.1,1.2])\n",
    "plt.ylabel('True Positive Rate')\n",
    "plt.xlabel('False Positive Rate')\n",
    "plt.show()"
   ]
  },
  {
   "cell_type": "code",
   "execution_count": null,
   "metadata": {
    "collapsed": false
   },
   "outputs": [],
   "source": []
  },
  {
   "cell_type": "code",
   "execution_count": 1,
   "metadata": {
    "collapsed": true
   },
   "outputs": [],
   "source": [
    "import community"
   ]
  },
  {
   "cell_type": "code",
   "execution_count": 2,
   "metadata": {
    "collapsed": false
   },
   "outputs": [],
   "source": [
    "import networkx as nx"
   ]
  },
  {
   "cell_type": "code",
   "execution_count": 3,
   "metadata": {
    "collapsed": false
   },
   "outputs": [],
   "source": [
    "G = nx.karate_club_graph()"
   ]
  },
  {
   "cell_type": "code",
   "execution_count": 8,
   "metadata": {
    "collapsed": false
   },
   "outputs": [
    {
     "data": {
      "image/png": "[encoded data removed]",
      "text/plain": [
       "<matplotlib.figure.Figure at 0x7f29a4b62710>"
      ]
     },
     "metadata": {},
     "output_type": "display_data"
    }
   ],
   "source": [
    "import community\n",
    "    import networkx as nx\n",
    "    import matplotlib.pyplot as plt\n",
    "\n",
    "    #better with karate_graph() as defined in networkx example.\n",
    "    #erdos renyi don't have true community structure\n",
    "    G = nx.erdos_renyi_graph(30, 0.05)\n",
    "\n",
    "    #first compute the best partition\n",
    "    partition = community.best_partition(G)\n",
    "\n",
    "    #drawing\n",
    "    size = float(len(set(partition.values())))\n",
    "    pos = nx.spring_layout(G)\n",
    "    count = 0.\n",
    "    for com in set(partition.values()) :\n",
    "        count = count + 1.\n",
    "        list_nodes = [nodes for nodes in partition.keys()\n",
    "                                    if partition[nodes] == com]\n",
    "        nx.draw_networkx_nodes(G, pos, list_nodes, node_size = 20,\n",
    "                                    node_color = str(count / size))\n",
    "\n",
    "\n",
    "    nx.draw_networkx_edges(G,pos, alpha=0.5)\n",
    "    plt.show()"
   ]
  },
  {
   "cell_type": "code",
   "execution_count": 4,
   "metadata": {
    "collapsed": false
   },
   "outputs": [],
   "source": [
    "partition = community.best_partition(G)\n",
    "coms = set(partition.values())"
   ]
  },
  {
   "cell_type": "code",
   "execution_count": 6,
   "metadata": {
    "collapsed": false
   },
   "outputs": [
    {
     "ename": "ValueError",
     "evalue": "'rand_pert.py' was not found in history, as a file, url, nor in the user namespace.",
     "output_type": "error",
     "traceback": [
      "\u001b[0;31m---------------------------------------------------------------------\u001b[0m",
      "\u001b[0;31mValueError\u001b[0m                          Traceback (most recent call last)",
      "\u001b[0;32m<ipython-input-6-6a99c7eea4aa>\u001b[0m in \u001b[0;36m<module>\u001b[0;34m()\u001b[0m\n\u001b[0;32m----> 1\u001b[0;31m \u001b[0mget_ipython\u001b[0m\u001b[0;34m(\u001b[0m\u001b[0;34m)\u001b[0m\u001b[0;34m.\u001b[0m\u001b[0mmagic\u001b[0m\u001b[0;34m(\u001b[0m\u001b[0;34mu'load rand_pert.py'\u001b[0m\u001b[0;34m)\u001b[0m\u001b[0;34m\u001b[0m\u001b[0m\n\u001b[0m",
      "\u001b[0;32m/home/hdalpha/.local/lib/python2.7/site-packages/IPython/core/interactiveshell.pyc\u001b[0m in \u001b[0;36mmagic\u001b[0;34m(self, arg_s)\u001b[0m\n\u001b[1;32m   2156\u001b[0m         \u001b[0mmagic_name\u001b[0m\u001b[0;34m,\u001b[0m \u001b[0m_\u001b[0m\u001b[0;34m,\u001b[0m \u001b[0mmagic_arg_s\u001b[0m \u001b[0;34m=\u001b[0m \u001b[0marg_s\u001b[0m\u001b[0;34m.\u001b[0m\u001b[0mpartition\u001b[0m\u001b[0;34m(\u001b[0m\u001b[0;34m' '\u001b[0m\u001b[0;34m)\u001b[0m\u001b[0;34m\u001b[0m\u001b[0m\n\u001b[1;32m   2157\u001b[0m         \u001b[0mmagic_name\u001b[0m \u001b[0;34m=\u001b[0m \u001b[0mmagic_name\u001b[0m\u001b[0;34m.\u001b[0m\u001b[0mlstrip\u001b[0m\u001b[0;34m(\u001b[0m\u001b[0mprefilter\u001b[0m\u001b[0;34m.\u001b[0m\u001b[0mESC_MAGIC\u001b[0m\u001b[0;34m)\u001b[0m\u001b[0;34m\u001b[0m\u001b[0m\n\u001b[0;32m-> 2158\u001b[0;31m         \u001b[0;32mreturn\u001b[0m \u001b[0mself\u001b[0m\u001b[0;34m.\u001b[0m\u001b[0mrun_line_magic\u001b[0m\u001b[0;34m(\u001b[0m\u001b[0mmagic_name\u001b[0m\u001b[0;34m,\u001b[0m \u001b[0mmagic_arg_s\u001b[0m\u001b[0;34m)\u001b[0m\u001b[0;34m\u001b[0m\u001b[0m\n\u001b[0m\u001b[1;32m   2159\u001b[0m \u001b[0;34m\u001b[0m\u001b[0m\n\u001b[1;32m   2160\u001b[0m     \u001b[0;31m#-------------------------------------------------------------------------\u001b[0m\u001b[0;34m\u001b[0m\u001b[0;34m\u001b[0m\u001b[0m\n",
      "\u001b[0;32m/home/hdalpha/.local/lib/python2.7/site-packages/IPython/core/interactiveshell.pyc\u001b[0m in \u001b[0;36mrun_line_magic\u001b[0;34m(self, magic_name, line)\u001b[0m\n\u001b[1;32m   2077\u001b[0m                 \u001b[0mkwargs\u001b[0m\u001b[0;34m[\u001b[0m\u001b[0;34m'local_ns'\u001b[0m\u001b[0;34m]\u001b[0m \u001b[0;34m=\u001b[0m \u001b[0msys\u001b[0m\u001b[0;34m.\u001b[0m\u001b[0m_getframe\u001b[0m\u001b[0;34m(\u001b[0m\u001b[0mstack_depth\u001b[0m\u001b[0;34m)\u001b[0m\u001b[0;34m.\u001b[0m\u001b[0mf_locals\u001b[0m\u001b[0;34m\u001b[0m\u001b[0m\n\u001b[1;32m   2078\u001b[0m             \u001b[0;32mwith\u001b[0m \u001b[0mself\u001b[0m\u001b[0;34m.\u001b[0m\u001b[0mbuiltin_trap\u001b[0m\u001b[0;34m:\u001b[0m\u001b[0;34m\u001b[0m\u001b[0m\n\u001b[0;32m-> 2079\u001b[0;31m                 \u001b[0mresult\u001b[0m \u001b[0;34m=\u001b[0m \u001b[0mfn\u001b[0m\u001b[0;34m(\u001b[0m\u001b[0;34m*\u001b[0m\u001b[0margs\u001b[0m\u001b[0;34m,\u001b[0m\u001b[0;34m**\u001b[0m\u001b[0mkwargs\u001b[0m\u001b[0;34m)\u001b[0m\u001b[0;34m\u001b[0m\u001b[0m\n\u001b[0m\u001b[1;32m   2080\u001b[0m             \u001b[0;32mreturn\u001b[0m \u001b[0mresult\u001b[0m\u001b[0;34m\u001b[0m\u001b[0m\n\u001b[1;32m   2081\u001b[0m \u001b[0;34m\u001b[0m\u001b[0m\n",
      "\u001b[0;32m<decorator-gen-45>\u001b[0m in \u001b[0;36mload\u001b[0;34m(self, arg_s)\u001b[0m\n",
      "\u001b[0;32m/home/hdalpha/.local/lib/python2.7/site-packages/IPython/core/magic.pyc\u001b[0m in \u001b[0;36m<lambda>\u001b[0;34m(f, *a, **k)\u001b[0m\n\u001b[1;32m    186\u001b[0m     \u001b[0;31m# but it's overkill for just that one bit of state.\u001b[0m\u001b[0;34m\u001b[0m\u001b[0;34m\u001b[0m\u001b[0m\n\u001b[1;32m    187\u001b[0m     \u001b[0;32mdef\u001b[0m \u001b[0mmagic_deco\u001b[0m\u001b[0;34m(\u001b[0m\u001b[0marg\u001b[0m\u001b[0;34m)\u001b[0m\u001b[0;34m:\u001b[0m\u001b[0;34m\u001b[0m\u001b[0m\n\u001b[0;32m--> 188\u001b[0;31m         \u001b[0mcall\u001b[0m \u001b[0;34m=\u001b[0m \u001b[0;32mlambda\u001b[0m \u001b[0mf\u001b[0m\u001b[0;34m,\u001b[0m \u001b[0;34m*\u001b[0m\u001b[0ma\u001b[0m\u001b[0;34m,\u001b[0m \u001b[0;34m**\u001b[0m\u001b[0mk\u001b[0m\u001b[0;34m:\u001b[0m \u001b[0mf\u001b[0m\u001b[0;34m(\u001b[0m\u001b[0;34m*\u001b[0m\u001b[0ma\u001b[0m\u001b[0;34m,\u001b[0m \u001b[0;34m**\u001b[0m\u001b[0mk\u001b[0m\u001b[0;34m)\u001b[0m\u001b[0;34m\u001b[0m\u001b[0m\n\u001b[0m\u001b[1;32m    189\u001b[0m \u001b[0;34m\u001b[0m\u001b[0m\n\u001b[1;32m    190\u001b[0m         \u001b[0;32mif\u001b[0m \u001b[0mcallable\u001b[0m\u001b[0;34m(\u001b[0m\u001b[0marg\u001b[0m\u001b[0;34m)\u001b[0m\u001b[0;34m:\u001b[0m\u001b[0;34m\u001b[0m\u001b[0m\n",
      "\u001b[0;32m/home/hdalpha/.local/lib/python2.7/site-packages/IPython/core/magics/code.pyc\u001b[0m in \u001b[0;36mload\u001b[0;34m(self, arg_s)\u001b[0m\n\u001b[1;32m    348\u001b[0m         \u001b[0msearch_ns\u001b[0m \u001b[0;34m=\u001b[0m \u001b[0;34m'n'\u001b[0m \u001b[0;32min\u001b[0m \u001b[0mopts\u001b[0m\u001b[0;34m\u001b[0m\u001b[0m\n\u001b[1;32m    349\u001b[0m \u001b[0;34m\u001b[0m\u001b[0m\n\u001b[0;32m--> 350\u001b[0;31m         \u001b[0mcontents\u001b[0m \u001b[0;34m=\u001b[0m \u001b[0mself\u001b[0m\u001b[0;34m.\u001b[0m\u001b[0mshell\u001b[0m\u001b[0;34m.\u001b[0m\u001b[0mfind_user_code\u001b[0m\u001b[0;34m(\u001b[0m\u001b[0margs\u001b[0m\u001b[0;34m,\u001b[0m \u001b[0msearch_ns\u001b[0m\u001b[0;34m=\u001b[0m\u001b[0msearch_ns\u001b[0m\u001b[0;34m)\u001b[0m\u001b[0;34m\u001b[0m\u001b[0m\n\u001b[0m\u001b[1;32m    351\u001b[0m \u001b[0;34m\u001b[0m\u001b[0m\n\u001b[1;32m    352\u001b[0m         \u001b[0;32mif\u001b[0m \u001b[0;34m's'\u001b[0m \u001b[0;32min\u001b[0m \u001b[0mopts\u001b[0m\u001b[0;34m:\u001b[0m\u001b[0;34m\u001b[0m\u001b[0m\n",
      "\u001b[0;32m/home/hdalpha/.local/lib/python2.7/site-packages/IPython/core/interactiveshell.pyc\u001b[0m in \u001b[0;36mfind_user_code\u001b[0;34m(self, target, raw, py_only, skip_encoding_cookie, search_ns)\u001b[0m\n\u001b[1;32m   3183\u001b[0m         \u001b[0;32mexcept\u001b[0m \u001b[0mException\u001b[0m\u001b[0;34m:\u001b[0m\u001b[0;34m\u001b[0m\u001b[0m\n\u001b[1;32m   3184\u001b[0m             raise ValueError((\"'%s' was not found in history, as a file, url, \"\n\u001b[0;32m-> 3185\u001b[0;31m                                 \"nor in the user namespace.\") % target)\n\u001b[0m\u001b[1;32m   3186\u001b[0m \u001b[0;34m\u001b[0m\u001b[0m\n\u001b[1;32m   3187\u001b[0m         \u001b[0;32mif\u001b[0m \u001b[0misinstance\u001b[0m\u001b[0;34m(\u001b[0m\u001b[0mcodeobj\u001b[0m\u001b[0;34m,\u001b[0m \u001b[0mstring_types\u001b[0m\u001b[0;34m)\u001b[0m\u001b[0;34m:\u001b[0m\u001b[0;34m\u001b[0m\u001b[0m\n",
      "\u001b[0;31mValueError\u001b[0m: 'rand_pert.py' was not found in history, as a file, url, nor in the user namespace."
     ]
    }
   ],
   "source": [
    "%load rand_pert.py"
   ]
  },
  {
   "cell_type": "code",
   "execution_count": 7,
   "metadata": {
    "collapsed": false
   },
   "outputs": [
    {
     "name": "stdout",
     "output_type": "stream",
     "text": [
      "Populating the interactive namespace from numpy and matplotlib\n"
     ]
    },
    {
     "name": "stderr",
     "output_type": "stream",
     "text": [
      "/home/hdalpha/.local/lib/python2.7/site-packages/IPython/core/magics/pylab.py:161: UserWarning: pylab import has clobbered these variables: ['partition']\n",
      "`%matplotlib` prevents importing * from pylab and numpy\n",
      "  \"\\n`%matplotlib` prevents importing * from pylab and numpy\"\n"
     ]
    }
   ],
   "source": [
    "%pylab inline"
   ]
  },
  {
   "cell_type": "code",
   "execution_count": 8,
   "metadata": {
    "collapsed": false
   },
   "outputs": [
    {
     "ename": "ImportError",
     "evalue": "No module named rand_pert",
     "output_type": "error",
     "traceback": [
      "\u001b[0;31m---------------------------------------------------------------------\u001b[0m",
      "\u001b[0;31mImportError\u001b[0m                         Traceback (most recent call last)",
      "\u001b[0;32m<ipython-input-8-6377ab843c26>\u001b[0m in \u001b[0;36m<module>\u001b[0;34m()\u001b[0m\n\u001b[0;32m----> 1\u001b[0;31m \u001b[0;32mimport\u001b[0m \u001b[0mrand_pert\u001b[0m\u001b[0;34m\u001b[0m\u001b[0m\n\u001b[0m",
      "\u001b[0;31mImportError\u001b[0m: No module named rand_pert"
     ]
    }
   ],
   "source": [
    "import rand_pert"
   ]
  },
  {
   "cell_type": "code",
   "execution_count": 24,
   "metadata": {
    "collapsed": false
   },
   "outputs": [
    {
     "name": "stdout",
     "output_type": "stream",
     "text": [
      "('Community ', 0, ': ', [0, 1, 2, 3, 7, 9, 11, 12, 13, 17, 19, 21])\n",
      "[(0, 1), (0, 2), (0, 3), (0, 7), (0, 11), (0, 12), (0, 13), (0, 17), (0, 19), (0, 21), (1, 2), (1, 3), (1, 7), (1, 13), (1, 17), (1, 19), (1, 21), (2, 3), (2, 7), (2, 9), (2, 13), (3, 7), (3, 12), (3, 13)]\n",
      "('Community ', 1, ': ', [4, 5, 6, 10, 16])\n",
      "[(16, 5), (16, 6), (10, 4), (10, 5), (4, 6), (5, 6)]\n",
      "('Community ', 2, ': ', [8, 14, 15, 18, 20, 22, 26, 29, 30, 32, 33])\n",
      "[(32, 33), (32, 8), (32, 14), (32, 15), (32, 18), (32, 20), (32, 22), (32, 29), (32, 30), (33, 8), (33, 14), (33, 15), (33, 18), (33, 20), (33, 22), (33, 26), (33, 29), (33, 30), (8, 30), (26, 29)]\n",
      "('Community ', 3, ': ', [23, 24, 25, 27, 28, 31])\n",
      "[(23, 25), (23, 27), (24, 25), (24, 27), (24, 31), (25, 31), (28, 31)]\n"
     ]
    }
   ],
   "source": [
    "for com in coms:\n",
    "    list_nodes = [nodes for nodes in partition.keys() if partition[nodes] == com]\n",
    "    print(\"Community \", com, \": \", list_nodes)\n",
    "    G_ = nx.subgraph(G, list_nodes)\n",
    "    print(G_.edges())"
   ]
  },
  {
   "cell_type": "code",
   "execution_count": 10,
   "metadata": {
    "collapsed": false
   },
   "outputs": [
    {
     "data": {
      "text/plain": [
       "{0: 0,\n",
       " 1: 1,\n",
       " 2: 2,\n",
       " 3: 0,\n",
       " 4: 3,\n",
       " 5: 4,\n",
       " 6: 5,\n",
       " 7: 6,\n",
       " 8: 7,\n",
       " 9: 7,\n",
       " 10: 1,\n",
       " 11: 8,\n",
       " 12: 9,\n",
       " 13: 3,\n",
       " 14: 10,\n",
       " 15: 9,\n",
       " 16: 11,\n",
       " 17: 0,\n",
       " 18: 9,\n",
       " 19: 10,\n",
       " 20: 9,\n",
       " 21: 12,\n",
       " 22: 1,\n",
       " 23: 7,\n",
       " 24: 0,\n",
       " 25: 13,\n",
       " 26: 7,\n",
       " 27: 0,\n",
       " 28: 14,\n",
       " 29: 9}"
      ]
     },
     "execution_count": 10,
     "metadata": {},
     "output_type": "execute_result"
    }
   ],
   "source": [
    "partition"
   ]
  },
  {
   "cell_type": "code",
   "execution_count": null,
   "metadata": {
    "collapsed": true
   },
   "outputs": [],
   "source": []
  },
  {
   "cell_type": "code",
   "execution_count": null,
   "metadata": {
    "collapsed": true
   },
   "outputs": [],
   "source": []
  }
 ],
 "metadata": {
  "kernelspec": {
   "display_name": "Python 2",
   "language": "python",
   "name": "python2"
  },
  "language_info": {
   "codemirror_mode": {
    "name": "ipython",
    "version": 2
   },
   "file_extension": ".py",
   "mimetype": "text/x-python",
   "name": "python",
   "nbconvert_exporter": "python",
   "pygments_lexer": "ipython2",
   "version": "2.7.12"
  }
 },
 "nbformat": 4,
 "nbformat_minor": 0
}
