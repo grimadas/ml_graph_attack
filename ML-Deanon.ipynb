{
 "cells": [
  {
   "cell_type": "code",
   "execution_count": 2,
   "metadata": {
    "collapsed": false
   },
   "outputs": [
    {
     "name": "stdout",
     "output_type": "stream",
     "text": [
      "Populating the interactive namespace from numpy and matplotlib\n"
     ]
    }
   ],
   "source": [
    "%pylab inline"
   ]
  },
  {
   "cell_type": "code",
   "execution_count": 3,
   "metadata": {
    "collapsed": true
   },
   "outputs": [],
   "source": [
    "import networkx as nx\n",
    "from networkx.drawing.nx_agraph import graphviz_layout\n",
    "import random\n",
    "import sklearn as sk\n",
    "from time import time\n",
    "import pickle\n"
   ]
  },
  {
   "cell_type": "code",
   "execution_count": 3,
   "metadata": {
    "collapsed": true
   },
   "outputs": [],
   "source": [
    "face_orig = open(\"data/facebook-links.txt\") "
   ]
  },
  {
   "cell_type": "code",
   "execution_count": 4,
   "metadata": {
    "collapsed": true
   },
   "outputs": [],
   "source": [
    "f_arr = np.array(face_orig.readlines())"
   ]
  },
  {
   "cell_type": "code",
   "execution_count": 5,
   "metadata": {
    "collapsed": true
   },
   "outputs": [],
   "source": [
    "G = nx.Graph()"
   ]
  },
  {
   "cell_type": "code",
   "execution_count": 6,
   "metadata": {
    "collapsed": false
   },
   "outputs": [],
   "source": [
    "edgelist = []\n",
    "for line in f_arr: \n",
    "    i, j, time = line.split('\\t')\n",
    "    edgelist.append((int(i), int(j)))"
   ]
  },
  {
   "cell_type": "code",
   "execution_count": 7,
   "metadata": {
    "collapsed": false
   },
   "outputs": [],
   "source": [
    "G.add_edges_from(edgelist)"
   ]
  },
  {
   "cell_type": "markdown",
   "metadata": {
    "collapsed": false
   },
   "source": [
    "### Graph splitter "
   ]
  },
  {
   "cell_type": "code",
   "execution_count": 8,
   "metadata": {
    "collapsed": true
   },
   "outputs": [],
   "source": [
    "def split_graph(G, alpha_v, save_as=\"\"):\n",
    "    V = np.array(G.nodes())\n",
    "    random.shuffle(V)\n",
    "    a = int((1-alpha_v)/2 * len(V))\n",
    "    b = int(alpha_v * len(V))\n",
    "    Va = V[:a]\n",
    "    Vb =  V[a:a+b]\n",
    "    Vc =  V[a+b:2*a+b]\n",
    "    V1 = np.concatenate((Va, Vb))\n",
    "    V2 = np.concatenate((Vb, Vc))\n",
    "    G1 = G.subgraph(V1)\n",
    "    G2 = G.subgraph(V2)\n",
    "    if save_as != '': \n",
    "        nx.write_edgelist(G1, 'data/'+str(alpha_v)+save_as+'_aux.edgelist')\n",
    "        nx.write_edgelist(G2, 'data/'+str(alpha_v)+save_as+'_san.edgelist')\n",
    "    return G1, G2"
   ]
  },
  {
   "cell_type": "code",
   "execution_count": 9,
   "metadata": {
    "collapsed": false
   },
   "outputs": [],
   "source": [
    "G1, G2 = split_graph(G, 0.25)"
   ]
  },
  {
   "cell_type": "code",
   "execution_count": 11,
   "metadata": {
    "collapsed": true
   },
   "outputs": [],
   "source": [
    "## Apply anonimization"
   ]
  },
  {
   "cell_type": "code",
   "execution_count": 10,
   "metadata": {
    "collapsed": true
   },
   "outputs": [],
   "source": [
    "def anonimize(G):\n",
    "    return G"
   ]
  },
  {
   "cell_type": "code",
   "execution_count": 12,
   "metadata": {
    "collapsed": true
   },
   "outputs": [],
   "source": [
    "G_aux = anonimize(G1)\n",
    "G_san = anonimize(G2)"
   ]
  },
  {
   "cell_type": "markdown",
   "metadata": {},
   "source": [
    "### Generating training data"
   ]
  },
  {
   "cell_type": "code",
   "execution_count": 16,
   "metadata": {
    "collapsed": true
   },
   "outputs": [],
   "source": [
    "G_a1, G_a2 = split_graph(G_aux, 0.25) # aux \n",
    "G_s1, G_s2 = split_graph(G_san, 0.25) # sanitized"
   ]
  },
  {
   "cell_type": "code",
   "execution_count": null,
   "metadata": {
    "collapsed": false
   },
   "outputs": [],
   "source": []
  },
  {
   "cell_type": "code",
   "execution_count": 99,
   "metadata": {
    "collapsed": false
   },
   "outputs": [],
   "source": [
    "def deg_dist(G, n, bins, size):\n",
    "    feature_set = [0 for i in range(2*bins)]\n",
    "    _1hop = G[n]\n",
    "    _1hop = G.degree(_1hop).values()\n",
    "    for h in _1hop:\n",
    "        if h < bins*size:\n",
    "            feature_set[int(h/size)] += 1\n",
    "    _prev = set(nx.single_source_shortest_path_length(G, n, cutoff=1).keys())\n",
    "    _2hop = set(nx.single_source_shortest_path_length(G, n, cutoff=2).keys())\n",
    "    _2hop = _2hop - _prev\n",
    "    _2hop = G.degree(_2hop).values()\n",
    "    for h in _2hop:\n",
    "        if h < bins*size:\n",
    "            feature_set[bins+int(h/size)] += 1\n",
    "    return feature_set\n",
    "    \n",
    "def feature(G1, n, G2, m,  bins = 21, size = 50):\n",
    "    feature_set = [0 for i in range(4*bins)]\n",
    "    f_set = deg_dist(G1, n, bins, size)\n",
    "    for i in range(len(f_set)):\n",
    "        feature_set[i] += f_set[i]\n",
    "    f_set = deg_dist(G2, m, bins, size)\n",
    "    for i in range(len(f_set)):\n",
    "        feature_set[2*bins+i] += f_set[i]\n",
    "    # the Silhouette Coefficient \n",
    "    n_deg = G1.degree(n)\n",
    "    m_deg = G2.degree(m)\n",
    "    feature_set.append(abs(n_deg-m_deg)/max(n_deg, m_deg, 1))\n",
    "    return feature_set\n",
    "\n",
    "def fill_set(G1, G2, data, labels):\n",
    "    indx = 0\n",
    "    total = len(G1.nodes())\n",
    "    # report every 10 % \n",
    "    part = total//10\n",
    "    for i in G1.nodes():\n",
    "        if i in G2.nodes():\n",
    "            # There is an intersection\n",
    "            data.append(feature(G1, i, G2, i))\n",
    "            labels.append(1)\n",
    "        else:\n",
    "            # Choose randomly \n",
    "            j = random.choice(list(set(G2.nodes())-set([i])))\n",
    "            data.append(feature(G1, i, G2, j))\n",
    "            labels.append(0)\n",
    "        indx += 1\n",
    "        if indx % part ==0:\n",
    "            print(\"Finished : \" + str(indx/total))"
   ]
  },
  {
   "cell_type": "code",
   "execution_count": null,
   "metadata": {
    "collapsed": true
   },
   "outputs": [],
   "source": []
  },
  {
   "cell_type": "code",
   "execution_count": 93,
   "metadata": {
    "collapsed": false,
    "scrolled": true
   },
   "outputs": [
    {
     "name": "stdout",
     "output_type": "stream",
     "text": [
      "Dataset is generating ... \n",
      "Aux finished -252.8912250995636 sec\n",
      "San finished -284.2667410373688 sec\n"
     ]
    }
   ],
   "source": [
    "train_set = []\n",
    "train_labels = []\n",
    "s = time()\n",
    "print(\"Dataset is generating ... \")\n",
    "fill_set(G_a1, G_a2, train_set, train_labels)\n",
    "e = time()\n",
    "print(\"Aux finished \" + str(e-s) + \" sec\")\n",
    "s = time()\n",
    "fill_set(G_s1, G_s2, train_set, train_labels)\n",
    "e = time()\n",
    "print(\"San finished \" + str(e-s) + \" sec\")\n",
    "pickle.dump( (train_set, train_labels), open( \"data/train_face.set\", \"wb\" ) )"
   ]
  },
  {
   "cell_type": "code",
   "execution_count": 97,
   "metadata": {
    "collapsed": false
   },
   "outputs": [],
   "source": []
  },
  {
   "cell_type": "code",
   "execution_count": 100,
   "metadata": {
    "collapsed": false
   },
   "outputs": [
    {
     "name": "stdout",
     "output_type": "stream",
     "text": [
      "Dataset is generating ... \n",
      "Finished : 0.09999748939268409\n",
      "Finished : 0.19999497878536818\n",
      "Finished : 0.29999246817805225\n",
      "Finished : 0.39998995757073635\n",
      "Finished : 0.49998744696342046\n",
      "Finished : 0.5999849363561045\n",
      "Finished : 0.6999824257487887\n",
      "Finished : 0.7999799151414727\n",
      "Finished : 0.8999774045341569\n",
      "Finished : 0.9999748939268409\n",
      "Test set generated in  814.7160470485687 sec\n"
     ]
    }
   ],
   "source": [
    "test_set = []\n",
    "test_labels = []\n",
    "s = time()\n",
    "print(\"Dataset is generating ... \")\n",
    "fill_set(G_aux, G_san, test_set, test_labels)\n",
    "e = time()\n",
    "print(\"Test set generated in  \" + str(e-s) + \" sec\")\n",
    "pickle.dump( (test_set, test_labels), open( \"data/test_face.set\", \"wb\" ) )"
   ]
  },
  {
   "cell_type": "code",
   "execution_count": 101,
   "metadata": {
    "collapsed": true
   },
   "outputs": [],
   "source": []
  },
  {
   "cell_type": "code",
   "execution_count": 69,
   "metadata": {
    "collapsed": false
   },
   "outputs": [],
   "source": []
  },
  {
   "cell_type": "code",
   "execution_count": 105,
   "metadata": {
    "collapsed": false
   },
   "outputs": [],
   "source": [
    "forest = RandomForestClassifier(n_estimators = 400, n_jobs=4)"
   ]
  },
  {
   "cell_type": "code",
   "execution_count": 106,
   "metadata": {
    "collapsed": false
   },
   "outputs": [
    {
     "data": {
      "text/plain": [
       "RandomForestClassifier(bootstrap=True, class_weight=None, criterion='gini',\n",
       "            max_depth=None, max_features='auto', max_leaf_nodes=None,\n",
       "            min_samples_leaf=1, min_samples_split=2,\n",
       "            min_weight_fraction_leaf=0.0, n_estimators=400, n_jobs=4,\n",
       "            oob_score=False, random_state=None, verbose=0,\n",
       "            warm_start=False)"
      ]
     },
     "execution_count": 106,
     "metadata": {},
     "output_type": "execute_result"
    }
   ],
   "source": [
    "forest.fit(train_set, train_labels)"
   ]
  },
  {
   "cell_type": "code",
   "execution_count": 109,
   "metadata": {
    "collapsed": true
   },
   "outputs": [],
   "source": [
    "from sklearn.ensemble import AdaBoostClassifier\n",
    "from sklearn.tree import DecisionTreeClassifier"
   ]
  },
  {
   "cell_type": "code",
   "execution_count": null,
   "metadata": {
    "collapsed": false
   },
   "outputs": [],
   "source": [
    "ada = RandomForestClassifier(n_estimators = 400, n_jobs=4)"
   ]
  },
  {
   "cell_type": "code",
   "execution_count": 120,
   "metadata": {
    "collapsed": false
   },
   "outputs": [],
   "source": [
    "ada = AdaBoostClassifier(DecisionTreeClassifier(max_depth=3),\n",
    "                         n_estimators=400)"
   ]
  },
  {
   "cell_type": "code",
   "execution_count": 121,
   "metadata": {
    "collapsed": false
   },
   "outputs": [
    {
     "data": {
      "text/plain": [
       "AdaBoostClassifier(algorithm='SAMME.R',\n",
       "          base_estimator=DecisionTreeClassifier(class_weight=None, criterion='gini', max_depth=3,\n",
       "            max_features=None, max_leaf_nodes=None, min_samples_leaf=1,\n",
       "            min_samples_split=2, min_weight_fraction_leaf=0.0,\n",
       "            presort=False, random_state=None, splitter='best'),\n",
       "          learning_rate=1.0, n_estimators=400, random_state=None)"
      ]
     },
     "execution_count": 121,
     "metadata": {},
     "output_type": "execute_result"
    }
   ],
   "source": [
    "ada.fit(train_set, train_labels)"
   ]
  },
  {
   "cell_type": "code",
   "execution_count": 122,
   "metadata": {
    "collapsed": false
   },
   "outputs": [
    {
     "data": {
      "text/plain": [
       "0.81820692425497732"
      ]
     },
     "execution_count": 122,
     "metadata": {},
     "output_type": "execute_result"
    }
   ],
   "source": [
    "ada.score(test_set, test_labels)"
   ]
  },
  {
   "cell_type": "code",
   "execution_count": 107,
   "metadata": {
    "collapsed": false
   },
   "outputs": [
    {
     "data": {
      "text/plain": [
       "0.82792297456754793"
      ]
     },
     "execution_count": 107,
     "metadata": {},
     "output_type": "execute_result"
    }
   ],
   "source": [
    "forest.score(test_set, test_labels)"
   ]
  },
  {
   "cell_type": "code",
   "execution_count": 123,
   "metadata": {
    "collapsed": false
   },
   "outputs": [],
   "source": [
    "from sklearn.ensemble import GradientBoostingClassifier"
   ]
  },
  {
   "cell_type": "code",
   "execution_count": 124,
   "metadata": {
    "collapsed": true
   },
   "outputs": [],
   "source": [
    "gbc = GradientBoostingClassifier(n_estimators=100)"
   ]
  },
  {
   "cell_type": "code",
   "execution_count": 125,
   "metadata": {
    "collapsed": false
   },
   "outputs": [
    {
     "data": {
      "text/plain": [
       "0.82556300369059277"
      ]
     },
     "execution_count": 125,
     "metadata": {},
     "output_type": "execute_result"
    }
   ],
   "source": [
    "gbc.fit(train_set, train_labels)\n",
    "gbc.score(test_set, test_labels)"
   ]
  },
  {
   "cell_type": "code",
   "execution_count": 4,
   "metadata": {
    "collapsed": true
   },
   "outputs": [],
   "source": [
    "train_set, train_labels = pickle.load(open( \"data/train_face.set\", \"rb\" ) )"
   ]
  },
  {
   "cell_type": "code",
   "execution_count": 11,
   "metadata": {
    "collapsed": true
   },
   "outputs": [],
   "source": [
    "test_set,  test_labels = pickle.load(open( \"data/test_face.set\", \"rb\" ) )"
   ]
  },
  {
   "cell_type": "code",
   "execution_count": 27,
   "metadata": {
    "collapsed": false
   },
   "outputs": [
    {
     "name": "stdout",
     "output_type": "stream",
     "text": [
      "Staring gridSearch ... \n"
     ]
    },
    {
     "data": {
      "text/plain": [
       "GridSearchCV(cv=None, error_score='raise',\n",
       "       estimator=RandomForestClassifier(bootstrap=True, class_weight=None, criterion='gini',\n",
       "            max_depth=None, max_features='auto', max_leaf_nodes=None,\n",
       "            min_samples_leaf=1, min_samples_split=2,\n",
       "            min_weight_fraction_leaf=0.0, n_estimators=10, n_jobs=-1,\n",
       "            oob_score=False, random_state=None, verbose=0,\n",
       "            warm_start=False),\n",
       "       fit_params={}, iid=True, n_jobs=1,\n",
       "       param_grid={'max_features': ['auto'], 'criterion': ['gini'], 'n_estimators': [400], 'bootstrap': ['true']},\n",
       "       pre_dispatch='2*n_jobs', refit=True, scoring=None, verbose=0)"
      ]
     },
     "execution_count": 27,
     "metadata": {},
     "output_type": "execute_result"
    }
   ],
   "source": [
    "from sklearn import svm, datasets\n",
    "from sklearn.grid_search import GridSearchCV\n",
    "from sklearn.ensemble import RandomForestClassifier\n",
    "from sklearn.cross_validation import cross_val_score as cv\n",
    "\n",
    "parameters = {'criterion':['gini'], 'n_estimators':[400], 'bootstrap':['true'], 'max_features':['auto']}\n",
    "svr = RandomForestClassifier(n_jobs=-1)\n",
    "print('Staring gridSearch ... ')\n",
    "clf = GridSearchCV(svr, parameters)\n",
    "clf.fit(train_set, train_labels)"
   ]
  },
  {
   "cell_type": "code",
   "execution_count": 25,
   "metadata": {
    "collapsed": false
   },
   "outputs": [
    {
     "data": {
      "text/plain": [
       "RandomForestClassifier(bootstrap='true', class_weight=None, criterion='gini',\n",
       "            max_depth=None, max_features=None, max_leaf_nodes=None,\n",
       "            min_samples_leaf=1, min_samples_split=2,\n",
       "            min_weight_fraction_leaf=0.0, n_estimators=600, n_jobs=-1,\n",
       "            oob_score=False, random_state=None, verbose=0,\n",
       "            warm_start=False)"
      ]
     },
     "execution_count": 25,
     "metadata": {},
     "output_type": "execute_result"
    }
   ],
   "source": [
    "clf.best_estimator_"
   ]
  },
  {
   "cell_type": "code",
   "execution_count": 28,
   "metadata": {
    "collapsed": false
   },
   "outputs": [
    {
     "data": {
      "text/plain": [
       "0.82767191383595695"
      ]
     },
     "execution_count": 28,
     "metadata": {},
     "output_type": "execute_result"
    }
   ],
   "source": [
    "clf.score(test_set, test_labels)"
   ]
  },
  {
   "cell_type": "code",
   "execution_count": 54,
   "metadata": {
    "collapsed": true
   },
   "outputs": [],
   "source": [
    "from sklearn.metrics import roc_curve, auc"
   ]
  },
  {
   "cell_type": "code",
   "execution_count": 57,
   "metadata": {
    "collapsed": false
   },
   "outputs": [],
   "source": [
    "y_score = clf.predict(test_set)"
   ]
  },
  {
   "cell_type": "code",
   "execution_count": null,
   "metadata": {
    "collapsed": false
   },
   "outputs": [],
   "source": []
  },
  {
   "cell_type": "code",
   "execution_count": 66,
   "metadata": {
    "collapsed": false
   },
   "outputs": [],
   "source": [
    "y_true = test_labels\n",
    "fpr, tpr, thresholds = roc_curve(y_true, y_score[:, 1])"
   ]
  },
  {
   "cell_type": "code",
   "execution_count": 67,
   "metadata": {
    "collapsed": false
   },
   "outputs": [],
   "source": [
    "roc_auc = auc(fpr, tpr)"
   ]
  },
  {
   "cell_type": "code",
   "execution_count": 68,
   "metadata": {
    "collapsed": false
   },
   "outputs": [
    {
     "data": {
      "image/png": "[encoded data removed]",
      "text/plain": [
       "<matplotlib.figure.Figure at 0x1852c5198>"
      ]
     },
     "metadata": {},
     "output_type": "display_data"
    }
   ],
   "source": [
    "plt.title('Receiver Operating Characteristic')\n",
    "plt.plot(fpr, tpr, 'b',\n",
    "label='GS, AUC = %0.2f'% roc_auc)\n",
    "plt.legend(loc='lower right')\n",
    "plt.plot([0,1],[0,1],'r--')\n",
    "plt.xlim([-0.1,1.2])\n",
    "plt.ylim([-0.1,1.2])\n",
    "plt.ylabel('True Positive Rate')\n",
    "plt.xlabel('False Positive Rate')\n",
    "plt.show()"
   ]
  },
  {
   "cell_type": "code",
   "execution_count": null,
   "metadata": {
    "collapsed": true
   },
   "outputs": [],
   "source": []
  }
 ],
 "metadata": {
  "kernelspec": {
   "display_name": "Python 2",
   "language": "python",
   "name": "python2"
  },
  "language_info": {
   "codemirror_mode": {
    "name": "ipython",
    "version": 2
   },
   "file_extension": ".py",
   "mimetype": "text/x-python",
   "name": "python",
   "nbconvert_exporter": "python",
   "pygments_lexer": "ipython2",
   "version": "2.7.12"
  }
 },
 "nbformat": 4,
 "nbformat_minor": 1
}
