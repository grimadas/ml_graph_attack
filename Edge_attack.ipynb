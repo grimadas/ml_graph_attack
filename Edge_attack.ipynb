{
 "cells": [
  {
   "cell_type": "code",
   "execution_count": 1,
   "metadata": {
    "collapsed": false
   },
   "outputs": [
    {
     "name": "stdout",
     "output_type": "stream",
     "text": [
      "Populating the interactive namespace from numpy and matplotlib\n"
     ]
    }
   ],
   "source": [
    "%pylab inline"
   ]
  },
  {
   "cell_type": "code",
   "execution_count": 81,
   "metadata": {
    "collapsed": true
   },
   "outputs": [],
   "source": [
    "import networkx as nx\n",
    "from networkx.drawing.nx_agraph import graphviz_layout\n",
    "import random\n",
    "import sklearn as sk\n",
    "from time import time\n",
    "import pickle\n"
   ]
  },
  {
   "cell_type": "code",
   "execution_count": 3,
   "metadata": {
    "collapsed": true
   },
   "outputs": [],
   "source": [
    "face_orig = open(\"data/facebook-links.txt\") \n",
    "f_arr = np.array(face_orig.readlines())\n",
    "G = nx.Graph()\n",
    "\n",
    "edgelist = []\n",
    "for line in f_arr: \n",
    "    i, j, time = line.split('\\t')\n",
    "    edgelist.append((int(i), int(j)))\n",
    "\n",
    "G.add_edges_from(edgelist)\n"
   ]
  },
  {
   "cell_type": "code",
   "execution_count": 15,
   "metadata": {
    "collapsed": false
   },
   "outputs": [],
   "source": [
    "H = nx.Graph()"
   ]
  },
  {
   "cell_type": "code",
   "execution_count": 17,
   "metadata": {
    "collapsed": true
   },
   "outputs": [],
   "source": []
  },
  {
   "cell_type": "code",
   "execution_count": 18,
   "metadata": {
    "collapsed": false
   },
   "outputs": [
    {
     "data": {
      "text/plain": [
       "[1, 2, 3]"
      ]
     },
     "execution_count": 18,
     "metadata": {},
     "output_type": "execute_result"
    }
   ],
   "source": [
    "H.nodes()"
   ]
  },
  {
   "cell_type": "code",
   "execution_count": 19,
   "metadata": {
    "collapsed": false
   },
   "outputs": [
    {
     "data": {
      "text/plain": [
       "[(1, 2), (1, 3)]"
      ]
     },
     "execution_count": 19,
     "metadata": {},
     "output_type": "execute_result"
    }
   ],
   "source": [
    "H.edges()"
   ]
  },
  {
   "cell_type": "code",
   "execution_count": null,
   "metadata": {
    "collapsed": false
   },
   "outputs": [],
   "source": []
  },
  {
   "cell_type": "code",
   "execution_count": null,
   "metadata": {
    "collapsed": true
   },
   "outputs": [],
   "source": []
  },
  {
   "cell_type": "markdown",
   "metadata": {},
   "source": [
    "### Split the graph"
   ]
  },
  {
   "cell_type": "code",
   "execution_count": 25,
   "metadata": {
    "collapsed": true
   },
   "outputs": [],
   "source": [
    "def edge_split(G, alpha_v, save_as=\"\"):\n",
    "    V = np.array(G.edges())\n",
    "    random.shuffle(V)\n",
    "    a = int((1-alpha_v)/2 * len(V))\n",
    "    b = int(alpha_v * len(V))\n",
    "    Va = V[:a]\n",
    "    Vb =  V[a:a+b]\n",
    "    Vc =  V[a+b:2*a+b]\n",
    "    V1 = np.concatenate((Va, Vb))\n",
    "    V2 = np.concatenate((Vb, Vc))\n",
    "    G1 = nx.Graph()\n",
    "    G1.add_edges_from(V1)\n",
    "    G2 = nx.Graph()\n",
    "    G2.add_edges_from(V2)\n",
    "    if save_as != '': \n",
    "        nx.write_edgelist(G1, 'data/'+str(alpha_v)+save_as+'_aux.edgelist')\n",
    "        nx.write_edgelist(G2, 'data/'+str(alpha_v)+save_as+'_san.edgelist')\n",
    "    return G1, G2"
   ]
  },
  {
   "cell_type": "code",
   "execution_count": 26,
   "metadata": {
    "collapsed": false
   },
   "outputs": [],
   "source": [
    "G1, G2 = edge_split(G, 0.25)"
   ]
  },
  {
   "cell_type": "code",
   "execution_count": 35,
   "metadata": {
    "collapsed": false
   },
   "outputs": [],
   "source": [
    "## Apply anonimization\n",
    "def anonimize(G):\n",
    "    return G\n",
    "G_aux = anonimize(G1)\n",
    "G_san = anonimize(G2)"
   ]
  },
  {
   "cell_type": "code",
   "execution_count": null,
   "metadata": {
    "collapsed": false
   },
   "outputs": [],
   "source": []
  },
  {
   "cell_type": "code",
   "execution_count": 34,
   "metadata": {
    "collapsed": false
   },
   "outputs": [
    {
     "data": {
      "text/plain": [
       "'48277 vs 351388'"
      ]
     },
     "execution_count": 34,
     "metadata": {},
     "output_type": "execute_result"
    }
   ],
   "source": [
    "str(G2.number_of_nodes())+  ' vs '  +  str(G2.number_of_edges())"
   ]
  },
  {
   "cell_type": "markdown",
   "metadata": {},
   "source": [
    "### Train data"
   ]
  },
  {
   "cell_type": "code",
   "execution_count": 36,
   "metadata": {
    "collapsed": true
   },
   "outputs": [],
   "source": [
    "G_a1, G_a2 = edge_split(G_aux, 0.25) # aux \n",
    "G_s1, G_s2 = edge_split(G_san, 0.25) # sanitized"
   ]
  },
  {
   "cell_type": "code",
   "execution_count": 83,
   "metadata": {
    "collapsed": true
   },
   "outputs": [],
   "source": [
    "'''\n",
    " Get the histogram of degree distribution for an node 'n' in a graph 'G' \n",
    "     bins - the number of bins in the deg. distribution \n",
    "     size - size of the historgram \n",
    "'''\n",
    "def deg_dist(G, n, bins, size):\n",
    "    feature_set = [0 for i in range(2*bins)]\n",
    "    _1hop = G[n]\n",
    "    _1hop = G.degree(_1hop).values()\n",
    "    for h in _1hop:\n",
    "        if h < bins*size:\n",
    "            feature_set[int(h/size)] += 1\n",
    "    _prev = set(nx.single_source_shortest_path_length(G, n, cutoff=1).keys())\n",
    "    _2hop = set(nx.single_source_shortest_path_length(G, n, cutoff=2).keys())\n",
    "    _2hop = _2hop - _prev\n",
    "    _2hop = G.degree(_2hop).values()\n",
    "    for h in _2hop:\n",
    "        if h < bins*size:\n",
    "            feature_set[bins+int(h/size)] += 1\n",
    "    return feature_set\n",
    "\n",
    "\n",
    "''' Get the feature vector for egde e1 in graph G1\n",
    "     and e2 in graph G2.\n",
    "     1hop, 2hop deg distributions\n",
    "     + 4 Silhoutte coefficients\n",
    "'''    \n",
    "def e_feature(G1, e1, G2, e2,  bins = 21, size = 50):\n",
    "    feature_set = [0 for i in range(8*bins)]\n",
    "    for j in [0, 1]:\n",
    "        f_set = deg_dist(G1, e1[j], bins, size)\n",
    "        for i in range(len(f_set)):\n",
    "            feature_set[2*bins*j + i] += f_set[i]\n",
    "    for j in [0, 1]:\n",
    "        f_set = deg_dist(G2, e2[j], bins, size)\n",
    "        for i in range(len(f_set)):\n",
    "            feature_set[4*bins+2*bins*j + i] += f_set[i]\n",
    "    \n",
    "    # 4 Silhouette Coefficients \n",
    "    e1_deg0 = G1.degree(e1[0])\n",
    "    e1_deg1 = G1.degree(e1[1])\n",
    "    \n",
    "    e2_deg0 = G2.degree(e2[0])\n",
    "    e2_deg1 = G2.degree(e2[1])\n",
    "    \n",
    "    feature_set.append(abs(e1_deg0-e2_deg0)/max(e1_deg0, e2_deg0, 1))\n",
    "    feature_set.append(abs(e1_deg1-e2_deg1)/max(e1_deg1, e2_deg1, 1))\n",
    "    feature_set.append(abs(e1_deg0-e2_deg1)/max(e1_deg0, e2_deg1, 1))\n",
    "    feature_set.append(abs(e1_deg1-e2_deg0)/max(e1_deg1, e2_deg0, 1))\n",
    "    \n",
    "    return feature_set\n",
    "\n",
    "'''\n",
    "    Transform graph into feature vector dataset\n",
    "    G1, G2 - graphs for comparison\n",
    "'''\n",
    "def fill_set(G1, G2, data, labels, n_max=None):\n",
    "    indx = 0\n",
    "    total = len(G1.nodes())\n",
    "    # report every 10 % \n",
    "    part = total//10\n",
    "    # Add all intersections first: \n",
    "    print('Start adding positive examples')\n",
    "    common = set(G1.edges()) & set(G2.edges())\n",
    "    if n_max is None: \n",
    "        n_max = len(common)\n",
    "    common = random.sample(common, n_max)\n",
    "    indx = 0\n",
    "    for i in common: \n",
    "        data.append(e_feature(G1,i, G2, i))\n",
    "        labels.append(1)\n",
    "        indx += 1\n",
    "        if indx % int(len(common)/10) ==0:\n",
    "            print(\"Finished : \" + str(indx/len(common)))\n",
    "        \n",
    "    g1 = set(G1.edges()) - set(common)\n",
    "    g2 = set(G2.edges()) - set(common)\n",
    "    \n",
    "    # How many false results to add ? - \n",
    "    # The same size as common\n",
    "    # TODO: \n",
    "    print('Start adding false examples')\n",
    "    g1 = random.sample(g1, len(common))\n",
    "    g2 = random.sample(g2, len(common))\n",
    "    for i in range(len(g1)):\n",
    "        data.append(e_feature(G1, g1[i], G2, g2[i]))\n",
    "        labels.append(0)\n",
    "        if i % int(len(g1)/10) ==0:\n",
    "            print(\"Finished : \" + str(i/len(g1)))"
   ]
  },
  {
   "cell_type": "code",
   "execution_count": 84,
   "metadata": {
    "collapsed": false
   },
   "outputs": [
    {
     "name": "stdout",
     "output_type": "stream",
     "text": [
      "Dataset is generating ... \n",
      "Start adding positive examples\n",
      "Finished : 0.1\n",
      "Finished : 0.2\n",
      "Finished : 0.3\n",
      "Finished : 0.4\n",
      "Finished : 0.5\n",
      "Finished : 0.6\n",
      "Finished : 0.7\n",
      "Finished : 0.8\n",
      "Finished : 0.9\n",
      "Finished : 1.0\n",
      "Start adding false examples\n",
      "Finished : 0.0\n",
      "Finished : 0.1\n",
      "Finished : 0.2\n",
      "Finished : 0.3\n",
      "Finished : 0.4\n",
      "Finished : 0.5\n",
      "Finished : 0.6\n",
      "Finished : 0.7\n",
      "Finished : 0.8\n",
      "Finished : 0.9\n",
      "Aux finished 617.014741897583 sec\n",
      "Start adding positive examples\n",
      "Finished : 0.1\n",
      "Finished : 0.2\n",
      "Finished : 0.3\n",
      "Finished : 0.4\n",
      "Finished : 0.5\n",
      "Finished : 0.6\n",
      "Finished : 0.7\n",
      "Finished : 0.8\n",
      "Finished : 0.9\n",
      "Finished : 1.0\n",
      "Start adding false examples\n",
      "Finished : 0.0\n",
      "Finished : 0.1\n",
      "Finished : 0.2\n",
      "Finished : 0.3\n",
      "Finished : 0.4\n",
      "Finished : 0.5\n",
      "Finished : 0.6\n",
      "Finished : 0.7\n",
      "Finished : 0.8\n",
      "Finished : 0.9\n",
      "San finished 497.56792998313904 sec\n"
     ]
    }
   ],
   "source": [
    "# Generating train dataset: \n",
    "train_set = []\n",
    "train_labels = []\n",
    "s = time()\n",
    "print(\"Dataset is generating ... \")\n",
    "fill_set(G_a1, G_a2, train_set, train_labels, n_max=10000)\n",
    "e = time()\n",
    "print(\"Aux finished \" + str(e-s) + \" sec\")\n",
    "s = time()\n",
    "fill_set(G_s1, G_s2, train_set, train_labels, n_max=10000)\n",
    "e = time()\n",
    "print(\"San finished \" + str(e-s) + \" sec\")\n",
    "pickle.dump( (train_set, train_labels), open( \"data/train_edge_face.set\", \"wb\" ) )"
   ]
  },
  {
   "cell_type": "code",
   "execution_count": 86,
   "metadata": {
    "collapsed": true
   },
   "outputs": [],
   "source": [
    "from sklearn.ensemble import RandomForestClassifier"
   ]
  },
  {
   "cell_type": "code",
   "execution_count": 87,
   "metadata": {
    "collapsed": false
   },
   "outputs": [
    {
     "data": {
      "text/plain": [
       "RandomForestClassifier(bootstrap=True, class_weight=None, criterion='gini',\n",
       "            max_depth=None, max_features='auto', max_leaf_nodes=None,\n",
       "            min_samples_leaf=1, min_samples_split=2,\n",
       "            min_weight_fraction_leaf=0.0, n_estimators=400, n_jobs=4,\n",
       "            oob_score=False, random_state=None, verbose=0,\n",
       "            warm_start=False)"
      ]
     },
     "execution_count": 87,
     "metadata": {},
     "output_type": "execute_result"
    }
   ],
   "source": [
    "forest = RandomForestClassifier(n_estimators = 400, n_jobs=4)\n",
    "forest.fit(train_set, train_labels)"
   ]
  },
  {
   "cell_type": "code",
   "execution_count": 88,
   "metadata": {
    "collapsed": false
   },
   "outputs": [
    {
     "name": "stdout",
     "output_type": "stream",
     "text": [
      "Dataset is generating ... \n",
      "Start adding positive examples\n",
      "Finished : 0.1\n",
      "Finished : 0.2\n",
      "Finished : 0.3\n",
      "Finished : 0.4\n",
      "Finished : 0.5\n",
      "Finished : 0.6\n",
      "Finished : 0.7\n",
      "Finished : 0.8\n",
      "Finished : 0.9\n",
      "Finished : 1.0\n",
      "Start adding false examples\n",
      "Finished : 0.0\n",
      "Finished : 0.1\n",
      "Finished : 0.2\n",
      "Finished : 0.3\n",
      "Finished : 0.4\n",
      "Finished : 0.5\n",
      "Finished : 0.6\n",
      "Finished : 0.7\n",
      "Finished : 0.8\n",
      "Finished : 0.9\n",
      "Test set generated in  5003.551363945007 sec\n"
     ]
    }
   ],
   "source": [
    "test_set = []\n",
    "test_labels = []\n",
    "s = time()\n",
    "print(\"Dataset is generating ... \")\n",
    "fill_set(G_aux, G_san, test_set, test_labels, n_max=5000)\n",
    "e = time()\n",
    "print(\"Test set generated in  \" + str(e-s) + \" sec\")\n",
    "pickle.dump( (test_set, test_labels), open( \"data/test_edge_face.set\", \"wb\" ) )"
   ]
  },
  {
   "cell_type": "code",
   "execution_count": 89,
   "metadata": {
    "collapsed": false
   },
   "outputs": [
    {
     "data": {
      "text/plain": [
       "0.88649999999999995"
      ]
     },
     "execution_count": 89,
     "metadata": {},
     "output_type": "execute_result"
    }
   ],
   "source": [
    "forest.score(test_set, test_labels)"
   ]
  },
  {
   "cell_type": "code",
   "execution_count": 92,
   "metadata": {
    "collapsed": false
   },
   "outputs": [],
   "source": [
    "from sklearn.metrics import roc_curve, auc\n",
    "y_score = forest.predict_proba(test_set)\n",
    "y_true = test_labels\n",
    "fpr, tpr, thresholds = roc_curve(y_true, y_score[:, 1])\n",
    "roc_auc = auc(fpr, tpr)"
   ]
  },
  {
   "cell_type": "code",
   "execution_count": 93,
   "metadata": {
    "collapsed": false
   },
   "outputs": [
    {
     "data": {
      "image/png": "[encoded data removed]",
      "text/plain": [
       "<matplotlib.figure.Figure at 0x139cb7278>"
      ]
     },
     "metadata": {},
     "output_type": "display_data"
    }
   ],
   "source": [
    "plt.title('Receiver Operating Characteristic')\n",
    "plt.plot(fpr, tpr, 'b',\n",
    "label='GS, AUC = %0.2f'% roc_auc)\n",
    "plt.legend(loc='lower right')\n",
    "plt.plot([0,1],[0,1],'r--')\n",
    "plt.xlim([-0.1,1.2])\n",
    "plt.ylim([-0.1,1.2])\n",
    "plt.ylabel('True Positive Rate')\n",
    "plt.xlabel('False Positive Rate')\n",
    "plt.show()"
   ]
  },
  {
   "cell_type": "code",
   "execution_count": null,
   "metadata": {
    "collapsed": false
   },
   "outputs": [],
   "source": []
  },
  {
   "cell_type": "code",
   "execution_count": null,
   "metadata": {
    "collapsed": false
   },
   "outputs": [],
   "source": []
  },
  {
   "cell_type": "code",
   "execution_count": null,
   "metadata": {
    "collapsed": false
   },
   "outputs": [],
   "source": []
  },
  {
   "cell_type": "code",
   "execution_count": null,
   "metadata": {
    "collapsed": true
   },
   "outputs": [],
   "source": []
  },
  {
   "cell_type": "code",
   "execution_count": null,
   "metadata": {
    "collapsed": false
   },
   "outputs": [],
   "source": []
  },
  {
   "cell_type": "code",
   "execution_count": null,
   "metadata": {
    "collapsed": false
   },
   "outputs": [],
   "source": []
  },
  {
   "cell_type": "code",
   "execution_count": null,
   "metadata": {
    "collapsed": false
   },
   "outputs": [],
   "source": []
  },
  {
   "cell_type": "code",
   "execution_count": null,
   "metadata": {
    "collapsed": false
   },
   "outputs": [],
   "source": []
  },
  {
   "cell_type": "code",
   "execution_count": null,
   "metadata": {
    "collapsed": false
   },
   "outputs": [],
   "source": []
  },
  {
   "cell_type": "code",
   "execution_count": null,
   "metadata": {
    "collapsed": true
   },
   "outputs": [],
   "source": []
  },
  {
   "cell_type": "code",
   "execution_count": null,
   "metadata": {
    "collapsed": true
   },
   "outputs": [],
   "source": []
  }
 ],
 "metadata": {
  "kernelspec": {
   "display_name": "Python 3",
   "language": "python",
   "name": "python3"
  },
  "language_info": {
   "codemirror_mode": {
    "name": "ipython",
    "version": 3
   },
   "file_extension": ".py",
   "mimetype": "text/x-python",
   "name": "python",
   "nbconvert_exporter": "python",
   "pygments_lexer": "ipython3",
   "version": "3.4.3"
  }
 },
 "nbformat": 4,
 "nbformat_minor": 1
}
